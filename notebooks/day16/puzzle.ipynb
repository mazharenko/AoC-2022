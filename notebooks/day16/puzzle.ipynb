{
 "cells": [
  {
   "attachments": {},
   "cell_type": "markdown",
   "metadata": {
    "dotnet_interactive": {
     "language": "csharp"
    },
    "polyglot_notebook": {
     "kernelName": "csharp"
    }
   },
   "source": [
    "## Day 16: Proboscidea Volcanium\n",
    "\n",
    "[![nbviewer](https://raw.githubusercontent.com/jupyter/design/master/logos/Badges/nbviewer_badge.svg)](https://nbviewer.org/github/mazharenko/AoC-2022/tree/HEAD/notebooks/day16/puzzle.ipynb)"
   ]
  },
  {
   "cell_type": "code",
   "execution_count": 51,
   "metadata": {
    "dotnet_interactive": {
     "language": "fsharp"
    },
    "polyglot_notebook": {
     "kernelName": "fsharp"
    },
    "vscode": {
     "languageId": "polyglot-notebook"
    }
   },
   "outputs": [],
   "source": [
    "#!value --name sampleRaw\n",
    "Valve AA has flow rate=0; tunnels lead to valves DD, II, BB\n",
    "Valve BB has flow rate=13; tunnels lead to valves CC, AA\n",
    "Valve CC has flow rate=2; tunnels lead to valves DD, BB\n",
    "Valve DD has flow rate=20; tunnels lead to valves CC, AA, EE\n",
    "Valve EE has flow rate=3; tunnels lead to valves FF, DD\n",
    "Valve FF has flow rate=0; tunnels lead to valves EE, GG\n",
    "Valve GG has flow rate=0; tunnels lead to valves FF, HH\n",
    "Valve HH has flow rate=22; tunnel leads to valve GG\n",
    "Valve II has flow rate=0; tunnels lead to valves AA, JJ\n",
    "Valve JJ has flow rate=21; tunnel leads to valve II"
   ]
  },
  {
   "attachments": {},
   "cell_type": "markdown",
   "metadata": {
    "dotnet_interactive": {
     "language": "fsharp"
    },
    "polyglot_notebook": {
     "kernelName": "fsharp"
    }
   },
   "source": [
    "### Parsing"
   ]
  },
  {
   "cell_type": "code",
   "execution_count": null,
   "metadata": {
    "dotnet_interactive": {
     "language": "fsharp"
    },
    "polyglot_notebook": {
     "kernelName": "fsharp"
    },
    "vscode": {
     "languageId": "polyglot-notebook"
    }
   },
   "outputs": [
    {
     "data": {
      "text/html": [
       "<div><div></div><div><strong>Installing Packages</strong><ul><li><span>Farkle...............</span></li></ul></div><div></div></div>"
      ]
     },
     "metadata": {},
     "output_type": "display_data"
    }
   ],
   "source": [
    "#r \"nuget:Farkle, 6.3.2\"\n",
    "open Farkle\n",
    "open Farkle.Builder\n",
    "open Farkle.Builder.Regex"
   ]
  },
  {
   "cell_type": "code",
   "execution_count": null,
   "metadata": {
    "dotnet_interactive": {
     "language": "fsharp"
    },
    "polyglot_notebook": {
     "kernelName": "fsharp"
    },
    "vscode": {
     "languageId": "polyglot-notebook"
    }
   },
   "outputs": [],
   "source": [
    "type Valve = { Id : string; FlowRate: int; LeadsTo: string list }\n",
    "\n",
    "type Network = Map<string, Valve>"
   ]
  },
  {
   "cell_type": "code",
   "execution_count": null,
   "metadata": {
    "dotnet_interactive": {
     "language": "fsharp"
    },
    "polyglot_notebook": {
     "kernelName": "fsharp"
    },
    "vscode": {
     "languageId": "polyglot-notebook"
    }
   },
   "outputs": [],
   "source": [
    "#load \"../common/common.fsx\"\n",
    "\n",
    "let private valve = \n",
    "    chars Letter \n",
    "    |> atLeast 1 \n",
    "    |> terminal \"Valve\" (T(fun _ x -> x.ToString()))\n",
    "\n",
    "let private flowRate = Terminals.int \"FlowRate\"\n",
    "\n",
    "let private valveInfo = \"Info\" ||= [\n",
    "    !& \"Valve\" .>>. valve \n",
    "        .>> \"has flow rate=\" .>>. flowRate \n",
    "        .>> \"; tunnel leads to valve\" .>>. valve \n",
    "            => fun valve rate valveTo \n",
    "                -> { Id = valve; FlowRate = rate; LeadsTo = [valveTo] }\n",
    "    !& \"Valve\" .>>. valve \n",
    "        .>> \"has flow rate=\" .>>. flowRate \n",
    "        .>> \"; tunnels lead to valves\" .>>. (sepBy1 (literal \",\") valve) \n",
    "            => fun valve rate valvesTo \n",
    "                -> { Id = valve; FlowRate = rate; LeadsTo = valvesTo }\n",
    "]\n",
    "\n",
    "let parser = RuntimeFarkle.build valveInfo\n",
    "let parse = RuntimeFarkle.parseString parser >> Result.get\n"
   ]
  },
  {
   "cell_type": "code",
   "execution_count": null,
   "metadata": {
    "dotnet_interactive": {
     "language": "fsharp"
    },
    "polyglot_notebook": {
     "kernelName": "fsharp"
    },
    "vscode": {
     "languageId": "polyglot-notebook"
    }
   },
   "outputs": [],
   "source": [
    "#!share sampleRaw --from value\n",
    "\n",
    "\n",
    "let sampleNetwork = \n",
    "    Pattern1.read parse sampleRaw\n",
    "    |> Seq.map (fun x -> x.Id, x)\n",
    "    |> Map.ofSeq\n"
   ]
  },
  {
   "cell_type": "code",
   "execution_count": null,
   "metadata": {
    "dotnet_interactive": {
     "language": "fsharp"
    },
    "polyglot_notebook": {
     "kernelName": "fsharp"
    },
    "vscode": {
     "languageId": "polyglot-notebook"
    }
   },
   "outputs": [
    {
     "data": {
      "text/html": [
       "<div><div></div><div></div><div><strong>Installed Packages</strong><ul><li><span>Microsoft.DotNet.Interactive.Mermaid, 1.0.0-beta.22405.1</span></li></ul></div></div>"
      ]
     },
     "metadata": {},
     "output_type": "display_data"
    }
   ],
   "source": [
    "#r \"nuget: Microsoft.DotNet.Interactive.Mermaid,1.0.0-beta.22405.1\""
   ]
  },
  {
   "cell_type": "code",
   "execution_count": null,
   "metadata": {
    "dotnet_interactive": {
     "language": "fsharp"
    },
    "polyglot_notebook": {
     "kernelName": "fsharp"
    },
    "vscode": {
     "languageId": "polyglot-notebook"
    }
   },
   "outputs": [],
   "source": [
    "open Microsoft.DotNet.Interactive.Mermaid\n",
    "\n",
    "let toGraph (network: Network) = \n",
    "    let normalized = \n",
    "        network\n",
    "        |> Map.toSeq\n",
    "        |> Seq.collect (fun (from,v) -> v.LeadsTo |> List.map(fun to' -> from, to'))\n",
    "        |> Seq.distinctBy (fun (from, to') -> max from to', min from to')\n",
    "        |> Seq.map (fun (from, to') -> network[from],network[to'])\n",
    "    let mermaidLines = \n",
    "        normalized\n",
    "        |> Seq.map (fun (x,y) -> $\"    {x.Id}[{x.Id} {x.FlowRate}] --- {y.Id}[{y.Id} {y.FlowRate}]\")\n",
    "        |> Seq.append [|\"graph LR\"|]\n",
    "    String.Join(\"\\n\", mermaidLines)\n",
    "    |> MermaidMarkdown"
   ]
  },
  {
   "cell_type": "code",
   "execution_count": null,
   "metadata": {
    "dotnet_interactive": {
     "language": "fsharp"
    },
    "polyglot_notebook": {
     "kernelName": "fsharp"
    },
    "vscode": {
     "languageId": "polyglot-notebook"
    }
   },
   "outputs": [
    {
     "data": {
      "text/html": [
       "<div class=\"mermaidMarkdownContainer\" style=\"background-color:white\">\n",
       "<link rel=\"stylesheet\" href=\"https://cdnjs.cloudflare.com/ajax/libs/font-awesome/6.2.0/css/all.min.css\">\n",
       "<script type=\"text/javascript\">\n",
       "\r\n",
       "loadMermaid_6f8e6aa846d34d9c8bbcd72ac1a32447 = () => {\n",
       " \r\n",
       "        (require.config({ 'paths': { 'context': '9.1.7', 'mermaidUri' : 'https://cdn.jsdelivr.net/npm/mermaid@9.1.7/dist/mermaid.min', 'urlArgs': 'cacheBuster=252e4d77374c49c983fbfd89f84e062f' }}) || require)(['mermaidUri'], (mermaid) => {\n",
       "\r\n",
       "            let renderTarget = document.getElementById('6f8e6aa846d34d9c8bbcd72ac1a32447');\r\n",
       "            mermaid.mermaidAPI.render( \r\n",
       "                'mermaid_6f8e6aa846d34d9c8bbcd72ac1a32447', \r\n",
       "                `graph LR\n",
       "    AA[AA 0] --- DD[DD 20]\n",
       "    AA[AA 0] --- II[II 0]\n",
       "    AA[AA 0] --- BB[BB 13]\n",
       "    BB[BB 13] --- CC[CC 2]\n",
       "    CC[CC 2] --- DD[DD 20]\n",
       "    DD[DD 20] --- EE[EE 3]\n",
       "    EE[EE 3] --- FF[FF 0]\n",
       "    FF[FF 0] --- GG[GG 0]\n",
       "    GG[GG 0] --- HH[HH 22]\n",
       "    II[II 0] --- JJ[JJ 21]`, \r\n",
       "                g => {\r\n",
       "                    renderTarget.innerHTML = g \r\n",
       "                });\r\n",
       "        },\r\n",
       "        (error) => {\r\n",
       "            console.log(error);\r\n",
       "        });\r\n",
       "}\n",
       "// ensure `require` is available globally\r\n",
       "if ((typeof(require) !==  typeof(Function)) || (typeof(require.config) !== typeof(Function))) {\r\n",
       "    let require_script = document.createElement('script');\r\n",
       "    require_script.setAttribute('src', 'https://cdnjs.cloudflare.com/ajax/libs/require.js/2.3.6/require.min.js');\r\n",
       "    require_script.setAttribute('type', 'text/javascript');\r\n",
       "    \r\n",
       "    \r\n",
       "    require_script.onload = function() {\r\n",
       "        loadMermaid_6f8e6aa846d34d9c8bbcd72ac1a32447();\r\n",
       "    };\r\n",
       "\r\n",
       "    document.getElementsByTagName('head')[0].appendChild(require_script);\r\n",
       "}\r\n",
       "else {\r\n",
       "    loadMermaid_6f8e6aa846d34d9c8bbcd72ac1a32447();\r\n",
       "}\r\n",
       "\n",
       "</script>\n",
       "<div id=\"6f8e6aa846d34d9c8bbcd72ac1a32447\"></div>\n",
       "</div>\n"
      ]
     },
     "metadata": {},
     "output_type": "display_data"
    }
   ],
   "source": [
    "sampleNetwork |> toGraph"
   ]
  },
  {
   "cell_type": "code",
   "execution_count": null,
   "metadata": {
    "dotnet_interactive": {
     "language": "fsharp"
    },
    "polyglot_notebook": {
     "kernelName": "fsharp"
    },
    "vscode": {
     "languageId": "polyglot-notebook"
    }
   },
   "outputs": [],
   "source": [
    "#!value --name actualRaw --from-file ./data_actual.txt"
   ]
  },
  {
   "cell_type": "code",
   "execution_count": null,
   "metadata": {
    "dotnet_interactive": {
     "language": "fsharp"
    },
    "polyglot_notebook": {
     "kernelName": "fsharp"
    },
    "vscode": {
     "languageId": "polyglot-notebook"
    }
   },
   "outputs": [],
   "source": [
    "#!share actualRaw --from value\n",
    "let actualNetwork = \n",
    "    Pattern1.read parse actualRaw\n",
    "    |> Seq.map (fun x -> x.Id, x)\n",
    "    |> Map.ofSeq\n"
   ]
  },
  {
   "attachments": {},
   "cell_type": "markdown",
   "metadata": {
    "dotnet_interactive": {
     "language": "fsharp"
    },
    "polyglot_notebook": {
     "kernelName": "fsharp"
    }
   },
   "source": [
    "### Part 1\n",
    "\n",
    "This notebook relies on a breadth-first search algorithm implementation from the `bfs.fsx` script file. If no target condition was specified, or a target was not found, the algorithm returns all the paths had been gone through until the traverse process was considered no longer possible.\n",
    "\n",
    "In this problem we have a graph of something more than valves connected with tunnels. It is more like a graph of decicions taken during each minute. We are not interested in any particular final decision, but want to traverse all possible decision paths reachable in 30 minutes."
   ]
  },
  {
   "cell_type": "code",
   "execution_count": null,
   "metadata": {
    "dotnet_interactive": {
     "language": "fsharp"
    },
    "polyglot_notebook": {
     "kernelName": "fsharp"
    },
    "vscode": {
     "languageId": "polyglot-notebook"
    }
   },
   "outputs": [],
   "source": [
    "type State = { Time: int; TimeLeft: int; Network: Network; Current: Valve; Open: list<string>; Flow: int; MaxSkippedRate: int } "
   ]
  },
  {
   "attachments": {},
   "cell_type": "markdown",
   "metadata": {
    "dotnet_interactive": {
     "language": "fsharp"
    },
    "polyglot_notebook": {
     "kernelName": "fsharp"
    }
   },
   "source": [
    "In `Flow` we store the flow we will accumulate after all 30 minutes pass. `MaxSkippedRate` is going to be handy for some optimization (1) in the adjacent states generation process. The idea is that when we decide *not* to open the current valve, there is no point in opening any valve which has *lower* flow rate later on. Some other optimizations that reduce the number of possible states will be:\n",
    "\n",
    "2. It does not make sense to ramble around the cave when all the valves have been opened, even though we still have time left.\n",
    "3. It does not make sense to continue the search process when there is no time left.\n",
    "4. The number of states can be significantly reduced by skipping through zero-rate rooms."
   ]
  },
  {
   "cell_type": "code",
   "execution_count": null,
   "metadata": {
    "dotnet_interactive": {
     "language": "fsharp"
    },
    "polyglot_notebook": {
     "kernelName": "fsharp"
    },
    "vscode": {
     "languageId": "polyglot-notebook"
    }
   },
   "outputs": [],
   "source": [
    "#load \"../common/bfs.fsx\"\n",
    "open Bfs.Custom\n",
    "\n",
    "let adj : Adjacency<State> =\n",
    "    let rec adj' visited0 state =\n",
    "        if (state.TimeLeft <= 0) // 3\n",
    "        then []\n",
    "        elif ((state.Open |> List.length) = (state.Network |> Map.count)) // 2\n",
    "        then []\n",
    "        else \n",
    "        [\n",
    "            let closed = state.Current.FlowRate > 0 && (state.Open |> List.contains state.Current.Id |> not)\n",
    "            if (closed && state.Current.FlowRate <= state.MaxSkippedRate) // 1\n",
    "            then\n",
    "                yield {state with Flow = state.Flow + state.Current.FlowRate * (state.TimeLeft - 1); Open = state.Current.Id::state.Open; TimeLeft = state.TimeLeft - 1; Time = 1}\n",
    "\n",
    "            yield!\n",
    "                state.Current.LeadsTo\n",
    "                |> List.filter (fun leadsTo -> Set.contains leadsTo visited0 |> not)\n",
    "                |> List.map (fun leadsTo -> Map.find leadsTo state.Network)\n",
    "                |> List.collect(fun leadsTo ->\n",
    "                            let leadsToState = {\n",
    "                                state with MaxSkippedRate = max state.MaxSkippedRate leadsTo.FlowRate\n",
    "                                           Current = leadsTo\n",
    "                                           TimeLeft = state.TimeLeft - 1\n",
    "                            }\n",
    "                            if (leadsTo.FlowRate > 0)\n",
    "                            then [leadsToState]\n",
    "                            else // 4\n",
    "                                adj' (Set.add state.Current.Id visited0) leadsToState\n",
    "                                |> List.sortByDescending (fun x -> x.TimeLeft)\n",
    "                                |> List.distinctBy (fun x -> x.Current.Id)\n",
    "                ) |> List.map (fun leadsTo -> {leadsTo with Time = state.TimeLeft - leadsTo.TimeLeft})\n",
    "        ]\n",
    "    adj' Set.empty "
   ]
  },
  {
   "cell_type": "code",
   "execution_count": null,
   "metadata": {
    "dotnet_interactive": {
     "language": "fsharp"
    },
    "polyglot_notebook": {
     "kernelName": "fsharp"
    },
    "vscode": {
     "languageId": "polyglot-notebook"
    }
   },
   "outputs": [],
   "source": [
    "\n",
    "let target : Bfs.Custom.Target<State> =\n",
    "    fun state -> false\n",
    "    \n",
    "let settings =\n",
    "    {VisitedKey = fun state -> state.Current.Id, state.Flow, state.Open}\n",
    "\n",
    "let traverse (network:Network) (start:string) (time:int) = \n",
    "    let startValve = network[start]\n",
    "    let state = { MaxSkippedRate = 0; Time = 0; TimeLeft = time; Network = network; Current = startValve; Open = []; Flow = 0 } \n",
    "    Bfs.Custom.findPath settings { Adjacency = adj } state target \n"
   ]
  },
  {
   "cell_type": "code",
   "execution_count": null,
   "metadata": {
    "dotnet_interactive": {
     "language": "fsharp"
    },
    "polyglot_notebook": {
     "kernelName": "fsharp"
    },
    "vscode": {
     "languageId": "polyglot-notebook"
    }
   },
   "outputs": [
    {
     "data": {
      "text/html": [
       "<div class=\"dni-plaintext\"><pre>1651</pre></div><style>\r\n",
       ".dni-code-hint {\r\n",
       "    font-style: italic;\r\n",
       "    overflow: hidden;\r\n",
       "    white-space: nowrap;\r\n",
       "}\r\n",
       ".dni-treeview {\r\n",
       "    white-space: nowrap;\r\n",
       "}\r\n",
       ".dni-treeview td {\r\n",
       "    vertical-align: top;\r\n",
       "    text-align: start;\r\n",
       "}\r\n",
       "details.dni-treeview {\r\n",
       "    padding-left: 1em;\r\n",
       "}\r\n",
       "table td {\r\n",
       "    text-align: start;\r\n",
       "}\r\n",
       "table tr { \r\n",
       "    vertical-align: top; \r\n",
       "    margin: 0em 0px;\r\n",
       "}\r\n",
       "table tr td pre \r\n",
       "{ \r\n",
       "    vertical-align: top !important; \r\n",
       "    margin: 0em 0px !important;\r\n",
       "} \r\n",
       "table th {\r\n",
       "    text-align: start;\r\n",
       "}\r\n",
       "</style>"
      ]
     },
     "metadata": {},
     "output_type": "display_data"
    },
    {
     "data": {
      "text/plain": [
       "Wall time: 59.4051ms"
      ]
     },
     "metadata": {},
     "output_type": "display_data"
    }
   ],
   "source": [
    "#!time\n",
    "\n",
    "let sampleMax1 = \n",
    "    let (NotFound(states)) = traverse sampleNetwork \"AA\" 30\n",
    "    states \n",
    "    |> Seq.map List.head\n",
    "    |> Seq.map (fun s -> s.Flow)\n",
    "    |> Seq.max\n",
    "    \n",
    "sampleMax1"
   ]
  },
  {
   "cell_type": "code",
   "execution_count": null,
   "metadata": {
    "dotnet_interactive": {
     "language": "fsharp"
    },
    "polyglot_notebook": {
     "kernelName": "fsharp"
    },
    "vscode": {
     "languageId": "polyglot-notebook"
    }
   },
   "outputs": [
    {
     "data": {
      "text/html": [
       "<div class=\"dni-plaintext\"><pre>1828</pre></div><style>\r\n",
       ".dni-code-hint {\r\n",
       "    font-style: italic;\r\n",
       "    overflow: hidden;\r\n",
       "    white-space: nowrap;\r\n",
       "}\r\n",
       ".dni-treeview {\r\n",
       "    white-space: nowrap;\r\n",
       "}\r\n",
       ".dni-treeview td {\r\n",
       "    vertical-align: top;\r\n",
       "    text-align: start;\r\n",
       "}\r\n",
       "details.dni-treeview {\r\n",
       "    padding-left: 1em;\r\n",
       "}\r\n",
       "table td {\r\n",
       "    text-align: start;\r\n",
       "}\r\n",
       "table tr { \r\n",
       "    vertical-align: top; \r\n",
       "    margin: 0em 0px;\r\n",
       "}\r\n",
       "table tr td pre \r\n",
       "{ \r\n",
       "    vertical-align: top !important; \r\n",
       "    margin: 0em 0px !important;\r\n",
       "} \r\n",
       "table th {\r\n",
       "    text-align: start;\r\n",
       "}\r\n",
       "</style>"
      ]
     },
     "metadata": {},
     "output_type": "display_data"
    },
    {
     "data": {
      "text/plain": [
       "Wall time: 9203.4414ms"
      ]
     },
     "metadata": {},
     "output_type": "display_data"
    }
   ],
   "source": [
    "#!time\n",
    "\n",
    "let actualMax1 = \n",
    "    let (NotFound(states)) = traverse actualNetwork \"AA\" 30\n",
    "    states \n",
    "    |> Seq.map List.head\n",
    "    |> Seq.map (fun s -> s.Flow)\n",
    "    |> Seq.max\n",
    "\n",
    "actualMax1"
   ]
  },
  {
   "attachments": {},
   "cell_type": "markdown",
   "metadata": {
    "dotnet_interactive": {
     "language": "fsharp"
    },
    "polyglot_notebook": {
     "kernelName": "fsharp"
    }
   },
   "source": [
    "### Part 2\n",
    "\n",
    "For part two we will use the fact then the BFS implementation we rely on returns not only full paths to final states, but also incomplete paths prior to those. We can run the algorithm for one valve-opener once and then scan the cartesian square for not-intersecting open valve sets, as it would not make sense to open a valve twice.\n",
    "\n",
    "Before that, however, it can be noticed that there will be many paths to the same open valve sets. We can take only one of them, with the best flow."
   ]
  },
  {
   "cell_type": "code",
   "execution_count": null,
   "metadata": {
    "dotnet_interactive": {
     "language": "fsharp"
    },
    "polyglot_notebook": {
     "kernelName": "fsharp"
    },
    "vscode": {
     "languageId": "polyglot-notebook"
    }
   },
   "outputs": [],
   "source": [
    "let part2 network = \n",
    "    let (NotFound(states)) = traverse network \"AA\" 26\n",
    "    let best =\n",
    "        states\n",
    "        |> Seq.map List.head\n",
    "        |> Seq.sortByDescending (fun x-> x.Flow)\n",
    "        |> Seq.map (fun x -> x, x.Open |> Set.ofList)\n",
    "        |> Seq.distinctBy snd\n",
    "    let pairs = Seq.allPairs best best\n",
    "    pairs\n",
    "    |> Seq.filter(fun ((s1,open1), (s2, open2))-> Set.intersect open1 open2 |> Set.isEmpty)\n",
    "    |> Seq.map(fun ((s1,open1), (s2, open2)) -> s1.Flow + s2.Flow)\n",
    "    |> Seq.max"
   ]
  },
  {
   "cell_type": "code",
   "execution_count": null,
   "metadata": {
    "dotnet_interactive": {
     "language": "fsharp"
    },
    "polyglot_notebook": {
     "kernelName": "fsharp"
    },
    "vscode": {
     "languageId": "polyglot-notebook"
    }
   },
   "outputs": [
    {
     "data": {
      "text/html": [
       "<div class=\"dni-plaintext\"><pre>1707</pre></div><style>\r\n",
       ".dni-code-hint {\r\n",
       "    font-style: italic;\r\n",
       "    overflow: hidden;\r\n",
       "    white-space: nowrap;\r\n",
       "}\r\n",
       ".dni-treeview {\r\n",
       "    white-space: nowrap;\r\n",
       "}\r\n",
       ".dni-treeview td {\r\n",
       "    vertical-align: top;\r\n",
       "    text-align: start;\r\n",
       "}\r\n",
       "details.dni-treeview {\r\n",
       "    padding-left: 1em;\r\n",
       "}\r\n",
       "table td {\r\n",
       "    text-align: start;\r\n",
       "}\r\n",
       "table tr { \r\n",
       "    vertical-align: top; \r\n",
       "    margin: 0em 0px;\r\n",
       "}\r\n",
       "table tr td pre \r\n",
       "{ \r\n",
       "    vertical-align: top !important; \r\n",
       "    margin: 0em 0px !important;\r\n",
       "} \r\n",
       "table th {\r\n",
       "    text-align: start;\r\n",
       "}\r\n",
       "</style>"
      ]
     },
     "metadata": {},
     "output_type": "display_data"
    },
    {
     "data": {
      "text/plain": [
       "Wall time: 457.7294ms"
      ]
     },
     "metadata": {},
     "output_type": "display_data"
    }
   ],
   "source": [
    "#!time \n",
    "\n",
    "part2 sampleNetwork"
   ]
  },
  {
   "cell_type": "code",
   "execution_count": null,
   "metadata": {
    "dotnet_interactive": {
     "language": "fsharp"
    },
    "polyglot_notebook": {
     "kernelName": "fsharp"
    },
    "vscode": {
     "languageId": "polyglot-notebook"
    }
   },
   "outputs": [
    {
     "data": {
      "text/html": [
       "<div class=\"dni-plaintext\"><pre>2292</pre></div><style>\r\n",
       ".dni-code-hint {\r\n",
       "    font-style: italic;\r\n",
       "    overflow: hidden;\r\n",
       "    white-space: nowrap;\r\n",
       "}\r\n",
       ".dni-treeview {\r\n",
       "    white-space: nowrap;\r\n",
       "}\r\n",
       ".dni-treeview td {\r\n",
       "    vertical-align: top;\r\n",
       "    text-align: start;\r\n",
       "}\r\n",
       "details.dni-treeview {\r\n",
       "    padding-left: 1em;\r\n",
       "}\r\n",
       "table td {\r\n",
       "    text-align: start;\r\n",
       "}\r\n",
       "table tr { \r\n",
       "    vertical-align: top; \r\n",
       "    margin: 0em 0px;\r\n",
       "}\r\n",
       "table tr td pre \r\n",
       "{ \r\n",
       "    vertical-align: top !important; \r\n",
       "    margin: 0em 0px !important;\r\n",
       "} \r\n",
       "table th {\r\n",
       "    text-align: start;\r\n",
       "}\r\n",
       "</style>"
      ]
     },
     "metadata": {},
     "output_type": "display_data"
    },
    {
     "data": {
      "text/plain": [
       "Wall time: 22380.2628ms"
      ]
     },
     "metadata": {},
     "output_type": "display_data"
    }
   ],
   "source": [
    "#!time \n",
    "\n",
    "part2 actualNetwork"
   ]
  }
 ],
 "metadata": {
  "kernelspec": {
   "display_name": ".NET (C#)",
   "language": "C#",
   "name": ".net-csharp"
  },
  "polyglot_notebook": {
   "kernelInfo": {
    "defaultKernelName": "csharp",
    "items": [
     {
      "aliases": [
       "c#",
       "C#"
      ],
      "languageName": "C#",
      "name": "csharp"
     },
     {
      "aliases": [
       "frontend"
      ],
      "name": "vscode"
     },
     {
      "aliases": [],
      "name": ".NET"
     },
     {
      "aliases": [
       "f#",
       "F#"
      ],
      "languageName": "F#",
      "name": "fsharp"
     },
     {
      "aliases": [],
      "languageName": "HTML",
      "name": "html"
     },
     {
      "aliases": [],
      "languageName": "KQL",
      "name": "kql"
     },
     {
      "aliases": [],
      "languageName": "Mermaid",
      "name": "mermaid"
     },
     {
      "aliases": [
       "powershell"
      ],
      "languageName": "PowerShell",
      "name": "pwsh"
     },
     {
      "aliases": [],
      "languageName": "SQL",
      "name": "sql"
     },
     {
      "aliases": [],
      "name": "value"
     },
     {
      "aliases": [
       "js"
      ],
      "languageName": "JavaScript",
      "name": "javascript"
     },
     {
      "aliases": [],
      "name": "webview"
     }
    ]
   }
  }
 },
 "nbformat": 4,
 "nbformat_minor": 2
}
