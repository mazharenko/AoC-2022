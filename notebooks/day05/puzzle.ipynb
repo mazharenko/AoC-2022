{
 "cells": [
  {
   "cell_type": "markdown",
   "metadata": {
    "dotnet_interactive": {
     "language": "csharp"
    }
   },
   "source": [
    "## Day 5: Supply Stacks\n",
    "\n",
    "[![nbviewer](https://raw.githubusercontent.com/jupyter/design/master/logos/Badges/nbviewer_badge.svg)](https://nbviewer.org/github/mazharenko/AoC-2022/tree/HEAD/notebooks/day05/puzzle.ipynb)\n",
    "\n",
    "### Parsing\n",
    "\n",
    "The format of the drawing of the starting stacks is rather peculiar and it can be struggling to find the best way to parse it. \n"
   ]
  },
  {
   "cell_type": "code",
   "execution_count": 52,
   "metadata": {
    "dotnet_interactive": {
     "language": "fsharp"
    },
    "vscode": {
     "languageId": "dotnet-interactive.fsharp"
    }
   },
   "outputs": [],
   "source": [
    "#!value --name sampleRaw --from-file ./data_sample.txt"
   ]
  },
  {
   "cell_type": "code",
   "execution_count": 53,
   "metadata": {
    "dotnet_interactive": {
     "language": "fsharp"
    },
    "vscode": {
     "languageId": "dotnet-interactive.fsharp"
    }
   },
   "outputs": [
    {
     "data": {
      "text/plain": [
       "    [D]    \n",
       "[N] [C]    \n",
       "[Z] [M] [P]\n",
       " 1   2   3 \n",
       "\n",
       "move 1 from 2 to 1\n",
       "move 3 from 1 to 3\n",
       "move 2 from 2 to 1\n",
       "move 1 from 1 to 2\n"
      ]
     },
     "metadata": {},
     "output_type": "display_data"
    }
   ],
   "source": [
    "\n",
    "#!share sampleRaw --from value\n",
    "sampleRaw"
   ]
  },
  {
   "cell_type": "markdown",
   "metadata": {
    "dotnet_interactive": {
     "language": "fsharp"
    }
   },
   "source": [
    "First, we can split the two parts making use of the previously defined `Pattern2.read` function and the nominal item parsing funcion."
   ]
  },
  {
   "cell_type": "code",
   "execution_count": 54,
   "metadata": {
    "dotnet_interactive": {
     "language": "fsharp"
    },
    "vscode": {
     "languageId": "dotnet-interactive.fsharp"
    }
   },
   "outputs": [
    {
     "data": {
      "text/plain": [
       "    [D]    \n",
       "[N] [C]    \n",
       "[Z] [M] [P]\n",
       " 1   2   3 "
      ]
     },
     "metadata": {},
     "output_type": "display_data"
    }
   ],
   "source": [
    "#!share sampleRaw --from value\n",
    "#load \"../common/common.fsx\"\n",
    "\n",
    "sampleRaw |> Pattern2.read id |> Array.head"
   ]
  },
  {
   "cell_type": "markdown",
   "metadata": {
    "dotnet_interactive": {
     "language": "fsharp"
    }
   },
   "source": [
    "The `Pattern2.read` function effectively produces a jagged array, which can then be iterated upside down"
   ]
  },
  {
   "cell_type": "code",
   "execution_count": 55,
   "metadata": {
    "dotnet_interactive": {
     "language": "fsharp"
    },
    "vscode": {
     "languageId": "dotnet-interactive.fsharp"
    }
   },
   "outputs": [
    {
     "data": {
      "text/html": [
       "<table><thead><tr><th><i>index</i></th><th>value</th></tr></thead><tbody><tr><td>0</td><td><div class=\"dni-plaintext\">[  ,  ,  ,  , [, D, ],  ,  ,  ,   ]</div></td></tr><tr><td>1</td><td><div class=\"dni-plaintext\">[ [, N, ],  , [, C, ],  ,  ,  ,   ]</div></td></tr><tr><td>2</td><td><div class=\"dni-plaintext\">[ [, Z, ],  , [, M, ],  , [, P, ] ]</div></td></tr><tr><td>3</td><td><div class=\"dni-plaintext\">[  , 1,  ,  ,  , 2,  ,  ,  , 3,   ]</div></td></tr></tbody></table>"
      ]
     },
     "metadata": {},
     "output_type": "display_data"
    },
    {
     "data": {
      "text/plain": [
       " [[ 1ZN  ]]      [[[2MCD ]]]     [  3P   ]  "
      ]
     },
     "metadata": {},
     "output_type": "display_data"
    }
   ],
   "source": [
    "let linearizeStacksInput verbose input = \n",
    "    let jagged = \n",
    "        input |> Pattern1.read Seq.toArray\n",
    "\n",
    "    if (verbose) then display jagged |> ignore\n",
    "\n",
    "    [|\n",
    "        for j in 0..(Array.length jagged[0]-1) do\n",
    "            for i in (Array.length jagged - 1)..(-1)..0 do\n",
    "                yield jagged[i][j]\n",
    "    |] |> String\n",
    "\n",
    "sampleRaw\n",
    "|> Pattern2.read id \n",
    "|> Array.head\n",
    "|> linearizeStacksInput true"
   ]
  },
  {
   "cell_type": "markdown",
   "metadata": {},
   "source": [
    "The string generated this way can then simply be read with Farkle. For the types, it is reasonable to represent a stack as a LIFO `List` and make sure it is filled up in reversed order, so that for sequence `2MCD` `D` is the list head."
   ]
  },
  {
   "cell_type": "code",
   "execution_count": 56,
   "metadata": {
    "dotnet_interactive": {
     "language": "fsharp"
    },
    "vscode": {
     "languageId": "dotnet-interactive.fsharp"
    }
   },
   "outputs": [],
   "source": [
    "type Crates = char list\n",
    "type Stacks = Map<int,Crates>"
   ]
  },
  {
   "cell_type": "code",
   "execution_count": 57,
   "metadata": {
    "dotnet_interactive": {
     "language": "fsharp"
    },
    "vscode": {
     "languageId": "dotnet-interactive.fsharp"
    }
   },
   "outputs": [
    {
     "data": {
      "text/html": [
       "<div><div></div><div></div><div><strong>Installed Packages</strong><ul><li><span>Farkle, 6.5.0</span></li></ul></div></div>"
      ]
     },
     "metadata": {},
     "output_type": "display_data"
    }
   ],
   "source": [
    "#r \"nuget:Farkle, 6.5.0\""
   ]
  },
  {
   "cell_type": "code",
   "execution_count": 58,
   "metadata": {
    "dotnet_interactive": {
     "language": "fsharp"
    },
    "vscode": {
     "languageId": "dotnet-interactive.fsharp"
    }
   },
   "outputs": [
    {
     "data": {
      "text/html": [
       "<table><thead><tr><th><i>key</i></th><th>value</th></tr></thead><tbody><tr><td><div class=\"dni-plaintext\">1</div></td><td><div class=\"dni-plaintext\">[ N, Z ]</div></td></tr><tr><td><div class=\"dni-plaintext\">2</div></td><td><div class=\"dni-plaintext\">[ D, C, M ]</div></td></tr><tr><td><div class=\"dni-plaintext\">3</div></td><td><div class=\"dni-plaintext\">[ P ]</div></td></tr></tbody></table>"
      ]
     },
     "metadata": {},
     "output_type": "display_data"
    }
   ],
   "source": [
    "open Farkle\n",
    "open Farkle.Builder\n",
    "open Farkle.Builder.Regex\n",
    "\n",
    "\n",
    "let private crates = \n",
    "    chars PredefinedSets.AllLetters \n",
    "    |> atLeast 1 \n",
    "    |> terminal \"Crates\" (T(fun _ x -> x.ToArray()))\n",
    "let private number = Terminals.int \"Number\"\n",
    "let private stack = \"Stack\" ||= [\n",
    "    !@ number .>>. crates => fun stackId crates -> (stackId, crates |> Array.rev |> List.ofArray)\n",
    "]\n",
    "let stacks = nonterminal \"Stacks\"\n",
    "stacks.SetProductions(\n",
    "    !@ stack .>>. stacks => (fun (id, crates) xs -> Map.add id crates xs),\n",
    "    !@ stack => fun (id, crates) -> Map.empty |> Map.add id crates\n",
    ")\n",
    "\n",
    "let private parser = \n",
    "    stacks \n",
    "    |> DesigntimeFarkle.addNoiseSymbol \"[\" (char '[')\n",
    "    |> DesigntimeFarkle.addNoiseSymbol \"]\" (char ']')\n",
    "    |> RuntimeFarkle.build\n",
    "let parseStacks s : Stacks = \n",
    "    RuntimeFarkle.parseString parser s \n",
    "    |> Result.get\n",
    "\n",
    "parseStacks \"[[ 1ZN  ]]      [[[2MCD ]]]     [  3P   ]  \""
   ]
  },
  {
   "cell_type": "markdown",
   "metadata": {},
   "source": [
    "The second part, the one with the rearrangement procedure, is trivial for Farkle"
   ]
  },
  {
   "cell_type": "code",
   "execution_count": 59,
   "metadata": {
    "dotnet_interactive": {
     "language": "fsharp"
    },
    "vscode": {
     "languageId": "dotnet-interactive.fsharp"
    }
   },
   "outputs": [
    {
     "data": {
      "text/plain": [
       "move 1 from 2 to 1\n",
       "move 3 from 1 to 3\n",
       "move 2 from 2 to 1\n",
       "move 1 from 1 to 2\n"
      ]
     },
     "metadata": {},
     "output_type": "display_data"
    },
    {
     "data": {
      "text/html": [
       "<table><thead><tr><th><i>index</i></th><th>Count</th><th>From</th><th>To</th></tr></thead><tbody><tr><td>0</td><td><div class=\"dni-plaintext\">1</div></td><td><div class=\"dni-plaintext\">2</div></td><td><div class=\"dni-plaintext\">1</div></td></tr><tr><td>1</td><td><div class=\"dni-plaintext\">3</div></td><td><div class=\"dni-plaintext\">1</div></td><td><div class=\"dni-plaintext\">3</div></td></tr><tr><td>2</td><td><div class=\"dni-plaintext\">2</div></td><td><div class=\"dni-plaintext\">2</div></td><td><div class=\"dni-plaintext\">1</div></td></tr><tr><td>3</td><td><div class=\"dni-plaintext\">1</div></td><td><div class=\"dni-plaintext\">1</div></td><td><div class=\"dni-plaintext\">2</div></td></tr></tbody></table>"
      ]
     },
     "metadata": {},
     "output_type": "display_data"
    }
   ],
   "source": [
    "type RearrangementStep = {Count: int; From: int; To: int}\n",
    "\n",
    "let private number = Terminals.int \"Number\"\n",
    "let private step = \"Step\" ||= [\n",
    "    !& \"move\" .>>. number .>> \"from\" .>>. number .>> \"to\" .>>. number\n",
    "        => fun count from to' -> {Count = count; From = from; To = to'}\n",
    "]\n",
    "let private parser = RuntimeFarkle.build step\n",
    "let private parseStep s : RearrangementStep = \n",
    "    RuntimeFarkle.parseString parser s \n",
    "    |> Result.get\n",
    "\n",
    "let parseRearrangement s = \n",
    "    Pattern1.read parseStep s |> Array.toList\n",
    "\n",
    "sampleRaw\n",
    "|> Pattern2.read id \n",
    "|> Array.last\n",
    "|> displayPipe\n",
    "|> parseRearrangement\n"
   ]
  },
  {
   "cell_type": "markdown",
   "metadata": {},
   "source": [
    "Now, all these can be built up together in a single parsing function:"
   ]
  },
  {
   "cell_type": "code",
   "execution_count": 60,
   "metadata": {
    "dotnet_interactive": {
     "language": "fsharp"
    },
    "vscode": {
     "languageId": "dotnet-interactive.fsharp"
    }
   },
   "outputs": [
    {
     "data": {
      "text/html": [
       "<table><thead><tr><th><i>key</i></th><th>value</th></tr></thead><tbody><tr><td><div class=\"dni-plaintext\">1</div></td><td><div class=\"dni-plaintext\">[ N, Z ]</div></td></tr><tr><td><div class=\"dni-plaintext\">2</div></td><td><div class=\"dni-plaintext\">[ D, C, M ]</div></td></tr><tr><td><div class=\"dni-plaintext\">3</div></td><td><div class=\"dni-plaintext\">[ P ]</div></td></tr></tbody></table>"
      ]
     },
     "metadata": {},
     "output_type": "display_data"
    },
    {
     "data": {
      "text/html": [
       "<table><thead><tr><th><i>index</i></th><th>Count</th><th>From</th><th>To</th></tr></thead><tbody><tr><td>0</td><td><div class=\"dni-plaintext\">1</div></td><td><div class=\"dni-plaintext\">2</div></td><td><div class=\"dni-plaintext\">1</div></td></tr><tr><td>1</td><td><div class=\"dni-plaintext\">3</div></td><td><div class=\"dni-plaintext\">1</div></td><td><div class=\"dni-plaintext\">3</div></td></tr><tr><td>2</td><td><div class=\"dni-plaintext\">2</div></td><td><div class=\"dni-plaintext\">2</div></td><td><div class=\"dni-plaintext\">1</div></td></tr><tr><td>3</td><td><div class=\"dni-plaintext\">1</div></td><td><div class=\"dni-plaintext\">1</div></td><td><div class=\"dni-plaintext\">2</div></td></tr></tbody></table>"
      ]
     },
     "metadata": {},
     "output_type": "display_data"
    }
   ],
   "source": [
    "let parse input = \n",
    "    let inputSplit = Pattern2.read id input\n",
    "    let stacksInput = inputSplit[0]\n",
    "    let rearrangementInput = inputSplit[1]\n",
    "    stacksInput |> linearizeStacksInput false |> parseStacks, parseRearrangement rearrangementInput\n",
    "\n",
    "let (sampleStacks, sampleRearrangement) = parse sampleRaw\n",
    "display sampleStacks\n",
    "display sampleRearrangement"
   ]
  },
  {
   "cell_type": "code",
   "execution_count": 61,
   "metadata": {
    "dotnet_interactive": {
     "language": "fsharp"
    },
    "vscode": {
     "languageId": "dotnet-interactive.fsharp"
    }
   },
   "outputs": [],
   "source": [
    "#!value --name actualRaw --from-file ./data_actual.txt"
   ]
  },
  {
   "cell_type": "code",
   "execution_count": 62,
   "metadata": {
    "dotnet_interactive": {
     "language": "fsharp"
    },
    "vscode": {
     "languageId": "dotnet-interactive.fsharp"
    }
   },
   "outputs": [
    {
     "data": {
      "text/html": [
       "<table><thead><tr><th><i>key</i></th><th>value</th></tr></thead><tbody><tr><td><div class=\"dni-plaintext\">1</div></td><td><div class=\"dni-plaintext\">[ R, Q, G, P, C, F ]</div></td></tr><tr><td><div class=\"dni-plaintext\">2</div></td><td><div class=\"dni-plaintext\">[ P, C, T, W ]</div></td></tr><tr><td><div class=\"dni-plaintext\">3</div></td><td><div class=\"dni-plaintext\">[ C, M, P, H, B ]</div></td></tr><tr><td><div class=\"dni-plaintext\">4</div></td><td><div class=\"dni-plaintext\">[ R, P, M, S, Q, T, L ]</div></td></tr><tr><td><div class=\"dni-plaintext\">5</div></td><td><div class=\"dni-plaintext\">[ N, G, V, Z, J, H, P ]</div></td></tr><tr><td><div class=\"dni-plaintext\">6</div></td><td><div class=\"dni-plaintext\">[ J, P, D ]</div></td></tr><tr><td><div class=\"dni-plaintext\">7</div></td><td><div class=\"dni-plaintext\">[ R, T, J, F, Z, P, G, L ]</div></td></tr><tr><td><div class=\"dni-plaintext\">8</div></td><td><div class=\"dni-plaintext\">[ J, T, P, F, C, H, L, N ]</div></td></tr><tr><td><div class=\"dni-plaintext\">9</div></td><td><div class=\"dni-plaintext\">[ W, C, T, H, Q, Z, V, G ]</div></td></tr></tbody></table>"
      ]
     },
     "metadata": {},
     "output_type": "display_data"
    },
    {
     "data": {
      "text/html": [
       "<table><thead><tr><th><i>index</i></th><th>Count</th><th>From</th><th>To</th></tr></thead><tbody><tr><td>0</td><td><div class=\"dni-plaintext\">2</div></td><td><div class=\"dni-plaintext\">2</div></td><td><div class=\"dni-plaintext\">8</div></td></tr><tr><td>1</td><td><div class=\"dni-plaintext\">2</div></td><td><div class=\"dni-plaintext\">1</div></td><td><div class=\"dni-plaintext\">6</div></td></tr><tr><td>2</td><td><div class=\"dni-plaintext\">8</div></td><td><div class=\"dni-plaintext\">7</div></td><td><div class=\"dni-plaintext\">1</div></td></tr><tr><td>3</td><td><div class=\"dni-plaintext\">7</div></td><td><div class=\"dni-plaintext\">5</div></td><td><div class=\"dni-plaintext\">4</div></td></tr><tr><td>4</td><td><div class=\"dni-plaintext\">1</div></td><td><div class=\"dni-plaintext\">6</div></td><td><div class=\"dni-plaintext\">4</div></td></tr><tr><td>5</td><td><div class=\"dni-plaintext\">1</div></td><td><div class=\"dni-plaintext\">6</div></td><td><div class=\"dni-plaintext\">3</div></td></tr><tr><td>6</td><td><div class=\"dni-plaintext\">6</div></td><td><div class=\"dni-plaintext\">3</div></td><td><div class=\"dni-plaintext\">5</div></td></tr><tr><td>7</td><td><div class=\"dni-plaintext\">9</div></td><td><div class=\"dni-plaintext\">8</div></td><td><div class=\"dni-plaintext\">1</div></td></tr><tr><td>8</td><td><div class=\"dni-plaintext\">3</div></td><td><div class=\"dni-plaintext\">6</div></td><td><div class=\"dni-plaintext\">7</div></td></tr><tr><td>9</td><td><div class=\"dni-plaintext\">14</div></td><td><div class=\"dni-plaintext\">4</div></td><td><div class=\"dni-plaintext\">1</div></td></tr><tr><td>10</td><td><div class=\"dni-plaintext\">6</div></td><td><div class=\"dni-plaintext\">1</div></td><td><div class=\"dni-plaintext\">7</div></td></tr><tr><td>11</td><td><div class=\"dni-plaintext\">16</div></td><td><div class=\"dni-plaintext\">1</div></td><td><div class=\"dni-plaintext\">9</div></td></tr><tr><td>12</td><td><div class=\"dni-plaintext\">6</div></td><td><div class=\"dni-plaintext\">1</div></td><td><div class=\"dni-plaintext\">4</div></td></tr><tr><td>13</td><td><div class=\"dni-plaintext\">1</div></td><td><div class=\"dni-plaintext\">8</div></td><td><div class=\"dni-plaintext\">6</div></td></tr><tr><td>14</td><td><div class=\"dni-plaintext\">4</div></td><td><div class=\"dni-plaintext\">1</div></td><td><div class=\"dni-plaintext\">5</div></td></tr><tr><td>15</td><td><div class=\"dni-plaintext\">11</div></td><td><div class=\"dni-plaintext\">9</div></td><td><div class=\"dni-plaintext\">7</div></td></tr><tr><td>16</td><td><div class=\"dni-plaintext\">2</div></td><td><div class=\"dni-plaintext\">1</div></td><td><div class=\"dni-plaintext\">8</div></td></tr><tr><td>17</td><td><div class=\"dni-plaintext\">1</div></td><td><div class=\"dni-plaintext\">6</div></td><td><div class=\"dni-plaintext\">7</div></td></tr><tr><td>18</td><td><div class=\"dni-plaintext\">1</div></td><td><div class=\"dni-plaintext\">8</div></td><td><div class=\"dni-plaintext\">7</div></td></tr><tr><td>19</td><td><div class=\"dni-plaintext\">1</div></td><td><div class=\"dni-plaintext\">8</div></td><td><div class=\"dni-plaintext\">3</div></td></tr><tr><td colspan=\"4\"><i>... (more)</i></td></tr></tbody></table>"
      ]
     },
     "metadata": {},
     "output_type": "display_data"
    }
   ],
   "source": [
    "#!share actualRaw --from value\n",
    "\n",
    "let (actualStacks, actualRearrangement) = parse actualRaw\n",
    "\n",
    "display actualStacks\n",
    "display actualRearrangement"
   ]
  },
  {
   "cell_type": "markdown",
   "metadata": {},
   "source": [
    "### Part 1\n",
    "\n",
    "Since `Stacks` type is immutable, each rearrangement step should produce changed `Stacks`. First, the stack under the specified key must be split in two. The second part then replaces the source stack list, and the first part then prepends the target stack list. To conform with the \"one at a time\" condition, we can reverse it first."
   ]
  },
  {
   "cell_type": "code",
   "execution_count": 63,
   "metadata": {
    "dotnet_interactive": {
     "language": "fsharp"
    },
    "vscode": {
     "languageId": "dotnet-interactive.fsharp"
    }
   },
   "outputs": [],
   "source": [
    "module Part1 = \n",
    "    let execute (step : RearrangementStep) (stacks : Stacks) : Stacks = \n",
    "        let (removed, left) = List.splitAt step.Count stacks[step.From]\n",
    "        stacks\n",
    "        |> Map.change step.From (fun _ -> Some left)\n",
    "        |> Map.change step.To (\n",
    "            function \n",
    "            | None -> Some left \n",
    "            | Some toExisting -> Some ((List.rev removed) @ toExisting)\n",
    "        )"
   ]
  },
  {
   "cell_type": "markdown",
   "metadata": {},
   "source": [
    "Using the `execute` function, a rearrangement step list can be recursively applied to the initial state of Stacks, producing the target state."
   ]
  },
  {
   "cell_type": "code",
   "execution_count": 64,
   "metadata": {
    "dotnet_interactive": {
     "language": "fsharp"
    },
    "vscode": {
     "languageId": "dotnet-interactive.fsharp"
    }
   },
   "outputs": [],
   "source": [
    "let rec rearrange verbose (executeStep : RearrangementStep->Stacks->Stacks) (steps : RearrangementStep list) (stacks : Stacks) : Stacks = \n",
    "    match steps with\n",
    "    | [] -> stacks\n",
    "    | step::rest -> \n",
    "        if (verbose) then stacks |> display |> ignore\n",
    "        if (verbose) then step |> display |> ignore\n",
    "        let newStacks = executeStep step stacks\n",
    "        rearrange verbose executeStep rest newStacks\n"
   ]
  },
  {
   "cell_type": "code",
   "execution_count": 65,
   "metadata": {
    "dotnet_interactive": {
     "language": "fsharp"
    },
    "vscode": {
     "languageId": "dotnet-interactive.fsharp"
    }
   },
   "outputs": [
    {
     "data": {
      "text/html": [
       "<table><thead><tr><th><i>key</i></th><th>value</th></tr></thead><tbody><tr><td><div class=\"dni-plaintext\">1</div></td><td><div class=\"dni-plaintext\">[ N, Z ]</div></td></tr><tr><td><div class=\"dni-plaintext\">2</div></td><td><div class=\"dni-plaintext\">[ D, C, M ]</div></td></tr><tr><td><div class=\"dni-plaintext\">3</div></td><td><div class=\"dni-plaintext\">[ P ]</div></td></tr></tbody></table>"
      ]
     },
     "metadata": {},
     "output_type": "display_data"
    },
    {
     "data": {
      "text/html": [
       "<table><thead><tr><th>Count</th><th>From</th><th>To</th></tr></thead><tbody><tr><td><div class=\"dni-plaintext\">1</div></td><td><div class=\"dni-plaintext\">2</div></td><td><div class=\"dni-plaintext\">1</div></td></tr></tbody></table>"
      ]
     },
     "metadata": {},
     "output_type": "display_data"
    },
    {
     "data": {
      "text/html": [
       "<table><thead><tr><th><i>key</i></th><th>value</th></tr></thead><tbody><tr><td><div class=\"dni-plaintext\">1</div></td><td><div class=\"dni-plaintext\">[ D, N, Z ]</div></td></tr><tr><td><div class=\"dni-plaintext\">2</div></td><td><div class=\"dni-plaintext\">[ C, M ]</div></td></tr><tr><td><div class=\"dni-plaintext\">3</div></td><td><div class=\"dni-plaintext\">[ P ]</div></td></tr></tbody></table>"
      ]
     },
     "metadata": {},
     "output_type": "display_data"
    },
    {
     "data": {
      "text/html": [
       "<table><thead><tr><th>Count</th><th>From</th><th>To</th></tr></thead><tbody><tr><td><div class=\"dni-plaintext\">3</div></td><td><div class=\"dni-plaintext\">1</div></td><td><div class=\"dni-plaintext\">3</div></td></tr></tbody></table>"
      ]
     },
     "metadata": {},
     "output_type": "display_data"
    },
    {
     "data": {
      "text/html": [
       "<table><thead><tr><th><i>key</i></th><th>value</th></tr></thead><tbody><tr><td><div class=\"dni-plaintext\">1</div></td><td><div class=\"dni-plaintext\">[  ]</div></td></tr><tr><td><div class=\"dni-plaintext\">2</div></td><td><div class=\"dni-plaintext\">[ C, M ]</div></td></tr><tr><td><div class=\"dni-plaintext\">3</div></td><td><div class=\"dni-plaintext\">[ Z, N, D, P ]</div></td></tr></tbody></table>"
      ]
     },
     "metadata": {},
     "output_type": "display_data"
    },
    {
     "data": {
      "text/html": [
       "<table><thead><tr><th>Count</th><th>From</th><th>To</th></tr></thead><tbody><tr><td><div class=\"dni-plaintext\">2</div></td><td><div class=\"dni-plaintext\">2</div></td><td><div class=\"dni-plaintext\">1</div></td></tr></tbody></table>"
      ]
     },
     "metadata": {},
     "output_type": "display_data"
    },
    {
     "data": {
      "text/html": [
       "<table><thead><tr><th><i>key</i></th><th>value</th></tr></thead><tbody><tr><td><div class=\"dni-plaintext\">1</div></td><td><div class=\"dni-plaintext\">[ M, C ]</div></td></tr><tr><td><div class=\"dni-plaintext\">2</div></td><td><div class=\"dni-plaintext\">[  ]</div></td></tr><tr><td><div class=\"dni-plaintext\">3</div></td><td><div class=\"dni-plaintext\">[ Z, N, D, P ]</div></td></tr></tbody></table>"
      ]
     },
     "metadata": {},
     "output_type": "display_data"
    },
    {
     "data": {
      "text/html": [
       "<table><thead><tr><th>Count</th><th>From</th><th>To</th></tr></thead><tbody><tr><td><div class=\"dni-plaintext\">1</div></td><td><div class=\"dni-plaintext\">1</div></td><td><div class=\"dni-plaintext\">2</div></td></tr></tbody></table>"
      ]
     },
     "metadata": {},
     "output_type": "display_data"
    },
    {
     "data": {
      "text/html": [
       "<table><thead><tr><th><i>key</i></th><th>value</th></tr></thead><tbody><tr><td><div class=\"dni-plaintext\">1</div></td><td><div class=\"dni-plaintext\">[ C ]</div></td></tr><tr><td><div class=\"dni-plaintext\">2</div></td><td><div class=\"dni-plaintext\">[ M ]</div></td></tr><tr><td><div class=\"dni-plaintext\">3</div></td><td><div class=\"dni-plaintext\">[ Z, N, D, P ]</div></td></tr></tbody></table>"
      ]
     },
     "metadata": {},
     "output_type": "display_data"
    },
    {
     "data": {
      "text/plain": [
       "CMZ"
      ]
     },
     "metadata": {},
     "output_type": "display_data"
    }
   ],
   "source": [
    "let topCrates (stacks : Stacks) = \n",
    "    stacks\n",
    "    |> Map.toSeq\n",
    "    |> Seq.sortBy fst\n",
    "    |> Seq.map (snd >> List.head)\n",
    "    |> String.Concat\n",
    "\n",
    "rearrange true Part1.execute sampleRearrangement sampleStacks\n",
    "|> displayPipe\n",
    "|> topCrates"
   ]
  },
  {
   "cell_type": "markdown",
   "metadata": {},
   "source": [
    "For the actual input:"
   ]
  },
  {
   "cell_type": "code",
   "execution_count": 66,
   "metadata": {
    "dotnet_interactive": {
     "language": "fsharp"
    },
    "vscode": {
     "languageId": "dotnet-interactive.fsharp"
    }
   },
   "outputs": [
    {
     "data": {
      "text/html": [
       "<table><thead><tr><th><i>key</i></th><th>value</th></tr></thead><tbody><tr><td><div class=\"dni-plaintext\">1</div></td><td><div class=\"dni-plaintext\">[ R, Q, G, P, C, F ]</div></td></tr><tr><td><div class=\"dni-plaintext\">2</div></td><td><div class=\"dni-plaintext\">[ P, C, T, W ]</div></td></tr><tr><td><div class=\"dni-plaintext\">3</div></td><td><div class=\"dni-plaintext\">[ C, M, P, H, B ]</div></td></tr><tr><td><div class=\"dni-plaintext\">4</div></td><td><div class=\"dni-plaintext\">[ R, P, M, S, Q, T, L ]</div></td></tr><tr><td><div class=\"dni-plaintext\">5</div></td><td><div class=\"dni-plaintext\">[ N, G, V, Z, J, H, P ]</div></td></tr><tr><td><div class=\"dni-plaintext\">6</div></td><td><div class=\"dni-plaintext\">[ J, P, D ]</div></td></tr><tr><td><div class=\"dni-plaintext\">7</div></td><td><div class=\"dni-plaintext\">[ R, T, J, F, Z, P, G, L ]</div></td></tr><tr><td><div class=\"dni-plaintext\">8</div></td><td><div class=\"dni-plaintext\">[ J, T, P, F, C, H, L, N ]</div></td></tr><tr><td><div class=\"dni-plaintext\">9</div></td><td><div class=\"dni-plaintext\">[ W, C, T, H, Q, Z, V, G ]</div></td></tr></tbody></table>"
      ]
     },
     "metadata": {},
     "output_type": "display_data"
    },
    {
     "data": {
      "text/html": [
       "<table><thead><tr><th><i>key</i></th><th>value</th></tr></thead><tbody><tr><td><div class=\"dni-plaintext\">1</div></td><td><div class=\"dni-plaintext\">[ D, Q ]</div></td></tr><tr><td><div class=\"dni-plaintext\">2</div></td><td><div class=\"dni-plaintext\">[ H, M, H, F, P, W, R, P, T, P, C, T ]</div></td></tr><tr><td><div class=\"dni-plaintext\">3</div></td><td><div class=\"dni-plaintext\">[ B, C ]</div></td></tr><tr><td><div class=\"dni-plaintext\">4</div></td><td><div class=\"dni-plaintext\">[ J, T ]</div></td></tr><tr><td><div class=\"dni-plaintext\">5</div></td><td><div class=\"dni-plaintext\">[ Q, F, V, P, G, G, F, N, J, J, H, L, R, Z, H, G, T ]</div></td></tr><tr><td><div class=\"dni-plaintext\">6</div></td><td><div class=\"dni-plaintext\">[ J ]</div></td></tr><tr><td><div class=\"dni-plaintext\">7</div></td><td><div class=\"dni-plaintext\">[ C, V, Z, Q ]</div></td></tr><tr><td><div class=\"dni-plaintext\">8</div></td><td><div class=\"dni-plaintext\">[ C, P, N, G, M, L, L, C, Z, T, P, P, P ]</div></td></tr><tr><td><div class=\"dni-plaintext\">9</div></td><td><div class=\"dni-plaintext\">[ W, R, S ]</div></td></tr></tbody></table>"
      ]
     },
     "metadata": {},
     "output_type": "display_data"
    },
    {
     "data": {
      "text/plain": [
       "DHBJQJCCW"
      ]
     },
     "metadata": {},
     "output_type": "display_data"
    }
   ],
   "source": [
    "actualStacks |> display\n",
    "\n",
    "rearrange false Part1.execute actualRearrangement actualStacks\n",
    "|> displayPipe\n",
    "|> topCrates"
   ]
  },
  {
   "cell_type": "markdown",
   "metadata": {},
   "source": [
    "### Part 2\n",
    "\n",
    "Crates are moved just like for Part 1, save for the List reversal."
   ]
  },
  {
   "cell_type": "code",
   "execution_count": 67,
   "metadata": {
    "dotnet_interactive": {
     "language": "fsharp"
    },
    "vscode": {
     "languageId": "dotnet-interactive.fsharp"
    }
   },
   "outputs": [],
   "source": [
    "module Part2 = \n",
    "    let execute (step : RearrangementStep) (stacks : Stacks) : Stacks = \n",
    "        let (removed, left) = List.splitAt step.Count stacks[step.From]\n",
    "        stacks\n",
    "        |> Map.change step.From (fun _ -> Some left)\n",
    "        |> Map.change step.To (\n",
    "            function \n",
    "            | None -> Some left \n",
    "            | Some toExisting -> Some (removed @ toExisting)\n",
    "        )"
   ]
  },
  {
   "cell_type": "code",
   "execution_count": 68,
   "metadata": {
    "dotnet_interactive": {
     "language": "fsharp"
    },
    "vscode": {
     "languageId": "dotnet-interactive.fsharp"
    }
   },
   "outputs": [
    {
     "data": {
      "text/html": [
       "<table><thead><tr><th><i>key</i></th><th>value</th></tr></thead><tbody><tr><td><div class=\"dni-plaintext\">1</div></td><td><div class=\"dni-plaintext\">[ N, Z ]</div></td></tr><tr><td><div class=\"dni-plaintext\">2</div></td><td><div class=\"dni-plaintext\">[ D, C, M ]</div></td></tr><tr><td><div class=\"dni-plaintext\">3</div></td><td><div class=\"dni-plaintext\">[ P ]</div></td></tr></tbody></table>"
      ]
     },
     "metadata": {},
     "output_type": "display_data"
    },
    {
     "data": {
      "text/html": [
       "<table><thead><tr><th>Count</th><th>From</th><th>To</th></tr></thead><tbody><tr><td><div class=\"dni-plaintext\">1</div></td><td><div class=\"dni-plaintext\">2</div></td><td><div class=\"dni-plaintext\">1</div></td></tr></tbody></table>"
      ]
     },
     "metadata": {},
     "output_type": "display_data"
    },
    {
     "data": {
      "text/html": [
       "<table><thead><tr><th><i>key</i></th><th>value</th></tr></thead><tbody><tr><td><div class=\"dni-plaintext\">1</div></td><td><div class=\"dni-plaintext\">[ D, N, Z ]</div></td></tr><tr><td><div class=\"dni-plaintext\">2</div></td><td><div class=\"dni-plaintext\">[ C, M ]</div></td></tr><tr><td><div class=\"dni-plaintext\">3</div></td><td><div class=\"dni-plaintext\">[ P ]</div></td></tr></tbody></table>"
      ]
     },
     "metadata": {},
     "output_type": "display_data"
    },
    {
     "data": {
      "text/html": [
       "<table><thead><tr><th>Count</th><th>From</th><th>To</th></tr></thead><tbody><tr><td><div class=\"dni-plaintext\">3</div></td><td><div class=\"dni-plaintext\">1</div></td><td><div class=\"dni-plaintext\">3</div></td></tr></tbody></table>"
      ]
     },
     "metadata": {},
     "output_type": "display_data"
    },
    {
     "data": {
      "text/html": [
       "<table><thead><tr><th><i>key</i></th><th>value</th></tr></thead><tbody><tr><td><div class=\"dni-plaintext\">1</div></td><td><div class=\"dni-plaintext\">[  ]</div></td></tr><tr><td><div class=\"dni-plaintext\">2</div></td><td><div class=\"dni-plaintext\">[ C, M ]</div></td></tr><tr><td><div class=\"dni-plaintext\">3</div></td><td><div class=\"dni-plaintext\">[ D, N, Z, P ]</div></td></tr></tbody></table>"
      ]
     },
     "metadata": {},
     "output_type": "display_data"
    },
    {
     "data": {
      "text/html": [
       "<table><thead><tr><th>Count</th><th>From</th><th>To</th></tr></thead><tbody><tr><td><div class=\"dni-plaintext\">2</div></td><td><div class=\"dni-plaintext\">2</div></td><td><div class=\"dni-plaintext\">1</div></td></tr></tbody></table>"
      ]
     },
     "metadata": {},
     "output_type": "display_data"
    },
    {
     "data": {
      "text/html": [
       "<table><thead><tr><th><i>key</i></th><th>value</th></tr></thead><tbody><tr><td><div class=\"dni-plaintext\">1</div></td><td><div class=\"dni-plaintext\">[ C, M ]</div></td></tr><tr><td><div class=\"dni-plaintext\">2</div></td><td><div class=\"dni-plaintext\">[  ]</div></td></tr><tr><td><div class=\"dni-plaintext\">3</div></td><td><div class=\"dni-plaintext\">[ D, N, Z, P ]</div></td></tr></tbody></table>"
      ]
     },
     "metadata": {},
     "output_type": "display_data"
    },
    {
     "data": {
      "text/html": [
       "<table><thead><tr><th>Count</th><th>From</th><th>To</th></tr></thead><tbody><tr><td><div class=\"dni-plaintext\">1</div></td><td><div class=\"dni-plaintext\">1</div></td><td><div class=\"dni-plaintext\">2</div></td></tr></tbody></table>"
      ]
     },
     "metadata": {},
     "output_type": "display_data"
    },
    {
     "data": {
      "text/html": [
       "<table><thead><tr><th><i>key</i></th><th>value</th></tr></thead><tbody><tr><td><div class=\"dni-plaintext\">1</div></td><td><div class=\"dni-plaintext\">[ M ]</div></td></tr><tr><td><div class=\"dni-plaintext\">2</div></td><td><div class=\"dni-plaintext\">[ C ]</div></td></tr><tr><td><div class=\"dni-plaintext\">3</div></td><td><div class=\"dni-plaintext\">[ D, N, Z, P ]</div></td></tr></tbody></table>"
      ]
     },
     "metadata": {},
     "output_type": "display_data"
    },
    {
     "data": {
      "text/plain": [
       "MCD"
      ]
     },
     "metadata": {},
     "output_type": "display_data"
    }
   ],
   "source": [
    "\n",
    "rearrange true Part2.execute sampleRearrangement sampleStacks\n",
    "|> displayPipe\n",
    "|> topCrates"
   ]
  },
  {
   "cell_type": "markdown",
   "metadata": {},
   "source": [
    "For the actual input:"
   ]
  },
  {
   "cell_type": "code",
   "execution_count": 69,
   "metadata": {
    "dotnet_interactive": {
     "language": "fsharp"
    },
    "vscode": {
     "languageId": "dotnet-interactive.fsharp"
    }
   },
   "outputs": [
    {
     "data": {
      "text/html": [
       "<table><thead><tr><th><i>key</i></th><th>value</th></tr></thead><tbody><tr><td><div class=\"dni-plaintext\">1</div></td><td><div class=\"dni-plaintext\">[ R, Q, G, P, C, F ]</div></td></tr><tr><td><div class=\"dni-plaintext\">2</div></td><td><div class=\"dni-plaintext\">[ P, C, T, W ]</div></td></tr><tr><td><div class=\"dni-plaintext\">3</div></td><td><div class=\"dni-plaintext\">[ C, M, P, H, B ]</div></td></tr><tr><td><div class=\"dni-plaintext\">4</div></td><td><div class=\"dni-plaintext\">[ R, P, M, S, Q, T, L ]</div></td></tr><tr><td><div class=\"dni-plaintext\">5</div></td><td><div class=\"dni-plaintext\">[ N, G, V, Z, J, H, P ]</div></td></tr><tr><td><div class=\"dni-plaintext\">6</div></td><td><div class=\"dni-plaintext\">[ J, P, D ]</div></td></tr><tr><td><div class=\"dni-plaintext\">7</div></td><td><div class=\"dni-plaintext\">[ R, T, J, F, Z, P, G, L ]</div></td></tr><tr><td><div class=\"dni-plaintext\">8</div></td><td><div class=\"dni-plaintext\">[ J, T, P, F, C, H, L, N ]</div></td></tr><tr><td><div class=\"dni-plaintext\">9</div></td><td><div class=\"dni-plaintext\">[ W, C, T, H, Q, Z, V, G ]</div></td></tr></tbody></table>"
      ]
     },
     "metadata": {},
     "output_type": "display_data"
    },
    {
     "data": {
      "text/html": [
       "<table><thead><tr><th><i>key</i></th><th>value</th></tr></thead><tbody><tr><td><div class=\"dni-plaintext\">1</div></td><td><div class=\"dni-plaintext\">[ W, G ]</div></td></tr><tr><td><div class=\"dni-plaintext\">2</div></td><td><div class=\"dni-plaintext\">[ J, P, P, W, C, C, M, P, N, C, Z, P ]</div></td></tr><tr><td><div class=\"dni-plaintext\">3</div></td><td><div class=\"dni-plaintext\">[ V, G ]</div></td></tr><tr><td><div class=\"dni-plaintext\">4</div></td><td><div class=\"dni-plaintext\">[ R, H ]</div></td></tr><tr><td><div class=\"dni-plaintext\">5</div></td><td><div class=\"dni-plaintext\">[ L, M, T, R, N, H, Z, T, P, D, F, Z, C, F, R, P, G ]</div></td></tr><tr><td><div class=\"dni-plaintext\">6</div></td><td><div class=\"dni-plaintext\">[ S ]</div></td></tr><tr><td><div class=\"dni-plaintext\">7</div></td><td><div class=\"dni-plaintext\">[ J, F, L, P ]</div></td></tr><tr><td><div class=\"dni-plaintext\">8</div></td><td><div class=\"dni-plaintext\">[ J, B, J, H, T, V, P, Q, H, C, Q, L, T ]</div></td></tr><tr><td><div class=\"dni-plaintext\">9</div></td><td><div class=\"dni-plaintext\">[ T, G, Q ]</div></td></tr></tbody></table>"
      ]
     },
     "metadata": {},
     "output_type": "display_data"
    },
    {
     "data": {
      "text/plain": [
       "WJVRLSJJT"
      ]
     },
     "metadata": {},
     "output_type": "display_data"
    }
   ],
   "source": [
    "actualStacks |> display\n",
    "\n",
    "rearrange false Part2.execute actualRearrangement actualStacks\n",
    "|> displayPipe\n",
    "|> topCrates"
   ]
  }
 ],
 "metadata": {
  "kernelspec": {
   "display_name": ".NET (C#)",
   "language": "C#",
   "name": ".net-csharp"
  },
  "language_info": {
   "file_extension": ".cs",
   "mimetype": "text/x-csharp",
   "name": "C#",
   "pygments_lexer": "csharp",
   "version": "9.0"
  },
  "orig_nbformat": 4
 },
 "nbformat": 4,
 "nbformat_minor": 2
}
