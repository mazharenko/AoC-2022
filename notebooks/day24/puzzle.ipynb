{
 "cells": [
  {
   "attachments": {},
   "cell_type": "markdown",
   "metadata": {
    "dotnet_interactive": {
     "language": "csharp"
    },
    "polyglot_notebook": {
     "kernelName": "csharp"
    }
   },
   "source": [
    "## Day 24: Blizzard Basin\n",
    "\n",
    "[![nbviewer](https://raw.githubusercontent.com/jupyter/design/master/logos/Badges/nbviewer_badge.svg)](https://nbviewer.org/github/mazharenko/AoC-2022/tree/HEAD/notebooks/day/puzzle24.ipynb)"
   ]
  },
  {
   "attachments": {},
   "cell_type": "markdown",
   "metadata": {
    "dotnet_interactive": {
     "language": "csharp"
    },
    "polyglot_notebook": {
     "kernelName": "csharp"
    }
   },
   "source": [
    "### Part 1"
   ]
  },
  {
   "cell_type": "code",
   "execution_count": 93,
   "metadata": {
    "dotnet_interactive": {
     "language": "fsharp"
    },
    "polyglot_notebook": {
     "kernelName": "fsharp"
    },
    "vscode": {
     "languageId": "polyglot-notebook"
    }
   },
   "outputs": [],
   "source": [
    "#!value --name sampleRaw \n",
    "#.######\n",
    "#>>.<^<#\n",
    "#.<..<<#\n",
    "#>v.><>#\n",
    "#<^v^^>#\n",
    "######.#"
   ]
  },
  {
   "cell_type": "code",
   "execution_count": 94,
   "metadata": {
    "dotnet_interactive": {
     "language": "fsharp"
    },
    "polyglot_notebook": {
     "kernelName": "fsharp"
    },
    "vscode": {
     "languageId": "polyglot-notebook"
    }
   },
   "outputs": [],
   "source": [
    "#load \"../common/common.fsx\"\n",
    "open System.Collections.Generic\n",
    "\n",
    "type Facing = Point\n",
    "\n",
    "type Blizzard = {Coordinates: Point; Facing: Facing; }\n",
    "\n",
    "type Blizzards = {Map: Dictionary<Point, Blizzard array>; Min: Point; Max: Point}\n",
    "with member this.Size = this.Max - this.Min + Point(1,1)\n",
    "     member this.InRange (p : Point) = \n",
    "            Point.x p >= Point.x this.Min\n",
    "            && Point.x p <= Point.x this.Max\n",
    "            && Point.y p >= Point.y this.Min\n",
    "            && Point.y p <= Point.y this.Max\n",
    "\n",
    "let down : Facing = Point (1,0)\n",
    "let up : Facing = Point (-1,0)\n",
    "let right : Facing = Point (0,1)\n",
    "let left : Facing = Point (0,-1)"
   ]
  },
  {
   "cell_type": "code",
   "execution_count": 95,
   "metadata": {
    "dotnet_interactive": {
     "language": "fsharp"
    },
    "polyglot_notebook": {
     "kernelName": "fsharp"
    },
    "vscode": {
     "languageId": "polyglot-notebook"
    }
   },
   "outputs": [],
   "source": [
    "let parse s = \n",
    "    let m = \n",
    "        Pattern1.read Seq.toArray s\n",
    "        |> array2D\n",
    "    let dic = \n",
    "        m\n",
    "        |> Array2D.indexed\n",
    "        |> Array2D.toSeq\n",
    "        |> Seq.choose (fun (p,c) -> \n",
    "            match c with \n",
    "            | '>' -> Some (p,right)\n",
    "            | 'v' -> Some (p,down)\n",
    "            | '<'-> Some (p,left)\n",
    "            | '^' -> Some (p,up)\n",
    "            | _ -> None \n",
    "        )\n",
    "        |> Seq.map (fun (p, v) -> KeyValuePair.Create(Point p, Array.singleton {Coordinates = Point p; Facing = v}))\n",
    "        |> Dictionary<_, _>\n",
    "    { Map = dic; Min = Point(1,1); Max = Point(Array2D.length1 m - 2, Array2D.length2 m - 2) }\n"
   ]
  },
  {
   "cell_type": "code",
   "execution_count": 96,
   "metadata": {
    "dotnet_interactive": {
     "language": "fsharp"
    },
    "polyglot_notebook": {
     "kernelName": "fsharp"
    },
    "vscode": {
     "languageId": "polyglot-notebook"
    }
   },
   "outputs": [],
   "source": [
    "#!share sampleRaw --from value\n",
    "\n",
    "let sampleBlizzards = parse sampleRaw"
   ]
  },
  {
   "attachments": {},
   "cell_type": "markdown",
   "metadata": {
    "dotnet_interactive": {
     "language": "fsharp"
    },
    "polyglot_notebook": {
     "kernelName": "fsharp"
    }
   },
   "source": [
    "To model wind we make use of the previously defined Euclidean remainder operator `%%` and just build a new dictionary."
   ]
  },
  {
   "cell_type": "code",
   "execution_count": 97,
   "metadata": {
    "dotnet_interactive": {
     "language": "fsharp"
    },
    "polyglot_notebook": {
     "kernelName": "fsharp"
    },
    "vscode": {
     "languageId": "polyglot-notebook"
    }
   },
   "outputs": [],
   "source": [
    "let wind' blizzards = \n",
    "    let bs = blizzards.Map.Values |> Seq.collect id\n",
    "    let zero = blizzards.Min\n",
    "    let size = blizzards.Size\n",
    "    let pmod (Point(mx,my)) (Point(x,y)) = \n",
    "        Point(x %% mx, y %% my)\n",
    "    let newMap = \n",
    "        bs |> Seq.map (fun b ->\n",
    "            let newCoordinates = b.Coordinates + b.Facing\n",
    "            {\n",
    "                Coordinates = ((newCoordinates - zero) |> pmod size) + zero \n",
    "                Facing = b.Facing\n",
    "            }\n",
    "        )\n",
    "        |> Seq.group (fun b -> b.Coordinates) Seq.toArray\n",
    "        |> Seq.map (KeyValuePair.Create)\n",
    "        |> Dictionary<_, _>\n",
    "    {blizzards with Map = newMap}"
   ]
  },
  {
   "attachments": {},
   "cell_type": "markdown",
   "metadata": {
    "dotnet_interactive": {
     "language": "fsharp"
    },
    "polyglot_notebook": {
     "kernelName": "fsharp"
    }
   },
   "source": [
    "However, considering the blizzards state at some moment of time, it is worth noting that the state is going to repeat every $\\mathrm{LCM} \\left(width, height \\right)$ steps. The code below relies on funcions `memoize`, `lcm` from the `common.fsx` script.\n",
    "\n",
    "A memoized function is available via the generator function `wind()` to make the cache controllable."
   ]
  },
  {
   "cell_type": "code",
   "execution_count": 98,
   "metadata": {
    "dotnet_interactive": {
     "language": "fsharp"
    },
    "polyglot_notebook": {
     "kernelName": "fsharp"
    },
    "vscode": {
     "languageId": "polyglot-notebook"
    }
   },
   "outputs": [],
   "source": [
    "type State = { Blizzards : Blizzards; Position : Point; Step : int }\n",
    "\n",
    "let windF() = \n",
    "    memoize \n",
    "        (fun state -> wind' state.Blizzards) \n",
    "        (fun state -> state.Step % lcm (Point.x state.Blizzards.Size) (Point.y state.Blizzards.Size))\n"
   ]
  },
  {
   "attachments": {},
   "cell_type": "markdown",
   "metadata": {
    "dotnet_interactive": {
     "language": "fsharp"
    },
    "polyglot_notebook": {
     "kernelName": "fsharp"
    }
   },
   "source": [
    "This notebook relies on a breadth-first search algorithm implementation from the `bfs.fsx` script file. \n",
    "\n",
    "In this problem we have a graph of decicions taken during each minute, including waiting, if possible. The graph is traversed in search of the goal."
   ]
  },
  {
   "cell_type": "code",
   "execution_count": 99,
   "metadata": {
    "dotnet_interactive": {
     "language": "fsharp"
    },
    "polyglot_notebook": {
     "kernelName": "fsharp"
    },
    "vscode": {
     "languageId": "polyglot-notebook"
    }
   },
   "outputs": [],
   "source": [
    "#load \"../common/bfs.fsx\"\n",
    "\n",
    "open Bfs\n",
    "open Bfs.Custom\n",
    "\n",
    "let goalTarget : Target<State> =\n",
    "    fun state -> \n",
    "        state.Position = state.Blizzards.Max + down\n",
    "\n",
    "let adjF() : Adjacency<State> =\n",
    "    let wind = windF()\n",
    "    fun state ->\n",
    "        [\n",
    "            let afterWind = wind state\n",
    "            \n",
    "            let options =\n",
    "                [ up; down; left; right]\n",
    "                |> List.map ((+)state.Position)\n",
    "                |> List.filter (fun p -> state.Blizzards.InRange(p)\n",
    "                                        || p = state.Blizzards.Max + down\n",
    "                                        || p = state.Blizzards.Min + up\n",
    "                                )\n",
    "                |> List.filter (fun p -> not <| afterWind.Map.ContainsKey(p))\n",
    "                |> List.map(fun p -> { Position = p; Blizzards = afterWind; Step = state.Step + 1})\n",
    "            \n",
    "            yield! options\n",
    "\n",
    "            let canWait = not <| afterWind.Map.ContainsKey(state.Position)\n",
    "            if canWait\n",
    "            then\n",
    "                yield {state with Blizzards = afterWind; Step = state.Step + 1}\n",
    "        ]\n",
    "\n",
    "let settings =\n",
    "    { VisitedKey = fun state -> state.Position, state.Step % lcm (Point.x state.Blizzards.Size) (Point.y state.Blizzards.Size)}\n",
    "\n",
    "let findFoundPath adj target start = \n",
    "    let (Found(path)) = findPath settings {Adjacency = adj} start target\n",
    "    path"
   ]
  },
  {
   "cell_type": "code",
   "execution_count": 100,
   "metadata": {
    "dotnet_interactive": {
     "language": "fsharp"
    },
    "polyglot_notebook": {
     "kernelName": "fsharp"
    },
    "vscode": {
     "languageId": "polyglot-notebook"
    }
   },
   "outputs": [
    {
     "data": {
      "text/html": [
       "<div class=\"dni-plaintext\"><pre>18</pre></div><style>\r\n",
       ".dni-code-hint {\r\n",
       "    font-style: italic;\r\n",
       "    overflow: hidden;\r\n",
       "    white-space: nowrap;\r\n",
       "}\r\n",
       ".dni-treeview {\r\n",
       "    white-space: nowrap;\r\n",
       "}\r\n",
       ".dni-treeview td {\r\n",
       "    vertical-align: top;\r\n",
       "    text-align: start;\r\n",
       "}\r\n",
       "details.dni-treeview {\r\n",
       "    padding-left: 1em;\r\n",
       "}\r\n",
       "table td {\r\n",
       "    text-align: start;\r\n",
       "}\r\n",
       "table tr { \r\n",
       "    vertical-align: top; \r\n",
       "    margin: 0em 0px;\r\n",
       "}\r\n",
       "table tr td pre \r\n",
       "{ \r\n",
       "    vertical-align: top !important; \r\n",
       "    margin: 0em 0px !important;\r\n",
       "} \r\n",
       "table th {\r\n",
       "    text-align: start;\r\n",
       "}\r\n",
       "</style>"
      ]
     },
     "metadata": {},
     "output_type": "display_data"
    }
   ],
   "source": [
    "let sampleStart = {\n",
    "    Position = sampleBlizzards.Min + up\n",
    "    Blizzards = sampleBlizzards\n",
    "    Step = 0\n",
    "}\n",
    "\n",
    "let private sampleResult = \n",
    "    findFoundPath (adjF()) goalTarget sampleStart \n",
    "    |> List.head\n",
    "sampleResult.Step"
   ]
  },
  {
   "attachments": {},
   "cell_type": "markdown",
   "metadata": {
    "dotnet_interactive": {
     "language": "fsharp"
    },
    "polyglot_notebook": {
     "kernelName": "fsharp"
    }
   },
   "source": [
    "For the actual input:"
   ]
  },
  {
   "cell_type": "code",
   "execution_count": 101,
   "metadata": {
    "dotnet_interactive": {
     "language": "fsharp"
    },
    "polyglot_notebook": {
     "kernelName": "fsharp"
    },
    "vscode": {
     "languageId": "polyglot-notebook"
    }
   },
   "outputs": [],
   "source": [
    "#!value --name actualRaw --from-file ./data_actual.txt"
   ]
  },
  {
   "cell_type": "code",
   "execution_count": 102,
   "metadata": {
    "dotnet_interactive": {
     "language": "fsharp"
    },
    "polyglot_notebook": {
     "kernelName": "fsharp"
    },
    "vscode": {
     "languageId": "polyglot-notebook"
    }
   },
   "outputs": [],
   "source": [
    "#!share actualRaw --from value\n",
    "\n",
    "let actualBlizzards = parse actualRaw\n",
    "\n",
    "let actualStart = {\n",
    "    Position = actualBlizzards.Min + up\n",
    "    Blizzards = actualBlizzards\n",
    "    Step = 0\n",
    "}"
   ]
  },
  {
   "cell_type": "code",
   "execution_count": 103,
   "metadata": {
    "dotnet_interactive": {
     "language": "fsharp"
    },
    "polyglot_notebook": {
     "kernelName": "fsharp"
    },
    "vscode": {
     "languageId": "polyglot-notebook"
    }
   },
   "outputs": [
    {
     "data": {
      "text/html": [
       "<div class=\"dni-plaintext\"><pre>225</pre></div><style>\r\n",
       ".dni-code-hint {\r\n",
       "    font-style: italic;\r\n",
       "    overflow: hidden;\r\n",
       "    white-space: nowrap;\r\n",
       "}\r\n",
       ".dni-treeview {\r\n",
       "    white-space: nowrap;\r\n",
       "}\r\n",
       ".dni-treeview td {\r\n",
       "    vertical-align: top;\r\n",
       "    text-align: start;\r\n",
       "}\r\n",
       "details.dni-treeview {\r\n",
       "    padding-left: 1em;\r\n",
       "}\r\n",
       "table td {\r\n",
       "    text-align: start;\r\n",
       "}\r\n",
       "table tr { \r\n",
       "    vertical-align: top; \r\n",
       "    margin: 0em 0px;\r\n",
       "}\r\n",
       "table tr td pre \r\n",
       "{ \r\n",
       "    vertical-align: top !important; \r\n",
       "    margin: 0em 0px !important;\r\n",
       "} \r\n",
       "table th {\r\n",
       "    text-align: start;\r\n",
       "}\r\n",
       "</style>"
      ]
     },
     "metadata": {},
     "output_type": "display_data"
    },
    {
     "data": {
      "text/plain": [
       "Wall time: 4081.4366ms"
      ]
     },
     "metadata": {},
     "output_type": "display_data"
    }
   ],
   "source": [
    "#!time \n",
    "\n",
    "let private actualResult = \n",
    "    findFoundPath (adjF()) goalTarget actualStart\n",
    "    |> List.head\n",
    "actualResult.Step"
   ]
  },
  {
   "attachments": {},
   "cell_type": "markdown",
   "metadata": {
    "dotnet_interactive": {
     "language": "fsharp"
    },
    "polyglot_notebook": {
     "kernelName": "fsharp"
    }
   },
   "source": [
    "### Part 2\n",
    "\n",
    "For part 2, the trips are calculated one by one with intermediate results being piped from search to search. \n",
    "\n",
    "The `adjF` function is called once to reuse memoization caches."
   ]
  },
  {
   "cell_type": "code",
   "execution_count": 104,
   "metadata": {
    "dotnet_interactive": {
     "language": "fsharp"
    },
    "polyglot_notebook": {
     "kernelName": "fsharp"
    },
    "vscode": {
     "languageId": "polyglot-notebook"
    }
   },
   "outputs": [
    {
     "data": {
      "text/html": [
       "<div class=\"dni-plaintext\"><pre>54</pre></div><style>\r\n",
       ".dni-code-hint {\r\n",
       "    font-style: italic;\r\n",
       "    overflow: hidden;\r\n",
       "    white-space: nowrap;\r\n",
       "}\r\n",
       ".dni-treeview {\r\n",
       "    white-space: nowrap;\r\n",
       "}\r\n",
       ".dni-treeview td {\r\n",
       "    vertical-align: top;\r\n",
       "    text-align: start;\r\n",
       "}\r\n",
       "details.dni-treeview {\r\n",
       "    padding-left: 1em;\r\n",
       "}\r\n",
       "table td {\r\n",
       "    text-align: start;\r\n",
       "}\r\n",
       "table tr { \r\n",
       "    vertical-align: top; \r\n",
       "    margin: 0em 0px;\r\n",
       "}\r\n",
       "table tr td pre \r\n",
       "{ \r\n",
       "    vertical-align: top !important; \r\n",
       "    margin: 0em 0px !important;\r\n",
       "} \r\n",
       "table th {\r\n",
       "    text-align: start;\r\n",
       "}\r\n",
       "</style>"
      ]
     },
     "metadata": {},
     "output_type": "display_data"
    }
   ],
   "source": [
    "let startTarget : Target<State> =\n",
    "    fun state -> \n",
    "        state.Position = state.Blizzards.Min + up\n",
    "\n",
    "let private adj = adjF()\n",
    "let private sampleResult = \n",
    "    sampleStart\n",
    "    |> findFoundPath adj goalTarget\n",
    "    |> List.head\n",
    "    |> findFoundPath adj startTarget\n",
    "    |> List.head\n",
    "    |> findFoundPath adj goalTarget\n",
    "    |> List.head\n",
    "\n",
    "sampleResult.Step"
   ]
  },
  {
   "attachments": {},
   "cell_type": "markdown",
   "metadata": {
    "dotnet_interactive": {
     "language": "fsharp"
    },
    "polyglot_notebook": {
     "kernelName": "fsharp"
    }
   },
   "source": [
    "For the actual input:"
   ]
  },
  {
   "cell_type": "code",
   "execution_count": 105,
   "metadata": {
    "dotnet_interactive": {
     "language": "fsharp"
    },
    "polyglot_notebook": {
     "kernelName": "fsharp"
    },
    "vscode": {
     "languageId": "polyglot-notebook"
    }
   },
   "outputs": [
    {
     "data": {
      "text/html": [
       "<div class=\"dni-plaintext\"><pre>711</pre></div><style>\r\n",
       ".dni-code-hint {\r\n",
       "    font-style: italic;\r\n",
       "    overflow: hidden;\r\n",
       "    white-space: nowrap;\r\n",
       "}\r\n",
       ".dni-treeview {\r\n",
       "    white-space: nowrap;\r\n",
       "}\r\n",
       ".dni-treeview td {\r\n",
       "    vertical-align: top;\r\n",
       "    text-align: start;\r\n",
       "}\r\n",
       "details.dni-treeview {\r\n",
       "    padding-left: 1em;\r\n",
       "}\r\n",
       "table td {\r\n",
       "    text-align: start;\r\n",
       "}\r\n",
       "table tr { \r\n",
       "    vertical-align: top; \r\n",
       "    margin: 0em 0px;\r\n",
       "}\r\n",
       "table tr td pre \r\n",
       "{ \r\n",
       "    vertical-align: top !important; \r\n",
       "    margin: 0em 0px !important;\r\n",
       "} \r\n",
       "table th {\r\n",
       "    text-align: start;\r\n",
       "}\r\n",
       "</style>"
      ]
     },
     "metadata": {},
     "output_type": "display_data"
    },
    {
     "data": {
      "text/plain": [
       "Wall time: 16244.1936ms"
      ]
     },
     "metadata": {},
     "output_type": "display_data"
    }
   ],
   "source": [
    "#!time\n",
    "\n",
    "let private adj = adjF()\n",
    "let private actualResult = \n",
    "    actualStart\n",
    "    |> findFoundPath adj goalTarget\n",
    "    |> List.head\n",
    "    |> findFoundPath adj startTarget\n",
    "    |> List.head\n",
    "    |> findFoundPath adj goalTarget\n",
    "    |> List.head\n",
    "\n",
    "actualResult.Step"
   ]
  }
 ],
 "metadata": {
  "kernelspec": {
   "display_name": ".NET (C#)",
   "language": "C#",
   "name": ".net-csharp"
  },
  "polyglot_notebook": {
   "kernelInfo": {
    "defaultKernelName": "csharp",
    "items": [
     {
      "aliases": [],
      "name": "csharp"
     }
    ]
   }
  }
 },
 "nbformat": 4,
 "nbformat_minor": 2
}
