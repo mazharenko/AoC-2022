{
 "cells": [
  {
   "attachments": {},
   "cell_type": "markdown",
   "metadata": {
    "dotnet_interactive": {
     "language": "csharp"
    },
    "polyglot_notebook": {
     "kernelName": "csharp"
    }
   },
   "source": [
    "## Day 24: Blizzard Basin\n",
    "\n",
    "[![nbviewer](https://raw.githubusercontent.com/jupyter/design/master/logos/Badges/nbviewer_badge.svg)](https://nbviewer.org/github/mazharenko/AoC-2022/tree/HEAD/notebooks/day/puzzle24.ipynb)"
   ]
  },
  {
   "attachments": {},
   "cell_type": "markdown",
   "metadata": {
    "dotnet_interactive": {
     "language": "csharp"
    },
    "polyglot_notebook": {
     "kernelName": "csharp"
    }
   },
   "source": [
    "### Part 1"
   ]
  },
  {
   "cell_type": "code",
   "execution_count": 41,
   "metadata": {
    "dotnet_interactive": {
     "language": "fsharp"
    },
    "polyglot_notebook": {
     "kernelName": "fsharp"
    },
    "vscode": {
     "languageId": "polyglot-notebook"
    }
   },
   "outputs": [],
   "source": [
    "#!value --name sampleRaw \n",
    "#.######\n",
    "#>>.<^<#\n",
    "#.<..<<#\n",
    "#>v.><>#\n",
    "#<^v^^>#\n",
    "######.#"
   ]
  },
  {
   "cell_type": "code",
   "execution_count": 42,
   "metadata": {
    "dotnet_interactive": {
     "language": "fsharp"
    },
    "polyglot_notebook": {
     "kernelName": "fsharp"
    },
    "vscode": {
     "languageId": "polyglot-notebook"
    }
   },
   "outputs": [],
   "source": [
    "#load \"../common/common.fsx\"\n",
    "open System.Collections.Generic\n",
    "\n",
    "type Facing = Point\n",
    "\n",
    "let down : Facing = Point (1,0)\n",
    "let up : Facing = Point (-1,0)\n",
    "let right : Facing = Point (0,1)\n",
    "let left : Facing = Point (0,-1)\n",
    "\n",
    "\n",
    "type Blizzard = Facing\n",
    "\n",
    "type Blizzards = { Map: Blizzard array [,] }\n",
    "with member this.Entrance = Point(-1, 0)\n",
    "     member this.Exit = down + Point(Array2D.length1 this.Map - 1, Array2D.length2 this.Map - 1)\n"
   ]
  },
  {
   "cell_type": "code",
   "execution_count": 43,
   "metadata": {
    "dotnet_interactive": {
     "language": "fsharp"
    },
    "polyglot_notebook": {
     "kernelName": "fsharp"
    },
    "vscode": {
     "languageId": "polyglot-notebook"
    }
   },
   "outputs": [],
   "source": [
    "let parse s = \n",
    "    let m = \n",
    "        (Pattern1.read (fun row -> row[1 .. ^1]) s)[1 .. ^1]\n",
    "        |> array2D\n",
    "        |> Array2D.map (fun c -> \n",
    "            match c with \n",
    "            | '>' -> [| right |]\n",
    "            | 'v' -> [| down |]\n",
    "            | '<'-> [| left |]\n",
    "            | '^' -> [| up |]\n",
    "            | _ -> Array.empty\n",
    "        )\n",
    "    { Map = m; }"
   ]
  },
  {
   "cell_type": "code",
   "execution_count": 44,
   "metadata": {
    "dotnet_interactive": {
     "language": "fsharp"
    },
    "polyglot_notebook": {
     "kernelName": "fsharp"
    },
    "vscode": {
     "languageId": "polyglot-notebook"
    }
   },
   "outputs": [],
   "source": [
    "#!share sampleRaw --from value\n",
    "\n",
    "let sampleBlizzards = parse sampleRaw"
   ]
  },
  {
   "attachments": {},
   "cell_type": "markdown",
   "metadata": {
    "dotnet_interactive": {
     "language": "fsharp"
    },
    "polyglot_notebook": {
     "kernelName": "fsharp"
    }
   },
   "source": [
    "To model wind we make use of the previously defined Euclidean remainder operator `%%` and just build a new dictionary."
   ]
  },
  {
   "cell_type": "code",
   "execution_count": 45,
   "metadata": {
    "dotnet_interactive": {
     "language": "fsharp"
    },
    "polyglot_notebook": {
     "kernelName": "fsharp"
    },
    "vscode": {
     "languageId": "polyglot-notebook"
    }
   },
   "outputs": [],
   "source": [
    "let wind' blizzards = \n",
    "    \n",
    "    let X = Array2D.length1 blizzards.Map\n",
    "    let Y = Array2D.length2 blizzards.Map\n",
    "\n",
    "    let at (Point(i,j)) = \n",
    "        blizzards.Map[i %% X, j %% Y]\n",
    "\n",
    "    let newMap = \n",
    "        blizzards.Map\n",
    "        |> Array2D.mapi (fun i j b -> \n",
    "            let point = Point(i,j)\n",
    "            [|\n",
    "                yield! at (point - down) |> Seq.where ((=) down)\n",
    "                yield! at (point - up) |> Seq.where ((=) up)\n",
    "                yield! at (point - left) |> Seq.where ((=) left)\n",
    "                yield! at (point - right) |> Seq.where ((=) right)\n",
    "            |]\n",
    "        )\n",
    "    { Map = newMap }"
   ]
  },
  {
   "attachments": {},
   "cell_type": "markdown",
   "metadata": {
    "dotnet_interactive": {
     "language": "fsharp"
    },
    "polyglot_notebook": {
     "kernelName": "fsharp"
    }
   },
   "source": [
    "However, considering the blizzards state at some moment of time, it is worth noting that the state is going to repeat every $\\mathrm{LCM} \\left(width, height \\right)$ steps. The code below relies on funcions `memoize`, `lcm` from the `common.fsx` script.\n",
    "\n",
    "A memoized function is available via the generator function `wind()` to make the cache controllable."
   ]
  },
  {
   "cell_type": "code",
   "execution_count": 46,
   "metadata": {
    "dotnet_interactive": {
     "language": "fsharp"
    },
    "polyglot_notebook": {
     "kernelName": "fsharp"
    },
    "vscode": {
     "languageId": "polyglot-notebook"
    }
   },
   "outputs": [],
   "source": [
    "type State = { Blizzards : Blizzards; Position : Point; Step : int }\n",
    "\n",
    "let windF() = \n",
    "    memoize \n",
    "        (fun state -> wind' state.Blizzards) \n",
    "        (fun state -> state.Step % lcm (Array2D.length1 state.Blizzards.Map) (Array2D.length2 state.Blizzards.Map))\n"
   ]
  },
  {
   "attachments": {},
   "cell_type": "markdown",
   "metadata": {
    "dotnet_interactive": {
     "language": "fsharp"
    },
    "polyglot_notebook": {
     "kernelName": "fsharp"
    }
   },
   "source": [
    "This notebook relies on a breadth-first search algorithm implementation from the `bfs.fsx` script file. \n",
    "\n",
    "In this problem we have a graph of decicions taken during each minute, including waiting, if possible. The graph is traversed in search of the goal."
   ]
  },
  {
   "cell_type": "code",
   "execution_count": 47,
   "metadata": {
    "dotnet_interactive": {
     "language": "fsharp"
    },
    "polyglot_notebook": {
     "kernelName": "fsharp"
    },
    "vscode": {
     "languageId": "polyglot-notebook"
    }
   },
   "outputs": [],
   "source": [
    "#load \"../common/bfs.fsx\"\n",
    "\n",
    "open Bfs\n",
    "open Bfs.Custom\n",
    "\n",
    "let goalTarget : Target<State> =\n",
    "    fun state -> \n",
    "        state.Position = state.Blizzards.Exit\n",
    "\n",
    "let adjF() : Adjacency<State> =\n",
    "    let wind = windF()\n",
    "    fun state ->\n",
    "        [\n",
    "            let afterWind = wind state\n",
    "            \n",
    "            let options =\n",
    "                [ down; up; left; right]\n",
    "                |> List.map ((+)state.Position)\n",
    "                |> List.filter (fun p -> p = afterWind.Exit\n",
    "                                        || p = afterWind.Entrance\n",
    "                                        || afterWind.Map |> Array2D.tryAtPoint p = Some [||]\n",
    "                                )\n",
    "                |> List.map(fun p -> { Position = p; Blizzards = afterWind; Step = state.Step + 1})\n",
    "            \n",
    "            yield! options\n",
    "\n",
    "            let canWait = \n",
    "                state.Position = afterWind.Exit\n",
    "                || state.Position = afterWind.Entrance\n",
    "                || afterWind.Map |> Array2D.atPoint state.Position = [||]\n",
    "            if canWait\n",
    "            then\n",
    "                yield {state with Blizzards = afterWind; Step = state.Step + 1}\n",
    "        ]\n",
    "\n",
    "let settings =\n",
    "    { VisitedKey = fun state -> state.Position, state.Step % lcm (Array2D.length1 state.Blizzards.Map) (Array2D.length2 state.Blizzards.Map)}\n",
    "\n",
    "let findFoundPath adj target start = \n",
    "    let (Found(path)) = findPath settings {Adjacency = adj} start target\n",
    "    path"
   ]
  },
  {
   "cell_type": "code",
   "execution_count": 48,
   "metadata": {
    "dotnet_interactive": {
     "language": "fsharp"
    },
    "polyglot_notebook": {
     "kernelName": "fsharp"
    },
    "vscode": {
     "languageId": "polyglot-notebook"
    }
   },
   "outputs": [
    {
     "data": {
      "text/html": [
       "<div class=\"dni-plaintext\"><pre>18</pre></div><style>\r\n",
       ".dni-code-hint {\r\n",
       "    font-style: italic;\r\n",
       "    overflow: hidden;\r\n",
       "    white-space: nowrap;\r\n",
       "}\r\n",
       ".dni-treeview {\r\n",
       "    white-space: nowrap;\r\n",
       "}\r\n",
       ".dni-treeview td {\r\n",
       "    vertical-align: top;\r\n",
       "    text-align: start;\r\n",
       "}\r\n",
       "details.dni-treeview {\r\n",
       "    padding-left: 1em;\r\n",
       "}\r\n",
       "table td {\r\n",
       "    text-align: start;\r\n",
       "}\r\n",
       "table tr { \r\n",
       "    vertical-align: top; \r\n",
       "    margin: 0em 0px;\r\n",
       "}\r\n",
       "table tr td pre \r\n",
       "{ \r\n",
       "    vertical-align: top !important; \r\n",
       "    margin: 0em 0px !important;\r\n",
       "} \r\n",
       "table th {\r\n",
       "    text-align: start;\r\n",
       "}\r\n",
       "</style>"
      ]
     },
     "metadata": {},
     "output_type": "display_data"
    }
   ],
   "source": [
    "let sampleStart = {\n",
    "    Position = sampleBlizzards.Entrance\n",
    "    Blizzards = sampleBlizzards\n",
    "    Step = 0\n",
    "}\n",
    "\n",
    "let private sampleResult = \n",
    "    findFoundPath (adjF()) goalTarget sampleStart \n",
    "    |> List.head\n",
    "    \n",
    "sampleResult.Step"
   ]
  },
  {
   "attachments": {},
   "cell_type": "markdown",
   "metadata": {
    "dotnet_interactive": {
     "language": "fsharp"
    },
    "polyglot_notebook": {
     "kernelName": "fsharp"
    }
   },
   "source": [
    "For the actual input:"
   ]
  },
  {
   "cell_type": "code",
   "execution_count": 49,
   "metadata": {
    "dotnet_interactive": {
     "language": "fsharp"
    },
    "polyglot_notebook": {
     "kernelName": "fsharp"
    },
    "vscode": {
     "languageId": "polyglot-notebook"
    }
   },
   "outputs": [],
   "source": [
    "#!value --name actualRaw --from-file ./data_actual.txt"
   ]
  },
  {
   "cell_type": "code",
   "execution_count": 50,
   "metadata": {
    "dotnet_interactive": {
     "language": "fsharp"
    },
    "polyglot_notebook": {
     "kernelName": "fsharp"
    },
    "vscode": {
     "languageId": "polyglot-notebook"
    }
   },
   "outputs": [],
   "source": [
    "#!share actualRaw --from value\n",
    "\n",
    "let actualBlizzards = parse actualRaw\n",
    "\n",
    "let actualStart = {\n",
    "    Position = actualBlizzards.Entrance\n",
    "    Blizzards = actualBlizzards\n",
    "    Step = 0\n",
    "}"
   ]
  },
  {
   "cell_type": "code",
   "execution_count": 57,
   "metadata": {
    "dotnet_interactive": {
     "language": "fsharp"
    },
    "polyglot_notebook": {
     "kernelName": "fsharp"
    },
    "vscode": {
     "languageId": "polyglot-notebook"
    }
   },
   "outputs": [
    {
     "data": {
      "text/html": [
       "<div class=\"dni-plaintext\"><pre>225</pre></div><style>\r\n",
       ".dni-code-hint {\r\n",
       "    font-style: italic;\r\n",
       "    overflow: hidden;\r\n",
       "    white-space: nowrap;\r\n",
       "}\r\n",
       ".dni-treeview {\r\n",
       "    white-space: nowrap;\r\n",
       "}\r\n",
       ".dni-treeview td {\r\n",
       "    vertical-align: top;\r\n",
       "    text-align: start;\r\n",
       "}\r\n",
       "details.dni-treeview {\r\n",
       "    padding-left: 1em;\r\n",
       "}\r\n",
       "table td {\r\n",
       "    text-align: start;\r\n",
       "}\r\n",
       "table tr { \r\n",
       "    vertical-align: top; \r\n",
       "    margin: 0em 0px;\r\n",
       "}\r\n",
       "table tr td pre \r\n",
       "{ \r\n",
       "    vertical-align: top !important; \r\n",
       "    margin: 0em 0px !important;\r\n",
       "} \r\n",
       "table th {\r\n",
       "    text-align: start;\r\n",
       "}\r\n",
       "</style>"
      ]
     },
     "metadata": {},
     "output_type": "display_data"
    },
    {
     "data": {
      "text/plain": [
       "Wall time: 1198.5074ms"
      ]
     },
     "metadata": {},
     "output_type": "display_data"
    }
   ],
   "source": [
    "#!time \n",
    "\n",
    "let private actualResult = \n",
    "    findFoundPath (adjF()) goalTarget actualStart\n",
    "    |> List.head\n",
    "actualResult.Step"
   ]
  },
  {
   "attachments": {},
   "cell_type": "markdown",
   "metadata": {
    "dotnet_interactive": {
     "language": "fsharp"
    },
    "polyglot_notebook": {
     "kernelName": "fsharp"
    }
   },
   "source": [
    "### Part 2\n",
    "\n",
    "For part 2, the trips are calculated one by one with intermediate results being piped from search to search. \n",
    "\n",
    "The `adjF` function is called once to reuse memoization caches."
   ]
  },
  {
   "cell_type": "code",
   "execution_count": 52,
   "metadata": {
    "dotnet_interactive": {
     "language": "fsharp"
    },
    "polyglot_notebook": {
     "kernelName": "fsharp"
    },
    "vscode": {
     "languageId": "polyglot-notebook"
    }
   },
   "outputs": [
    {
     "data": {
      "text/html": [
       "<div class=\"dni-plaintext\"><pre>54</pre></div><style>\r\n",
       ".dni-code-hint {\r\n",
       "    font-style: italic;\r\n",
       "    overflow: hidden;\r\n",
       "    white-space: nowrap;\r\n",
       "}\r\n",
       ".dni-treeview {\r\n",
       "    white-space: nowrap;\r\n",
       "}\r\n",
       ".dni-treeview td {\r\n",
       "    vertical-align: top;\r\n",
       "    text-align: start;\r\n",
       "}\r\n",
       "details.dni-treeview {\r\n",
       "    padding-left: 1em;\r\n",
       "}\r\n",
       "table td {\r\n",
       "    text-align: start;\r\n",
       "}\r\n",
       "table tr { \r\n",
       "    vertical-align: top; \r\n",
       "    margin: 0em 0px;\r\n",
       "}\r\n",
       "table tr td pre \r\n",
       "{ \r\n",
       "    vertical-align: top !important; \r\n",
       "    margin: 0em 0px !important;\r\n",
       "} \r\n",
       "table th {\r\n",
       "    text-align: start;\r\n",
       "}\r\n",
       "</style>"
      ]
     },
     "metadata": {},
     "output_type": "display_data"
    }
   ],
   "source": [
    "let startTarget : Target<State> =\n",
    "    fun state -> \n",
    "        state.Position = state.Blizzards.Entrance\n",
    "\n",
    "let private adj = adjF()\n",
    "let private sampleResult = \n",
    "    sampleStart\n",
    "    |> findFoundPath adj goalTarget\n",
    "    |> List.head\n",
    "    |> findFoundPath adj startTarget\n",
    "    |> List.head\n",
    "    |> findFoundPath adj goalTarget\n",
    "    |> List.head\n",
    "\n",
    "sampleResult.Step"
   ]
  },
  {
   "attachments": {},
   "cell_type": "markdown",
   "metadata": {
    "dotnet_interactive": {
     "language": "fsharp"
    },
    "polyglot_notebook": {
     "kernelName": "fsharp"
    }
   },
   "source": [
    "For the actual input:"
   ]
  },
  {
   "cell_type": "code",
   "execution_count": 56,
   "metadata": {
    "dotnet_interactive": {
     "language": "fsharp"
    },
    "polyglot_notebook": {
     "kernelName": "fsharp"
    },
    "vscode": {
     "languageId": "polyglot-notebook"
    }
   },
   "outputs": [
    {
     "data": {
      "text/html": [
       "<div class=\"dni-plaintext\"><pre>711</pre></div><style>\r\n",
       ".dni-code-hint {\r\n",
       "    font-style: italic;\r\n",
       "    overflow: hidden;\r\n",
       "    white-space: nowrap;\r\n",
       "}\r\n",
       ".dni-treeview {\r\n",
       "    white-space: nowrap;\r\n",
       "}\r\n",
       ".dni-treeview td {\r\n",
       "    vertical-align: top;\r\n",
       "    text-align: start;\r\n",
       "}\r\n",
       "details.dni-treeview {\r\n",
       "    padding-left: 1em;\r\n",
       "}\r\n",
       "table td {\r\n",
       "    text-align: start;\r\n",
       "}\r\n",
       "table tr { \r\n",
       "    vertical-align: top; \r\n",
       "    margin: 0em 0px;\r\n",
       "}\r\n",
       "table tr td pre \r\n",
       "{ \r\n",
       "    vertical-align: top !important; \r\n",
       "    margin: 0em 0px !important;\r\n",
       "} \r\n",
       "table th {\r\n",
       "    text-align: start;\r\n",
       "}\r\n",
       "</style>"
      ]
     },
     "metadata": {},
     "output_type": "display_data"
    },
    {
     "data": {
      "text/plain": [
       "Wall time: 3750.9903ms"
      ]
     },
     "metadata": {},
     "output_type": "display_data"
    }
   ],
   "source": [
    "#!time\n",
    "\n",
    "let private adj = adjF()\n",
    "let private actualResult = \n",
    "    actualStart\n",
    "    |> findFoundPath adj goalTarget\n",
    "    |> List.head\n",
    "    |> findFoundPath adj startTarget\n",
    "    |> List.head\n",
    "    |> findFoundPath adj goalTarget\n",
    "    |> List.head\n",
    "\n",
    "actualResult.Step"
   ]
  }
 ],
 "metadata": {
  "kernelspec": {
   "display_name": ".NET (C#)",
   "language": "C#",
   "name": ".net-csharp"
  },
  "polyglot_notebook": {
   "kernelInfo": {
    "defaultKernelName": "csharp",
    "items": [
     {
      "aliases": [],
      "name": "csharp"
     }
    ]
   }
  }
 },
 "nbformat": 4,
 "nbformat_minor": 2
}
