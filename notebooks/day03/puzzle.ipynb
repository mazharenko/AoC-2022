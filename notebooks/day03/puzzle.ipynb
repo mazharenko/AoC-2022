{
 "cells": [
  {
   "cell_type": "markdown",
   "metadata": {
    "dotnet_interactive": {
     "language": "csharp"
    }
   },
   "source": [
    "## Day 3: Rucksack Reorganization\n",
    "\n",
    "[![nbviewer](https://raw.githubusercontent.com/jupyter/design/master/logos/Badges/nbviewer_badge.svg)](https://nbviewer.org/github/mazharenko/AoC-2022/tree/HEAD/notebooks/day03/puzzle.ipynb)"
   ]
  },
  {
   "cell_type": "code",
   "execution_count": 10,
   "metadata": {
    "dotnet_interactive": {
     "language": "fsharp"
    },
    "vscode": {
     "languageId": "dotnet-interactive.fsharp"
    }
   },
   "outputs": [],
   "source": [
    "#load \"../common/common.fsx\"\n",
    "\n",
    "module Item = \n",
    "    type T = private Item of char\n",
    "    let create c = \n",
    "        if ('A' <= c && c <= 'Z' || 'a' <= c && c <= 'z')\n",
    "        then Item c\n",
    "        else invalidArg (nameof c) $\"char must be A..Za..z. given {c}\"\n",
    "    let priority (Item c) = \n",
    "        match c with\n",
    "        | BetweenInclusive 'A' 'Z' -> int c - int 'A' + 27\n",
    "        | BetweenInclusive 'a' 'z' -> int c - int 'a' + 1\n",
    "        | _ -> raise (new Exception())\n",
    "    let unwrap (Item c) = c\n",
    "\n",
    "Formatter.Register<Item.T>((fun item -> Item.unwrap item |> string), \"text/plain\")\n",
    "\n",
    "type Rucksack = Item.T array"
   ]
  },
  {
   "cell_type": "code",
   "execution_count": 11,
   "metadata": {
    "dotnet_interactive": {
     "language": "fsharp"
    },
    "vscode": {
     "languageId": "dotnet-interactive.fsharp"
    }
   },
   "outputs": [],
   "source": [
    "#!value --name sampleRaw\n",
    "\n",
    "vJrwpWtwJgWrhcsFMMfFFhFp\n",
    "jqHRNqRjqzjGDLGLrsFMfFZSrLrFZsSL\n",
    "PmmdzqPrVvPwwTWBwg\n",
    "wMqvLMZHhHMvwLHjbvcjnnSBnvTQFn\n",
    "ttgJtRGJQctTZtZT\n",
    "CrZsJsPPZsGzwwsLwLmpwMDw"
   ]
  },
  {
   "cell_type": "code",
   "execution_count": 12,
   "metadata": {
    "dotnet_interactive": {
     "language": "fsharp"
    },
    "vscode": {
     "languageId": "dotnet-interactive.fsharp"
    }
   },
   "outputs": [],
   "source": [
    "#!value --name actualRaw --from-file ./data_actual.txt"
   ]
  },
  {
   "cell_type": "code",
   "execution_count": 13,
   "metadata": {
    "dotnet_interactive": {
     "language": "fsharp"
    },
    "vscode": {
     "languageId": "dotnet-interactive.fsharp"
    }
   },
   "outputs": [
    {
     "data": {
      "text/html": [
       "<table><thead><tr><th><i>index</i></th><th>value</th></tr></thead><tbody><tr><td>0</td><td><div class=\"dni-plaintext\">[ v, J, r, w, p, W, t, w, J, g, W, r, h, c, s, F, M, M, f, F ... (4 more) ]</div></td></tr><tr><td>1</td><td><div class=\"dni-plaintext\">[ j, q, H, R, N, q, R, j, q, z, j, G, D, L, G, L, r, s, F, M ... (12 more) ]</div></td></tr><tr><td>2</td><td><div class=\"dni-plaintext\">[ P, m, m, d, z, q, P, r, V, v, P, w, w, T, W, B, w, g ]</div></td></tr><tr><td>3</td><td><div class=\"dni-plaintext\">[ w, M, q, v, L, M, Z, H, h, H, M, v, w, L, H, j, b, v, c, j ... (10 more) ]</div></td></tr><tr><td>4</td><td><div class=\"dni-plaintext\">[ t, t, g, J, t, R, G, J, Q, c, t, T, Z, t, Z, T ]</div></td></tr><tr><td>5</td><td><div class=\"dni-plaintext\">[ C, r, Z, s, J, s, P, P, Z, s, G, z, w, w, s, L, w, L, m, p ... (4 more) ]</div></td></tr></tbody></table>"
      ]
     },
     "metadata": {},
     "output_type": "display_data"
    }
   ],
   "source": [
    "#!share sampleRaw --from value\n",
    "#!share actualRaw --from value\n",
    "\n",
    "let parseRucksack (s : string) : Rucksack = \n",
    "    s |> Array.ofSeq |> Array.map Item.create\n",
    "let sampleRucksacks = Pattern1.read parseRucksack sampleRaw\n",
    "sampleRucksacks"
   ]
  },
  {
   "cell_type": "markdown",
   "metadata": {},
   "source": [
    "### Part 1"
   ]
  },
  {
   "cell_type": "code",
   "execution_count": 14,
   "metadata": {
    "dotnet_interactive": {
     "language": "fsharp"
    },
    "vscode": {
     "languageId": "dotnet-interactive.fsharp"
    }
   },
   "outputs": [
    {
     "data": {
      "text/html": [
       "<table><thead><tr><th><i>index</i></th><th>Only common item</th><th>Only common item priority</th><th>Rucksack</th></tr></thead><tbody><tr><td>0</td><td><div class=\"dni-plaintext\">p</div></td><td><div class=\"dni-plaintext\">16</div></td><td><div class=\"dni-plaintext\">[ v, J, r, w, p, W, t, w, J, g, W, r, h, c, s, F, M, M, f, F ... (4 more) ]</div></td></tr><tr><td>1</td><td><div class=\"dni-plaintext\">L</div></td><td><div class=\"dni-plaintext\">38</div></td><td><div class=\"dni-plaintext\">[ j, q, H, R, N, q, R, j, q, z, j, G, D, L, G, L, r, s, F, M ... (12 more) ]</div></td></tr><tr><td>2</td><td><div class=\"dni-plaintext\">P</div></td><td><div class=\"dni-plaintext\">42</div></td><td><div class=\"dni-plaintext\">[ P, m, m, d, z, q, P, r, V, v, P, w, w, T, W, B, w, g ]</div></td></tr><tr><td>3</td><td><div class=\"dni-plaintext\">v</div></td><td><div class=\"dni-plaintext\">22</div></td><td><div class=\"dni-plaintext\">[ w, M, q, v, L, M, Z, H, h, H, M, v, w, L, H, j, b, v, c, j ... (10 more) ]</div></td></tr><tr><td>4</td><td><div class=\"dni-plaintext\">t</div></td><td><div class=\"dni-plaintext\">20</div></td><td><div class=\"dni-plaintext\">[ t, t, g, J, t, R, G, J, Q, c, t, T, Z, t, Z, T ]</div></td></tr><tr><td>5</td><td><div class=\"dni-plaintext\">s</div></td><td><div class=\"dni-plaintext\">19</div></td><td><div class=\"dni-plaintext\">[ C, r, Z, s, J, s, P, P, Z, s, G, z, w, w, s, L, w, L, m, p ... (4 more) ]</div></td></tr></tbody></table>"
      ]
     },
     "metadata": {},
     "output_type": "display_data"
    },
    {
     "data": {
      "text/html": [
       "<div class=\"dni-plaintext\">157</div>"
      ]
     },
     "metadata": {},
     "output_type": "display_data"
    }
   ],
   "source": [
    "let findOnlyCommonItem (rucksack : Rucksack) : Item.T = \n",
    "    rucksack\n",
    "    |> Array.splitInto 2\n",
    "    |> Array.map (Set.ofArray)\n",
    "    |> Set.intersectMany\n",
    "    |> Seq.exactlyOne\n",
    "\n",
    "sampleRucksacks\n",
    "|> Array.map (fun r -> \n",
    "    let common = findOnlyCommonItem r\n",
    "    {|\n",
    "        Rucksack = r\n",
    "        ``Only common item`` = common\n",
    "        ``Only common item priority`` = Item.priority common \n",
    "    |}\n",
    ")\n",
    "|> displayPipe\n",
    "|> Array.sumBy (fun x -> x.``Only common item priority``)\n"
   ]
  },
  {
   "cell_type": "markdown",
   "metadata": {},
   "source": [
    "For the actual data:"
   ]
  },
  {
   "cell_type": "code",
   "execution_count": 15,
   "metadata": {
    "dotnet_interactive": {
     "language": "fsharp"
    },
    "vscode": {
     "languageId": "dotnet-interactive.fsharp"
    }
   },
   "outputs": [
    {
     "data": {
      "text/html": [
       "<div class=\"dni-plaintext\">8240</div>"
      ]
     },
     "metadata": {},
     "output_type": "display_data"
    }
   ],
   "source": [
    "let actualRucksacks = Pattern1.read parseRucksack actualRaw\n",
    "actualRucksacks\n",
    "|> Seq.map findOnlyCommonItem\n",
    "|> Seq.map Item.priority\n",
    "|> Seq.sum\n"
   ]
  },
  {
   "cell_type": "markdown",
   "metadata": {},
   "source": [
    "### Part 2"
   ]
  },
  {
   "cell_type": "code",
   "execution_count": 16,
   "metadata": {
    "dotnet_interactive": {
     "language": "fsharp"
    },
    "vscode": {
     "languageId": "dotnet-interactive.fsharp"
    }
   },
   "outputs": [],
   "source": [
    "let findOnlyCommonItem2 (rucksacks : Rucksack seq) : Item.T = \n",
    "    rucksacks\n",
    "    |> Seq.map (Set.ofSeq)\n",
    "    |> Set.intersectMany\n",
    "    |> Seq.exactlyOne"
   ]
  },
  {
   "cell_type": "code",
   "execution_count": 17,
   "metadata": {
    "dotnet_interactive": {
     "language": "fsharp"
    },
    "vscode": {
     "languageId": "dotnet-interactive.fsharp"
    }
   },
   "outputs": [
    {
     "data": {
      "text/html": [
       "<table><thead><tr><th><i>index</i></th><th>Only common item</th><th>Only common item priority</th><th>Rucksacks</th></tr></thead><tbody><tr><td>0</td><td><div class=\"dni-plaintext\">r</div></td><td><div class=\"dni-plaintext\">18</div></td><td><div class=\"dni-plaintext\">[ [ v, J, r, w, p, W, t, w, J, g, W, r, h, c, s, F, M, M, f, F ... (4 more) ], [ j, q, H, R, N, q, R, j, q, z, j, G, D, L, G, L, r, s, F, M ... (12 more) ], [ P, m, m, d, z, q, P, r, V, v, P, w, w, T, W, B, w, g ] ]</div></td></tr><tr><td>1</td><td><div class=\"dni-plaintext\">Z</div></td><td><div class=\"dni-plaintext\">52</div></td><td><div class=\"dni-plaintext\">[ [ w, M, q, v, L, M, Z, H, h, H, M, v, w, L, H, j, b, v, c, j ... (10 more) ], [ t, t, g, J, t, R, G, J, Q, c, t, T, Z, t, Z, T ], [ C, r, Z, s, J, s, P, P, Z, s, G, z, w, w, s, L, w, L, m, p ... (4 more) ] ]</div></td></tr></tbody></table>"
      ]
     },
     "metadata": {},
     "output_type": "display_data"
    },
    {
     "data": {
      "text/html": [
       "<div class=\"dni-plaintext\">70</div>"
      ]
     },
     "metadata": {},
     "output_type": "display_data"
    }
   ],
   "source": [
    "sampleRucksacks\n",
    "|> Seq.chunkBySize 3\n",
    "|> Seq.map (fun rs -> \n",
    "    let common = findOnlyCommonItem2 rs\n",
    "    {|\n",
    "        Rucksacks = rs\n",
    "        ``Only common item`` = common\n",
    "        ``Only common item priority`` = Item.priority common \n",
    "    |}\n",
    ")\n",
    "|> displayPipe\n",
    "|> Seq.sumBy (fun x -> x.``Only common item priority``)"
   ]
  },
  {
   "cell_type": "markdown",
   "metadata": {},
   "source": [
    "For the actual data:"
   ]
  },
  {
   "cell_type": "code",
   "execution_count": 18,
   "metadata": {
    "dotnet_interactive": {
     "language": "fsharp"
    },
    "vscode": {
     "languageId": "dotnet-interactive.fsharp"
    }
   },
   "outputs": [
    {
     "data": {
      "text/html": [
       "<div class=\"dni-plaintext\">2587</div>"
      ]
     },
     "metadata": {},
     "output_type": "display_data"
    }
   ],
   "source": [
    "actualRucksacks\n",
    "|> Seq.chunkBySize 3\n",
    "|> Seq.map findOnlyCommonItem2\n",
    "|> Seq.map Item.priority\n",
    "|> Seq.sum"
   ]
  }
 ],
 "metadata": {
  "kernelspec": {
   "display_name": ".NET (C#)",
   "language": "C#",
   "name": ".net-csharp"
  },
  "language_info": {
   "file_extension": ".cs",
   "mimetype": "text/x-csharp",
   "name": "C#",
   "pygments_lexer": "csharp",
   "version": "9.0"
  },
  "orig_nbformat": 4
 },
 "nbformat": 4,
 "nbformat_minor": 2
}
