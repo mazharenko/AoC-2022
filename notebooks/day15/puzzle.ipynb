{
 "cells": [
  {
   "attachments": {},
   "cell_type": "markdown",
   "metadata": {
    "dotnet_interactive": {
     "language": "csharp"
    },
    "polyglot_notebook": {
     "kernelName": "csharp"
    }
   },
   "source": [
    "## Day 15: Beacon Exclusion Zone\n",
    "\n",
    "[![nbviewer](https://raw.githubusercontent.com/jupyter/design/master/logos/Badges/nbviewer_badge.svg)](https://nbviewer.org/github/mazharenko/AoC-2022/tree/HEAD/notebooks/day15/puzzle.ipynb)"
   ]
  },
  {
   "attachments": {},
   "cell_type": "markdown",
   "metadata": {
    "dotnet_interactive": {
     "language": "csharp"
    },
    "polyglot_notebook": {
     "kernelName": "csharp"
    }
   },
   "source": [
    "### Parsing"
   ]
  },
  {
   "cell_type": "code",
   "execution_count": 23,
   "metadata": {
    "dotnet_interactive": {
     "language": "fsharp"
    },
    "polyglot_notebook": {
     "kernelName": "fsharp"
    },
    "vscode": {
     "languageId": "polyglot-notebook"
    }
   },
   "outputs": [],
   "source": [
    "\n",
    "#load \"../common/common.fsx\"\n",
    "\n",
    "type CoveredArea = { N : Point; E : Point; S : Point; W : Point }\n",
    "type SensorData = { Beacon: Point; Sensor : Point; Covered : CoveredArea }\n",
    "\n",
    "let read s = \n",
    "    let getCoveredArea (beacon : Point) (sensor : Point) = \n",
    "        let d = Point.mlen beacon sensor\n",
    "        {N = sensor - Point(0, d); S = sensor + Point(0, d);\n",
    "            E = sensor + Point(d, 0); W = sensor - Point(d, 0)}\n",
    "    match s with \n",
    "    | Regex \"Sensor at x=([-\\d]+), y=([-\\d]+): closest beacon is at x=([-\\d]+), y=([-\\d]+)\" \n",
    "        [sensorx; sensory; beaconx; beacony] ->\n",
    "            let beacon = Point(int beaconx, int beacony)\n",
    "            let sensor = Point(int sensorx, int sensory)\n",
    "            {Sensor = sensor; Beacon = beacon; Covered = getCoveredArea beacon sensor }\n",
    "    | _ -> failwith \"\"\n",
    "    \n"
   ]
  },
  {
   "cell_type": "code",
   "execution_count": 24,
   "metadata": {
    "dotnet_interactive": {
     "language": "fsharp"
    },
    "polyglot_notebook": {
     "kernelName": "fsharp"
    },
    "vscode": {
     "languageId": "polyglot-notebook"
    }
   },
   "outputs": [],
   "source": [
    "#!value --name sampleRaw\n",
    "Sensor at x=2, y=18: closest beacon is at x=-2, y=15\n",
    "Sensor at x=9, y=16: closest beacon is at x=10, y=16\n",
    "Sensor at x=13, y=2: closest beacon is at x=15, y=3\n",
    "Sensor at x=12, y=14: closest beacon is at x=10, y=16\n",
    "Sensor at x=10, y=20: closest beacon is at x=10, y=16\n",
    "Sensor at x=14, y=17: closest beacon is at x=10, y=16\n",
    "Sensor at x=8, y=7: closest beacon is at x=2, y=10\n",
    "Sensor at x=2, y=0: closest beacon is at x=2, y=10\n",
    "Sensor at x=0, y=11: closest beacon is at x=2, y=10\n",
    "Sensor at x=20, y=14: closest beacon is at x=25, y=17\n",
    "Sensor at x=17, y=20: closest beacon is at x=21, y=22\n",
    "Sensor at x=16, y=7: closest beacon is at x=15, y=3\n",
    "Sensor at x=14, y=3: closest beacon is at x=15, y=3\n",
    "Sensor at x=20, y=1: closest beacon is at x=15, y=3"
   ]
  },
  {
   "cell_type": "code",
   "execution_count": 25,
   "metadata": {
    "dotnet_interactive": {
     "language": "fsharp"
    },
    "polyglot_notebook": {
     "kernelName": "fsharp"
    },
    "vscode": {
     "languageId": "polyglot-notebook"
    }
   },
   "outputs": [
    {
     "data": {
      "text/html": [
       "<table><thead><tr><th><i>index</i></th><th>Beacon</th><th>Sensor</th><th>Covered</th></tr></thead><tbody><tr><td>0</td><td><table><thead><tr><th>Item</th></tr></thead><tbody><tr><td><div class=\"dni-plaintext\"><pre>( -2, 15 )</pre></div></td></tr></tbody></table></td><td><table><thead><tr><th>Item</th></tr></thead><tbody><tr><td><div class=\"dni-plaintext\"><pre>( 2, 18 )</pre></div></td></tr></tbody></table></td><td><table><thead><tr><th>N</th><th>E</th><th>S</th><th>W</th></tr></thead><tbody><tr><td><div class=\"dni-plaintext\"><pre>Point\n",
       "        Item: ( 2, 11 )</pre></div></td><td><div class=\"dni-plaintext\"><pre>Point\n",
       "        Item: ( 9, 18 )</pre></div></td><td><div class=\"dni-plaintext\"><pre>Point\n",
       "        Item: ( 2, 25 )</pre></div></td><td><div class=\"dni-plaintext\"><pre>Point\n",
       "        Item: ( -5, 18 )</pre></div></td></tr></tbody></table></td></tr><tr><td>1</td><td><table><thead><tr><th>Item</th></tr></thead><tbody><tr><td><div class=\"dni-plaintext\"><pre>( 10, 16 )</pre></div></td></tr></tbody></table></td><td><table><thead><tr><th>Item</th></tr></thead><tbody><tr><td><div class=\"dni-plaintext\"><pre>( 9, 16 )</pre></div></td></tr></tbody></table></td><td><table><thead><tr><th>N</th><th>E</th><th>S</th><th>W</th></tr></thead><tbody><tr><td><div class=\"dni-plaintext\"><pre>Point\n",
       "        Item: ( 9, 15 )</pre></div></td><td><div class=\"dni-plaintext\"><pre>Point\n",
       "        Item: ( 10, 16 )</pre></div></td><td><div class=\"dni-plaintext\"><pre>Point\n",
       "        Item: ( 9, 17 )</pre></div></td><td><div class=\"dni-plaintext\"><pre>Point\n",
       "        Item: ( 8, 16 )</pre></div></td></tr></tbody></table></td></tr><tr><td>2</td><td><table><thead><tr><th>Item</th></tr></thead><tbody><tr><td><div class=\"dni-plaintext\"><pre>( 15, 3 )</pre></div></td></tr></tbody></table></td><td><table><thead><tr><th>Item</th></tr></thead><tbody><tr><td><div class=\"dni-plaintext\"><pre>( 13, 2 )</pre></div></td></tr></tbody></table></td><td><table><thead><tr><th>N</th><th>E</th><th>S</th><th>W</th></tr></thead><tbody><tr><td><div class=\"dni-plaintext\"><pre>Point\n",
       "        Item: ( 13, -1 )</pre></div></td><td><div class=\"dni-plaintext\"><pre>Point\n",
       "        Item: ( 16, 2 )</pre></div></td><td><div class=\"dni-plaintext\"><pre>Point\n",
       "        Item: ( 13, 5 )</pre></div></td><td><div class=\"dni-plaintext\"><pre>Point\n",
       "        Item: ( 10, 2 )</pre></div></td></tr></tbody></table></td></tr><tr><td>3</td><td><table><thead><tr><th>Item</th></tr></thead><tbody><tr><td><div class=\"dni-plaintext\"><pre>( 10, 16 )</pre></div></td></tr></tbody></table></td><td><table><thead><tr><th>Item</th></tr></thead><tbody><tr><td><div class=\"dni-plaintext\"><pre>( 12, 14 )</pre></div></td></tr></tbody></table></td><td><table><thead><tr><th>N</th><th>E</th><th>S</th><th>W</th></tr></thead><tbody><tr><td><div class=\"dni-plaintext\"><pre>Point\n",
       "        Item: ( 12, 10 )</pre></div></td><td><div class=\"dni-plaintext\"><pre>Point\n",
       "        Item: ( 16, 14 )</pre></div></td><td><div class=\"dni-plaintext\"><pre>Point\n",
       "        Item: ( 12, 18 )</pre></div></td><td><div class=\"dni-plaintext\"><pre>Point\n",
       "        Item: ( 8, 14 )</pre></div></td></tr></tbody></table></td></tr><tr><td>4</td><td><table><thead><tr><th>Item</th></tr></thead><tbody><tr><td><div class=\"dni-plaintext\"><pre>( 10, 16 )</pre></div></td></tr></tbody></table></td><td><table><thead><tr><th>Item</th></tr></thead><tbody><tr><td><div class=\"dni-plaintext\"><pre>( 10, 20 )</pre></div></td></tr></tbody></table></td><td><table><thead><tr><th>N</th><th>E</th><th>S</th><th>W</th></tr></thead><tbody><tr><td><div class=\"dni-plaintext\"><pre>Point\n",
       "        Item: ( 10, 16 )</pre></div></td><td><div class=\"dni-plaintext\"><pre>Point\n",
       "        Item: ( 14, 20 )</pre></div></td><td><div class=\"dni-plaintext\"><pre>Point\n",
       "        Item: ( 10, 24 )</pre></div></td><td><div class=\"dni-plaintext\"><pre>Point\n",
       "        Item: ( 6, 20 )</pre></div></td></tr></tbody></table></td></tr><tr><td>5</td><td><table><thead><tr><th>Item</th></tr></thead><tbody><tr><td><div class=\"dni-plaintext\"><pre>( 10, 16 )</pre></div></td></tr></tbody></table></td><td><table><thead><tr><th>Item</th></tr></thead><tbody><tr><td><div class=\"dni-plaintext\"><pre>( 14, 17 )</pre></div></td></tr></tbody></table></td><td><table><thead><tr><th>N</th><th>E</th><th>S</th><th>W</th></tr></thead><tbody><tr><td><div class=\"dni-plaintext\"><pre>Point\n",
       "        Item: ( 14, 12 )</pre></div></td><td><div class=\"dni-plaintext\"><pre>Point\n",
       "        Item: ( 19, 17 )</pre></div></td><td><div class=\"dni-plaintext\"><pre>Point\n",
       "        Item: ( 14, 22 )</pre></div></td><td><div class=\"dni-plaintext\"><pre>Point\n",
       "        Item: ( 9, 17 )</pre></div></td></tr></tbody></table></td></tr><tr><td>6</td><td><table><thead><tr><th>Item</th></tr></thead><tbody><tr><td><div class=\"dni-plaintext\"><pre>( 2, 10 )</pre></div></td></tr></tbody></table></td><td><table><thead><tr><th>Item</th></tr></thead><tbody><tr><td><div class=\"dni-plaintext\"><pre>( 8, 7 )</pre></div></td></tr></tbody></table></td><td><table><thead><tr><th>N</th><th>E</th><th>S</th><th>W</th></tr></thead><tbody><tr><td><div class=\"dni-plaintext\"><pre>Point\n",
       "        Item: ( 8, -2 )</pre></div></td><td><div class=\"dni-plaintext\"><pre>Point\n",
       "        Item: ( 17, 7 )</pre></div></td><td><div class=\"dni-plaintext\"><pre>Point\n",
       "        Item: ( 8, 16 )</pre></div></td><td><div class=\"dni-plaintext\"><pre>Point\n",
       "        Item: ( -1, 7 )</pre></div></td></tr></tbody></table></td></tr><tr><td>7</td><td><table><thead><tr><th>Item</th></tr></thead><tbody><tr><td><div class=\"dni-plaintext\"><pre>( 2, 10 )</pre></div></td></tr></tbody></table></td><td><table><thead><tr><th>Item</th></tr></thead><tbody><tr><td><div class=\"dni-plaintext\"><pre>( 2, 0 )</pre></div></td></tr></tbody></table></td><td><table><thead><tr><th>N</th><th>E</th><th>S</th><th>W</th></tr></thead><tbody><tr><td><div class=\"dni-plaintext\"><pre>Point\n",
       "        Item: ( 2, -10 )</pre></div></td><td><div class=\"dni-plaintext\"><pre>Point\n",
       "        Item: ( 12, 0 )</pre></div></td><td><div class=\"dni-plaintext\"><pre>Point\n",
       "        Item: ( 2, 10 )</pre></div></td><td><div class=\"dni-plaintext\"><pre>Point\n",
       "        Item: ( -8, 0 )</pre></div></td></tr></tbody></table></td></tr><tr><td>8</td><td><table><thead><tr><th>Item</th></tr></thead><tbody><tr><td><div class=\"dni-plaintext\"><pre>( 2, 10 )</pre></div></td></tr></tbody></table></td><td><table><thead><tr><th>Item</th></tr></thead><tbody><tr><td><div class=\"dni-plaintext\"><pre>( 0, 11 )</pre></div></td></tr></tbody></table></td><td><table><thead><tr><th>N</th><th>E</th><th>S</th><th>W</th></tr></thead><tbody><tr><td><div class=\"dni-plaintext\"><pre>Point\n",
       "        Item: ( 0, 8 )</pre></div></td><td><div class=\"dni-plaintext\"><pre>Point\n",
       "        Item: ( 3, 11 )</pre></div></td><td><div class=\"dni-plaintext\"><pre>Point\n",
       "        Item: ( 0, 14 )</pre></div></td><td><div class=\"dni-plaintext\"><pre>Point\n",
       "        Item: ( -3, 11 )</pre></div></td></tr></tbody></table></td></tr><tr><td>9</td><td><table><thead><tr><th>Item</th></tr></thead><tbody><tr><td><div class=\"dni-plaintext\"><pre>( 25, 17 )</pre></div></td></tr></tbody></table></td><td><table><thead><tr><th>Item</th></tr></thead><tbody><tr><td><div class=\"dni-plaintext\"><pre>( 20, 14 )</pre></div></td></tr></tbody></table></td><td><table><thead><tr><th>N</th><th>E</th><th>S</th><th>W</th></tr></thead><tbody><tr><td><div class=\"dni-plaintext\"><pre>Point\n",
       "        Item: ( 20, 6 )</pre></div></td><td><div class=\"dni-plaintext\"><pre>Point\n",
       "        Item: ( 28, 14 )</pre></div></td><td><div class=\"dni-plaintext\"><pre>Point\n",
       "        Item: ( 20, 22 )</pre></div></td><td><div class=\"dni-plaintext\"><pre>Point\n",
       "        Item: ( 12, 14 )</pre></div></td></tr></tbody></table></td></tr><tr><td>10</td><td><table><thead><tr><th>Item</th></tr></thead><tbody><tr><td><div class=\"dni-plaintext\"><pre>( 21, 22 )</pre></div></td></tr></tbody></table></td><td><table><thead><tr><th>Item</th></tr></thead><tbody><tr><td><div class=\"dni-plaintext\"><pre>( 17, 20 )</pre></div></td></tr></tbody></table></td><td><table><thead><tr><th>N</th><th>E</th><th>S</th><th>W</th></tr></thead><tbody><tr><td><div class=\"dni-plaintext\"><pre>Point\n",
       "        Item: ( 17, 14 )</pre></div></td><td><div class=\"dni-plaintext\"><pre>Point\n",
       "        Item: ( 23, 20 )</pre></div></td><td><div class=\"dni-plaintext\"><pre>Point\n",
       "        Item: ( 17, 26 )</pre></div></td><td><div class=\"dni-plaintext\"><pre>Point\n",
       "        Item: ( 11, 20 )</pre></div></td></tr></tbody></table></td></tr><tr><td>11</td><td><table><thead><tr><th>Item</th></tr></thead><tbody><tr><td><div class=\"dni-plaintext\"><pre>( 15, 3 )</pre></div></td></tr></tbody></table></td><td><table><thead><tr><th>Item</th></tr></thead><tbody><tr><td><div class=\"dni-plaintext\"><pre>( 16, 7 )</pre></div></td></tr></tbody></table></td><td><table><thead><tr><th>N</th><th>E</th><th>S</th><th>W</th></tr></thead><tbody><tr><td><div class=\"dni-plaintext\"><pre>Point\n",
       "        Item: ( 16, 2 )</pre></div></td><td><div class=\"dni-plaintext\"><pre>Point\n",
       "        Item: ( 21, 7 )</pre></div></td><td><div class=\"dni-plaintext\"><pre>Point\n",
       "        Item: ( 16, 12 )</pre></div></td><td><div class=\"dni-plaintext\"><pre>Point\n",
       "        Item: ( 11, 7 )</pre></div></td></tr></tbody></table></td></tr><tr><td>12</td><td><table><thead><tr><th>Item</th></tr></thead><tbody><tr><td><div class=\"dni-plaintext\"><pre>( 15, 3 )</pre></div></td></tr></tbody></table></td><td><table><thead><tr><th>Item</th></tr></thead><tbody><tr><td><div class=\"dni-plaintext\"><pre>( 14, 3 )</pre></div></td></tr></tbody></table></td><td><table><thead><tr><th>N</th><th>E</th><th>S</th><th>W</th></tr></thead><tbody><tr><td><div class=\"dni-plaintext\"><pre>Point\n",
       "        Item: ( 14, 2 )</pre></div></td><td><div class=\"dni-plaintext\"><pre>Point\n",
       "        Item: ( 15, 3 )</pre></div></td><td><div class=\"dni-plaintext\"><pre>Point\n",
       "        Item: ( 14, 4 )</pre></div></td><td><div class=\"dni-plaintext\"><pre>Point\n",
       "        Item: ( 13, 3 )</pre></div></td></tr></tbody></table></td></tr><tr><td>13</td><td><table><thead><tr><th>Item</th></tr></thead><tbody><tr><td><div class=\"dni-plaintext\"><pre>( 15, 3 )</pre></div></td></tr></tbody></table></td><td><table><thead><tr><th>Item</th></tr></thead><tbody><tr><td><div class=\"dni-plaintext\"><pre>( 20, 1 )</pre></div></td></tr></tbody></table></td><td><table><thead><tr><th>N</th><th>E</th><th>S</th><th>W</th></tr></thead><tbody><tr><td><div class=\"dni-plaintext\"><pre>Point\n",
       "        Item: ( 20, -6 )</pre></div></td><td><div class=\"dni-plaintext\"><pre>Point\n",
       "        Item: ( 27, 1 )</pre></div></td><td><div class=\"dni-plaintext\"><pre>Point\n",
       "        Item: ( 20, 8 )</pre></div></td><td><div class=\"dni-plaintext\"><pre>Point\n",
       "        Item: ( 13, 1 )</pre></div></td></tr></tbody></table></td></tr></tbody></table><style>\r\n",
       ".dni-code-hint {\r\n",
       "    font-style: italic;\r\n",
       "    overflow: hidden;\r\n",
       "    white-space: nowrap;\r\n",
       "}\r\n",
       ".dni-treeview {\r\n",
       "    white-space: nowrap;\r\n",
       "}\r\n",
       ".dni-treeview td {\r\n",
       "    vertical-align: top;\r\n",
       "    text-align: start;\r\n",
       "}\r\n",
       "details.dni-treeview {\r\n",
       "    padding-left: 1em;\r\n",
       "}\r\n",
       "table td {\r\n",
       "    text-align: start;\r\n",
       "}\r\n",
       "table tr { \r\n",
       "    vertical-align: top; \r\n",
       "    margin: 0em 0px;\r\n",
       "}\r\n",
       "table tr td pre \r\n",
       "{ \r\n",
       "    vertical-align: top !important; \r\n",
       "    margin: 0em 0px !important;\r\n",
       "} \r\n",
       "table th {\r\n",
       "    text-align: start;\r\n",
       "}\r\n",
       "</style>"
      ]
     },
     "metadata": {},
     "output_type": "display_data"
    }
   ],
   "source": [
    "#!share sampleRaw --from value\n",
    "let sampleData = Pattern1.read read sampleRaw\n",
    "sampleData"
   ]
  },
  {
   "cell_type": "code",
   "execution_count": 26,
   "metadata": {
    "dotnet_interactive": {
     "language": "fsharp"
    },
    "polyglot_notebook": {
     "kernelName": "fsharp"
    },
    "vscode": {
     "languageId": "polyglot-notebook"
    }
   },
   "outputs": [],
   "source": [
    "#!value --name actualRaw --from-file ./data_actual.txt"
   ]
  },
  {
   "cell_type": "code",
   "execution_count": 27,
   "metadata": {
    "dotnet_interactive": {
     "language": "fsharp"
    },
    "polyglot_notebook": {
     "kernelName": "fsharp"
    },
    "vscode": {
     "languageId": "polyglot-notebook"
    }
   },
   "outputs": [],
   "source": [
    "#!share actualRaw --from value\n",
    "let actualData = Pattern1.read read actualRaw"
   ]
  },
  {
   "attachments": {},
   "cell_type": "markdown",
   "metadata": {
    "dotnet_interactive": {
     "language": "fsharp"
    },
    "polyglot_notebook": {
     "kernelName": "fsharp"
    }
   },
   "source": [
    "### Part 1"
   ]
  },
  {
   "cell_type": "code",
   "execution_count": 28,
   "metadata": {
    "dotnet_interactive": {
     "language": "fsharp"
    },
    "polyglot_notebook": {
     "kernelName": "fsharp"
    },
    "vscode": {
     "languageId": "polyglot-notebook"
    }
   },
   "outputs": [],
   "source": [
    "let segment atY area = \n",
    "    if (atY <= Point.y area.N || atY >= Point.y area.S)\n",
    "    then None\n",
    "    else \n",
    "        let d = atY - Point.y area.W\n",
    "        Range.T (Point.x area.W + abs d, Point.x area.E - abs d)\n",
    "        |> Some"
   ]
  },
  {
   "cell_type": "code",
   "execution_count": 41,
   "metadata": {
    "dotnet_interactive": {
     "language": "fsharp"
    },
    "polyglot_notebook": {
     "kernelName": "fsharp"
    },
    "vscode": {
     "languageId": "polyglot-notebook"
    }
   },
   "outputs": [],
   "source": [
    "let countCovered atY (data : SensorData[]) = \n",
    "    let allBeaconsAtY = \n",
    "        data \n",
    "        |> Seq.map (fun d -> d.Beacon)\n",
    "        |> Seq.distinct\n",
    "        |> Seq.filter (fun b -> atY = Point.y b)\n",
    "        |> Array.ofSeq\n",
    "\n",
    "    let atYsegments = \n",
    "        data\n",
    "        |> Array.choose (fun sd -> segment atY sd.Covered (*|> Option.map (fun x -> sd,x)*))\n",
    "    \n",
    "    let segmentsNormalized = \n",
    "        atYsegments |> Array.toList |> Range.unionAll\n",
    "\n",
    "    let beaconsAtSegments = \n",
    "        allBeaconsAtY\n",
    "        |> Array.filter (fun b -> segmentsNormalized |> List.exists (Range.contains (Point.x b)))\n",
    "\n",
    "    (segmentsNormalized\n",
    "    |> Seq.map (Range.len)\n",
    "    |> Seq.sum)\n",
    "    - \n",
    "    Array.length beaconsAtSegments\n",
    "\n",
    "\n",
    "    "
   ]
  },
  {
   "cell_type": "code",
   "execution_count": 42,
   "metadata": {
    "dotnet_interactive": {
     "language": "fsharp"
    },
    "polyglot_notebook": {
     "kernelName": "fsharp"
    },
    "vscode": {
     "languageId": "polyglot-notebook"
    }
   },
   "outputs": [
    {
     "data": {
      "text/html": [
       "<div class=\"dni-plaintext\"><pre>26</pre></div><style>\r\n",
       ".dni-code-hint {\r\n",
       "    font-style: italic;\r\n",
       "    overflow: hidden;\r\n",
       "    white-space: nowrap;\r\n",
       "}\r\n",
       ".dni-treeview {\r\n",
       "    white-space: nowrap;\r\n",
       "}\r\n",
       ".dni-treeview td {\r\n",
       "    vertical-align: top;\r\n",
       "    text-align: start;\r\n",
       "}\r\n",
       "details.dni-treeview {\r\n",
       "    padding-left: 1em;\r\n",
       "}\r\n",
       "table td {\r\n",
       "    text-align: start;\r\n",
       "}\r\n",
       "table tr { \r\n",
       "    vertical-align: top; \r\n",
       "    margin: 0em 0px;\r\n",
       "}\r\n",
       "table tr td pre \r\n",
       "{ \r\n",
       "    vertical-align: top !important; \r\n",
       "    margin: 0em 0px !important;\r\n",
       "} \r\n",
       "table th {\r\n",
       "    text-align: start;\r\n",
       "}\r\n",
       "</style>"
      ]
     },
     "metadata": {},
     "output_type": "display_data"
    }
   ],
   "source": [
    "countCovered 10 sampleData"
   ]
  },
  {
   "cell_type": "code",
   "execution_count": 43,
   "metadata": {
    "dotnet_interactive": {
     "language": "fsharp"
    },
    "polyglot_notebook": {
     "kernelName": "fsharp"
    },
    "vscode": {
     "languageId": "polyglot-notebook"
    }
   },
   "outputs": [
    {
     "data": {
      "text/html": [
       "<div class=\"dni-plaintext\"><pre>5525990</pre></div><style>\r\n",
       ".dni-code-hint {\r\n",
       "    font-style: italic;\r\n",
       "    overflow: hidden;\r\n",
       "    white-space: nowrap;\r\n",
       "}\r\n",
       ".dni-treeview {\r\n",
       "    white-space: nowrap;\r\n",
       "}\r\n",
       ".dni-treeview td {\r\n",
       "    vertical-align: top;\r\n",
       "    text-align: start;\r\n",
       "}\r\n",
       "details.dni-treeview {\r\n",
       "    padding-left: 1em;\r\n",
       "}\r\n",
       "table td {\r\n",
       "    text-align: start;\r\n",
       "}\r\n",
       "table tr { \r\n",
       "    vertical-align: top; \r\n",
       "    margin: 0em 0px;\r\n",
       "}\r\n",
       "table tr td pre \r\n",
       "{ \r\n",
       "    vertical-align: top !important; \r\n",
       "    margin: 0em 0px !important;\r\n",
       "} \r\n",
       "table th {\r\n",
       "    text-align: start;\r\n",
       "}\r\n",
       "</style>"
      ]
     },
     "metadata": {},
     "output_type": "display_data"
    }
   ],
   "source": [
    "countCovered 2_000_000 actualData"
   ]
  },
  {
   "attachments": {},
   "cell_type": "markdown",
   "metadata": {
    "dotnet_interactive": {
     "language": "fsharp"
    },
    "polyglot_notebook": {
     "kernelName": "fsharp"
    }
   },
   "source": [
    "### Part 2"
   ]
  },
  {
   "cell_type": "code",
   "execution_count": 57,
   "metadata": {
    "dotnet_interactive": {
     "language": "fsharp"
    },
    "polyglot_notebook": {
     "kernelName": "fsharp"
    },
    "vscode": {
     "languageId": "polyglot-notebook"
    }
   },
   "outputs": [],
   "source": [
    "let onlyUncoveredBeacon (xRange : Range.T) (yRange : Range.T) (data : SensorData[]) = \n",
    "    let (yFound, [segment2; segment1]) = \n",
    "        seq {\n",
    "            for y = Range.start yRange to Range.finish yRange do\n",
    "                let segments = \n",
    "                    data\n",
    "                    |> Seq.choose (fun data -> segment y data.Covered)\n",
    "                    |> Seq.filter (fun r -> Range.overlap r xRange)\n",
    "                    |> Seq.toList\n",
    "                    |> Range.unionAll\n",
    "                yield y,segments\n",
    "\n",
    "        } |> Seq.filter (snd >> List.length >> ((=)2))\n",
    "        |> Seq.exactlyOne\n",
    "    Point (Range.finish segment1 + 1, yFound)\n",
    "\n",
    "let tuningFrequency beacon = \n",
    "    int64 (Point.x beacon) * 4_000_000L + int64 (Point.y beacon)"
   ]
  },
  {
   "cell_type": "code",
   "execution_count": 58,
   "metadata": {
    "dotnet_interactive": {
     "language": "fsharp"
    },
    "polyglot_notebook": {
     "kernelName": "fsharp"
    },
    "vscode": {
     "languageId": "polyglot-notebook"
    }
   },
   "outputs": [
    {
     "data": {
      "text/html": [
       "<table><thead><tr><th>Item</th></tr></thead><tbody><tr><td><div class=\"dni-plaintext\"><pre>( 14, 11 )</pre></div></td></tr></tbody></table>"
      ]
     },
     "metadata": {},
     "output_type": "display_data"
    },
    {
     "data": {
      "text/html": [
       "<div class=\"dni-plaintext\"><pre>56000011</pre></div><style>\r\n",
       ".dni-code-hint {\r\n",
       "    font-style: italic;\r\n",
       "    overflow: hidden;\r\n",
       "    white-space: nowrap;\r\n",
       "}\r\n",
       ".dni-treeview {\r\n",
       "    white-space: nowrap;\r\n",
       "}\r\n",
       ".dni-treeview td {\r\n",
       "    vertical-align: top;\r\n",
       "    text-align: start;\r\n",
       "}\r\n",
       "details.dni-treeview {\r\n",
       "    padding-left: 1em;\r\n",
       "}\r\n",
       "table td {\r\n",
       "    text-align: start;\r\n",
       "}\r\n",
       "table tr { \r\n",
       "    vertical-align: top; \r\n",
       "    margin: 0em 0px;\r\n",
       "}\r\n",
       "table tr td pre \r\n",
       "{ \r\n",
       "    vertical-align: top !important; \r\n",
       "    margin: 0em 0px !important;\r\n",
       "} \r\n",
       "table th {\r\n",
       "    text-align: start;\r\n",
       "}\r\n",
       "</style>"
      ]
     },
     "metadata": {},
     "output_type": "display_data"
    }
   ],
   "source": [
    "sampleData |> onlyUncoveredBeacon (0, 20) (0, 20)\n",
    "|> displayPipe |> tuningFrequency"
   ]
  },
  {
   "cell_type": "code",
   "execution_count": 61,
   "metadata": {
    "dotnet_interactive": {
     "language": "fsharp"
    },
    "polyglot_notebook": {
     "kernelName": "fsharp"
    },
    "vscode": {
     "languageId": "polyglot-notebook"
    }
   },
   "outputs": [
    {
     "data": {
      "text/html": [
       "<table><thead><tr><th>Item</th></tr></thead><tbody><tr><td><div class=\"dni-plaintext\"><pre>( 2939043, 2628223 )</pre></div></td></tr></tbody></table>"
      ]
     },
     "metadata": {},
     "output_type": "display_data"
    },
    {
     "data": {
      "text/html": [
       "<div class=\"dni-plaintext\"><pre>11756174628223</pre></div><style>\r\n",
       ".dni-code-hint {\r\n",
       "    font-style: italic;\r\n",
       "    overflow: hidden;\r\n",
       "    white-space: nowrap;\r\n",
       "}\r\n",
       ".dni-treeview {\r\n",
       "    white-space: nowrap;\r\n",
       "}\r\n",
       ".dni-treeview td {\r\n",
       "    vertical-align: top;\r\n",
       "    text-align: start;\r\n",
       "}\r\n",
       "details.dni-treeview {\r\n",
       "    padding-left: 1em;\r\n",
       "}\r\n",
       "table td {\r\n",
       "    text-align: start;\r\n",
       "}\r\n",
       "table tr { \r\n",
       "    vertical-align: top; \r\n",
       "    margin: 0em 0px;\r\n",
       "}\r\n",
       "table tr td pre \r\n",
       "{ \r\n",
       "    vertical-align: top !important; \r\n",
       "    margin: 0em 0px !important;\r\n",
       "} \r\n",
       "table th {\r\n",
       "    text-align: start;\r\n",
       "}\r\n",
       "</style>"
      ]
     },
     "metadata": {},
     "output_type": "display_data"
    }
   ],
   "source": [
    "actualData |> onlyUncoveredBeacon (0, 4_000_000) (0, 4_000_000)\n",
    "|> displayPipe |> tuningFrequency"
   ]
  }
 ],
 "metadata": {
  "kernelspec": {
   "display_name": ".NET (C#)",
   "language": "C#",
   "name": ".net-csharp"
  },
  "polyglot_notebook": {
   "kernelInfo": {
    "defaultKernelName": "csharp",
    "items": [
     {
      "aliases": [
       "c#",
       "C#"
      ],
      "languageName": "C#",
      "name": "csharp"
     },
     {
      "aliases": [
       "frontend"
      ],
      "name": "vscode"
     },
     {
      "aliases": [],
      "name": ".NET"
     },
     {
      "aliases": [
       "f#",
       "F#"
      ],
      "languageName": "F#",
      "name": "fsharp"
     },
     {
      "aliases": [],
      "languageName": "HTML",
      "name": "html"
     },
     {
      "aliases": [],
      "languageName": "KQL",
      "name": "kql"
     },
     {
      "aliases": [],
      "languageName": "Mermaid",
      "name": "mermaid"
     },
     {
      "aliases": [
       "powershell"
      ],
      "languageName": "PowerShell",
      "name": "pwsh"
     },
     {
      "aliases": [],
      "languageName": "SQL",
      "name": "sql"
     },
     {
      "aliases": [],
      "name": "value"
     },
     {
      "aliases": [
       "js"
      ],
      "languageName": "JavaScript",
      "name": "javascript"
     },
     {
      "aliases": [],
      "name": "webview"
     }
    ]
   }
  }
 },
 "nbformat": 4,
 "nbformat_minor": 2
}
