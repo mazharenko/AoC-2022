{
 "cells": [
  {
   "attachments": {},
   "cell_type": "markdown",
   "metadata": {
    "dotnet_interactive": {
     "language": "csharp"
    },
    "polyglot_notebook": {
     "kernelName": "csharp"
    }
   },
   "source": [
    "## Day 13: Distress Signal\n",
    "\n",
    "[![nbviewer](https://raw.githubusercontent.com/jupyter/design/master/logos/Badges/nbviewer_badge.svg)](https://nbviewer.org/github/mazharenko/AoC-2022/tree/HEAD/notebooks/day13/puzzle.ipynb)"
   ]
  },
  {
   "cell_type": "code",
   "execution_count": 1,
   "metadata": {
    "dotnet_interactive": {
     "language": "fsharp"
    },
    "polyglot_notebook": {
     "kernelName": "fsharp"
    },
    "vscode": {
     "languageId": "polyglot-notebook"
    }
   },
   "outputs": [],
   "source": [
    "#!value --name sampleRaw \n",
    "[1,1,3,1,1]\n",
    "[1,1,5,1,1]\n",
    "\n",
    "[[1],[2,3,4]]\n",
    "[[1],4]\n",
    "\n",
    "[9]\n",
    "[[8,7,6]]\n",
    "\n",
    "[[4,4],4,4]\n",
    "[[4,4],4,4,4]\n",
    "\n",
    "[7,7,7,7]\n",
    "[7,7,7]\n",
    "\n",
    "[]\n",
    "[3]\n",
    "\n",
    "[[[]]]\n",
    "[[]]\n",
    "\n",
    "[1,[2,[3,[4,[5,6,7]]]],8,9]\n",
    "[1,[2,[3,[4,[5,6,0]]]],8,9]"
   ]
  },
  {
   "cell_type": "code",
   "execution_count": 2,
   "metadata": {
    "dotnet_interactive": {
     "language": "fsharp"
    },
    "polyglot_notebook": {
     "kernelName": "fsharp"
    },
    "vscode": {
     "languageId": "polyglot-notebook"
    }
   },
   "outputs": [],
   "source": [
    "#!value --name actualRaw --from-file ./data_actual.txt"
   ]
  },
  {
   "attachments": {},
   "cell_type": "markdown",
   "metadata": {
    "dotnet_interactive": {
     "language": "fsharp"
    },
    "polyglot_notebook": {
     "kernelName": "fsharp"
    }
   },
   "source": [
    "### Desiging the type\n",
    "\n",
    "Each list consists of integers or other lists, or both. This can be represented as a recursive DU.\n",
    "\n",
    "Comparison is a built-in concept and we want to respect it. The default comparison implementation does not meet our requirements though, but it can be overriden.\n",
    "\n",
    "Luckily, the default comparison for lists does meet our requirements."
   ]
  },
  {
   "cell_type": "code",
   "execution_count": 3,
   "metadata": {
    "dotnet_interactive": {
     "language": "fsharp"
    },
    "polyglot_notebook": {
     "kernelName": "fsharp"
    },
    "vscode": {
     "languageId": "polyglot-notebook"
    }
   },
   "outputs": [],
   "source": [
    "[<CustomComparison; CustomEquality>]\n",
    "type Packet = \n",
    "    | Int of int\n",
    "    | Packets of Packet list\n",
    "    interface IComparable<Packet> with\n",
    "        member this.CompareTo other = \n",
    "            match this,other with\n",
    "            | Int i, Int j -> compare i j\n",
    "            | (Packets p1, Packets p2) -> \n",
    "                compare p1 p2\n",
    "            | Int i, Packets p ->\n",
    "                compare (Packets [Int i]) (Packets p)\n",
    "            | Packets p, Int i -> \n",
    "                compare (Packets p) (Packets [Int i]) \n",
    "    override this.Equals other =\n",
    "        match other with\n",
    "        | :? Packet as p -> compare this p = 0\n",
    "        | _ -> false\n",
    "    interface IComparable with\n",
    "        member this.CompareTo other = \n",
    "            match other with \n",
    "            | :? Packet as p -> (this :> IComparable<Packet>).CompareTo(p)\n",
    "            | _ -> -1"
   ]
  },
  {
   "attachments": {},
   "cell_type": "markdown",
   "metadata": {
    "dotnet_interactive": {
     "language": "fsharp"
    },
    "polyglot_notebook": {
     "kernelName": "fsharp"
    }
   },
   "source": [
    "### Parsing"
   ]
  },
  {
   "cell_type": "code",
   "execution_count": 4,
   "metadata": {
    "dotnet_interactive": {
     "language": "fsharp"
    },
    "polyglot_notebook": {
     "kernelName": "fsharp"
    },
    "vscode": {
     "languageId": "polyglot-notebook"
    }
   },
   "outputs": [
    {
     "data": {
      "text/html": [
       "<div><div></div><div></div><div><strong>Installed Packages</strong><ul><li><span>Farkle, 6.3.2</span></li></ul></div></div>"
      ]
     },
     "metadata": {},
     "output_type": "display_data"
    }
   ],
   "source": [
    "#r \"nuget:Farkle, 6.3.2\"\n",
    "open Farkle\n",
    "open Farkle.Builder"
   ]
  },
  {
   "cell_type": "code",
   "execution_count": 5,
   "metadata": {
    "dotnet_interactive": {
     "language": "fsharp"
    },
    "polyglot_notebook": {
     "kernelName": "fsharp"
    },
    "vscode": {
     "languageId": "polyglot-notebook"
    }
   },
   "outputs": [],
   "source": [
    "#load \"../common/common.fsx\"\n",
    "\n",
    "let private number = Terminals.int \"Int\"\n",
    "let private packet = nonterminal \"Packet\"\n",
    "packet.SetProductions(\n",
    "    !@ number => (fun i -> Int i),\n",
    "    !& \"[\" .>>. (sepBy (Terminal.Literal \",\") packet) .>> \"]\" => Packets\n",
    ")\n",
    "\n",
    "let private parser = RuntimeFarkle.build packet\n",
    "\n",
    "let parsePacket s = \n",
    "    RuntimeFarkle.parseString parser s\n",
    "    |> Result.get\n",
    "\n",
    "let parsePackets raw = \n",
    "    Pattern2.read id raw \n",
    "    |> Array.map (fun x -> \n",
    "        let [|p1; p2|] = Pattern1.read parsePacket x\n",
    "        p1,p2\n",
    "    )\n",
    "\n"
   ]
  },
  {
   "cell_type": "code",
   "execution_count": 6,
   "metadata": {
    "dotnet_interactive": {
     "language": "fsharp"
    },
    "polyglot_notebook": {
     "kernelName": "fsharp"
    },
    "vscode": {
     "languageId": "polyglot-notebook"
    }
   },
   "outputs": [
    {
     "data": {
      "text/html": [
       "<table><thead><tr><th><i>index</i></th><th>Item1</th><th>Item2</th></tr></thead><tbody><tr><td>0</td><td><table><thead><tr><th>Item</th></tr></thead><tbody><tr><td><div class=\"dni-plaintext\"><pre>FSharpList&lt;Packet&gt;\n",
       "          - Item: 1\n",
       "          - Item: 1\n",
       "          - Item: 3\n",
       "          - Item: 1\n",
       "          - Item: 1</pre></div></td></tr></tbody></table></td><td><table><thead><tr><th>Item</th></tr></thead><tbody><tr><td><div class=\"dni-plaintext\"><pre>FSharpList&lt;Packet&gt;\n",
       "          - Item: 1\n",
       "          - Item: 1\n",
       "          - Item: 5\n",
       "          - Item: 1\n",
       "          - Item: 1</pre></div></td></tr></tbody></table></td></tr><tr><td>1</td><td><table><thead><tr><th>Item</th></tr></thead><tbody><tr><td><div class=\"dni-plaintext\"><pre>FSharpList&lt;Packet&gt;\n",
       "          - Item: FSharpList&lt;Packet&gt;\n",
       "                  - Item: 1\n",
       "          - Item: FSharpList&lt;Packet&gt;\n",
       "                  - Item: 2\n",
       "                  - Item: 3\n",
       "                  - Item: 4</pre></div></td></tr></tbody></table></td><td><table><thead><tr><th>Item</th></tr></thead><tbody><tr><td><div class=\"dni-plaintext\"><pre>FSharpList&lt;Packet&gt;\n",
       "          - Item: FSharpList&lt;Packet&gt;\n",
       "                  - Item: 1\n",
       "          - Item: 4</pre></div></td></tr></tbody></table></td></tr><tr><td>2</td><td><table><thead><tr><th>Item</th></tr></thead><tbody><tr><td><div class=\"dni-plaintext\"><pre>FSharpList&lt;Packet&gt;\n",
       "          - Item: 9</pre></div></td></tr></tbody></table></td><td><table><thead><tr><th>Item</th></tr></thead><tbody><tr><td><div class=\"dni-plaintext\"><pre>FSharpList&lt;Packet&gt;\n",
       "          - Item: FSharpList&lt;Packet&gt;\n",
       "                  - Item: 8\n",
       "                  - Item: 7\n",
       "                  - Item: 6</pre></div></td></tr></tbody></table></td></tr><tr><td>3</td><td><table><thead><tr><th>Item</th></tr></thead><tbody><tr><td><div class=\"dni-plaintext\"><pre>FSharpList&lt;Packet&gt;\n",
       "          - Item: FSharpList&lt;Packet&gt;\n",
       "                  - Item: 4\n",
       "                  - Item: 4\n",
       "          - Item: 4\n",
       "          - Item: 4</pre></div></td></tr></tbody></table></td><td><table><thead><tr><th>Item</th></tr></thead><tbody><tr><td><div class=\"dni-plaintext\"><pre>FSharpList&lt;Packet&gt;\n",
       "          - Item: FSharpList&lt;Packet&gt;\n",
       "                  - Item: 4\n",
       "                  - Item: 4\n",
       "          - Item: 4\n",
       "          - Item: 4\n",
       "          - Item: 4</pre></div></td></tr></tbody></table></td></tr><tr><td>4</td><td><table><thead><tr><th>Item</th></tr></thead><tbody><tr><td><div class=\"dni-plaintext\"><pre>FSharpList&lt;Packet&gt;\n",
       "          - Item: 7\n",
       "          - Item: 7\n",
       "          - Item: 7\n",
       "          - Item: 7</pre></div></td></tr></tbody></table></td><td><table><thead><tr><th>Item</th></tr></thead><tbody><tr><td><div class=\"dni-plaintext\"><pre>FSharpList&lt;Packet&gt;\n",
       "          - Item: 7\n",
       "          - Item: 7\n",
       "          - Item: 7</pre></div></td></tr></tbody></table></td></tr><tr><td>5</td><td><table><thead><tr><th>Item</th></tr></thead><tbody><tr><td><div class=\"dni-plaintext\"><pre>FSharpList&lt;Packet&gt;\n",
       "</pre></div></td></tr></tbody></table></td><td><table><thead><tr><th>Item</th></tr></thead><tbody><tr><td><div class=\"dni-plaintext\"><pre>FSharpList&lt;Packet&gt;\n",
       "          - Item: 3</pre></div></td></tr></tbody></table></td></tr><tr><td>6</td><td><table><thead><tr><th>Item</th></tr></thead><tbody><tr><td><div class=\"dni-plaintext\"><pre>FSharpList&lt;Packet&gt;\n",
       "          - Item: FSharpList&lt;Packet&gt;\n",
       "                  - Item: FSharpList&lt;Packet&gt;\n",
       "</pre></div></td></tr></tbody></table></td><td><table><thead><tr><th>Item</th></tr></thead><tbody><tr><td><div class=\"dni-plaintext\"><pre>FSharpList&lt;Packet&gt;\n",
       "          - Item: FSharpList&lt;Packet&gt;\n",
       "</pre></div></td></tr></tbody></table></td></tr><tr><td>7</td><td><table><thead><tr><th>Item</th></tr></thead><tbody><tr><td><div class=\"dni-plaintext\"><pre>FSharpList&lt;Packet&gt;\n",
       "          - Item: 1\n",
       "          - Item: FSharpList&lt;Packet&gt;\n",
       "                  - Item: 2\n",
       "                  - Item: FSharpList&lt;Packet&gt;\n",
       "                          - Item: 3\n",
       "                          - Item: FSharpList&lt;Packet&gt;\n",
       "Int 4\n",
       "Packets [Int 5; Int 6; Int 7]\n",
       "          - Item: 8\n",
       "          - Item: 9</pre></div></td></tr></tbody></table></td><td><table><thead><tr><th>Item</th></tr></thead><tbody><tr><td><div class=\"dni-plaintext\"><pre>FSharpList&lt;Packet&gt;\n",
       "          - Item: 1\n",
       "          - Item: FSharpList&lt;Packet&gt;\n",
       "                  - Item: 2\n",
       "                  - Item: FSharpList&lt;Packet&gt;\n",
       "                          - Item: 3\n",
       "                          - Item: FSharpList&lt;Packet&gt;\n",
       "Int 4\n",
       "Packets [Int 5; Int 6; Int 0]\n",
       "          - Item: 8\n",
       "          - Item: 9</pre></div></td></tr></tbody></table></td></tr></tbody></table><style>\r\n",
       ".dni-code-hint {\r\n",
       "    font-style: italic;\r\n",
       "    overflow: hidden;\r\n",
       "    white-space: nowrap;\r\n",
       "}\r\n",
       ".dni-treeview {\r\n",
       "    white-space: nowrap;\r\n",
       "}\r\n",
       ".dni-treeview td {\r\n",
       "    vertical-align: top;\r\n",
       "    text-align: start;\r\n",
       "}\r\n",
       "details.dni-treeview {\r\n",
       "    padding-left: 1em;\r\n",
       "}\r\n",
       "table td {\r\n",
       "    text-align: start;\r\n",
       "}\r\n",
       "table tr { \r\n",
       "    vertical-align: top; \r\n",
       "    margin: 0em 0px;\r\n",
       "}\r\n",
       "table tr td pre \r\n",
       "{ \r\n",
       "    vertical-align: top !important; \r\n",
       "    margin: 0em 0px !important;\r\n",
       "} \r\n",
       "table th {\r\n",
       "    text-align: start;\r\n",
       "}\r\n",
       "</style>"
      ]
     },
     "metadata": {},
     "output_type": "display_data"
    }
   ],
   "source": [
    "#!share sampleRaw --from value\n",
    "#!share actualRaw --from value\n",
    "let samplePackets = parsePackets sampleRaw\n",
    "let actualPackets = parsePackets actualRaw\n",
    "samplePackets"
   ]
  },
  {
   "attachments": {},
   "cell_type": "markdown",
   "metadata": {
    "dotnet_interactive": {
     "language": "fsharp"
    },
    "polyglot_notebook": {
     "kernelName": "fsharp"
    }
   },
   "source": [
    "### Part 1"
   ]
  },
  {
   "cell_type": "code",
   "execution_count": 14,
   "metadata": {
    "dotnet_interactive": {
     "language": "fsharp"
    },
    "polyglot_notebook": {
     "kernelName": "fsharp"
    },
    "vscode": {
     "languageId": "polyglot-notebook"
    }
   },
   "outputs": [
    {
     "data": {
      "text/html": [
       "<div class=\"dni-plaintext\"><pre>13</pre></div><style>\r\n",
       ".dni-code-hint {\r\n",
       "    font-style: italic;\r\n",
       "    overflow: hidden;\r\n",
       "    white-space: nowrap;\r\n",
       "}\r\n",
       ".dni-treeview {\r\n",
       "    white-space: nowrap;\r\n",
       "}\r\n",
       ".dni-treeview td {\r\n",
       "    vertical-align: top;\r\n",
       "    text-align: start;\r\n",
       "}\r\n",
       "details.dni-treeview {\r\n",
       "    padding-left: 1em;\r\n",
       "}\r\n",
       "table td {\r\n",
       "    text-align: start;\r\n",
       "}\r\n",
       "table tr { \r\n",
       "    vertical-align: top; \r\n",
       "    margin: 0em 0px;\r\n",
       "}\r\n",
       "table tr td pre \r\n",
       "{ \r\n",
       "    vertical-align: top !important; \r\n",
       "    margin: 0em 0px !important;\r\n",
       "} \r\n",
       "table th {\r\n",
       "    text-align: start;\r\n",
       "}\r\n",
       "</style>"
      ]
     },
     "metadata": {},
     "output_type": "display_data"
    }
   ],
   "source": [
    "let inOrderSum packets = \n",
    "    samplePackets\n",
    "    |> Array.indexed\n",
    "    |> Array.filter (fun (i, (p1,p2)) -> p2 > p1)\n",
    "    |> Array.map (fst >> ((+)1))\n",
    "    |> Array.sum\n",
    "\n",
    "inOrderSum samplePackets"
   ]
  },
  {
   "cell_type": "code",
   "execution_count": 13,
   "metadata": {
    "dotnet_interactive": {
     "language": "fsharp"
    },
    "polyglot_notebook": {
     "kernelName": "fsharp"
    },
    "vscode": {
     "languageId": "polyglot-notebook"
    }
   },
   "outputs": [
    {
     "data": {
      "text/html": [
       "<div class=\"dni-plaintext\"><pre>5529</pre></div><style>\r\n",
       ".dni-code-hint {\r\n",
       "    font-style: italic;\r\n",
       "    overflow: hidden;\r\n",
       "    white-space: nowrap;\r\n",
       "}\r\n",
       ".dni-treeview {\r\n",
       "    white-space: nowrap;\r\n",
       "}\r\n",
       ".dni-treeview td {\r\n",
       "    vertical-align: top;\r\n",
       "    text-align: start;\r\n",
       "}\r\n",
       "details.dni-treeview {\r\n",
       "    padding-left: 1em;\r\n",
       "}\r\n",
       "table td {\r\n",
       "    text-align: start;\r\n",
       "}\r\n",
       "table tr { \r\n",
       "    vertical-align: top; \r\n",
       "    margin: 0em 0px;\r\n",
       "}\r\n",
       "table tr td pre \r\n",
       "{ \r\n",
       "    vertical-align: top !important; \r\n",
       "    margin: 0em 0px !important;\r\n",
       "} \r\n",
       "table th {\r\n",
       "    text-align: start;\r\n",
       "}\r\n",
       "</style>"
      ]
     },
     "metadata": {},
     "output_type": "display_data"
    }
   ],
   "source": [
    "inOrderSum actualPackets"
   ]
  },
  {
   "attachments": {},
   "cell_type": "markdown",
   "metadata": {
    "dotnet_interactive": {
     "language": "fsharp"
    },
    "polyglot_notebook": {
     "kernelName": "fsharp"
    }
   },
   "source": [
    "### Part 2"
   ]
  },
  {
   "cell_type": "code",
   "execution_count": 18,
   "metadata": {
    "dotnet_interactive": {
     "language": "fsharp"
    },
    "polyglot_notebook": {
     "kernelName": "fsharp"
    },
    "vscode": {
     "languageId": "polyglot-notebook"
    }
   },
   "outputs": [
    {
     "data": {
      "text/html": [
       "<div class=\"dni-plaintext\"><pre>140</pre></div><style>\r\n",
       ".dni-code-hint {\r\n",
       "    font-style: italic;\r\n",
       "    overflow: hidden;\r\n",
       "    white-space: nowrap;\r\n",
       "}\r\n",
       ".dni-treeview {\r\n",
       "    white-space: nowrap;\r\n",
       "}\r\n",
       ".dni-treeview td {\r\n",
       "    vertical-align: top;\r\n",
       "    text-align: start;\r\n",
       "}\r\n",
       "details.dni-treeview {\r\n",
       "    padding-left: 1em;\r\n",
       "}\r\n",
       "table td {\r\n",
       "    text-align: start;\r\n",
       "}\r\n",
       "table tr { \r\n",
       "    vertical-align: top; \r\n",
       "    margin: 0em 0px;\r\n",
       "}\r\n",
       "table tr td pre \r\n",
       "{ \r\n",
       "    vertical-align: top !important; \r\n",
       "    margin: 0em 0px !important;\r\n",
       "} \r\n",
       "table th {\r\n",
       "    text-align: start;\r\n",
       "}\r\n",
       "</style>"
      ]
     },
     "metadata": {},
     "output_type": "display_data"
    }
   ],
   "source": [
    "let div1 = parsePacket \"[[2]]\"\n",
    "let div2 = parsePacket \"[[6]]\"\n",
    "\n",
    "let dividerIndices packets = \n",
    "    let sorted = \n",
    "        packets\n",
    "        |> Array.collect (fun (p1, p2)-> [|p1;p2|])\n",
    "        |> Array.append [|div1; div2|]\n",
    "        |> Array.sort\n",
    "    (Array.findIndex ((=)div1) sorted + 1) * (Array.findIndex ((=)div2) sorted + 1)\n",
    "    \n",
    "dividerIndices samplePackets"
   ]
  },
  {
   "cell_type": "code",
   "execution_count": 19,
   "metadata": {
    "dotnet_interactive": {
     "language": "fsharp"
    },
    "polyglot_notebook": {
     "kernelName": "fsharp"
    },
    "vscode": {
     "languageId": "polyglot-notebook"
    }
   },
   "outputs": [
    {
     "data": {
      "text/html": [
       "<div class=\"dni-plaintext\"><pre>27690</pre></div><style>\r\n",
       ".dni-code-hint {\r\n",
       "    font-style: italic;\r\n",
       "    overflow: hidden;\r\n",
       "    white-space: nowrap;\r\n",
       "}\r\n",
       ".dni-treeview {\r\n",
       "    white-space: nowrap;\r\n",
       "}\r\n",
       ".dni-treeview td {\r\n",
       "    vertical-align: top;\r\n",
       "    text-align: start;\r\n",
       "}\r\n",
       "details.dni-treeview {\r\n",
       "    padding-left: 1em;\r\n",
       "}\r\n",
       "table td {\r\n",
       "    text-align: start;\r\n",
       "}\r\n",
       "table tr { \r\n",
       "    vertical-align: top; \r\n",
       "    margin: 0em 0px;\r\n",
       "}\r\n",
       "table tr td pre \r\n",
       "{ \r\n",
       "    vertical-align: top !important; \r\n",
       "    margin: 0em 0px !important;\r\n",
       "} \r\n",
       "table th {\r\n",
       "    text-align: start;\r\n",
       "}\r\n",
       "</style>"
      ]
     },
     "metadata": {},
     "output_type": "display_data"
    }
   ],
   "source": [
    "dividerIndices actualPackets"
   ]
  }
 ],
 "metadata": {
  "kernelspec": {
   "display_name": ".NET (C#)",
   "language": "C#",
   "name": ".net-csharp"
  },
  "polyglot_notebook": {
   "kernelInfo": {
    "defaultKernelName": "csharp",
    "items": [
     {
      "aliases": [],
      "name": "csharp"
     }
    ]
   }
  }
 },
 "nbformat": 4,
 "nbformat_minor": 2
}
