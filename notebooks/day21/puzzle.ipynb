{
 "cells": [
  {
   "attachments": {},
   "cell_type": "markdown",
   "metadata": {
    "dotnet_interactive": {
     "language": "csharp"
    },
    "polyglot_notebook": {
     "kernelName": "csharp"
    }
   },
   "source": [
    "## Day 21: Monkey Math\n",
    "\n",
    "[![nbviewer](https://raw.githubusercontent.com/jupyter/design/master/logos/Badges/nbviewer_badge.svg)](https://nbviewer.org/github/mazharenko/AoC-2022/tree/HEAD/notebooks/day21/puzzle.ipynb)"
   ]
  },
  {
   "attachments": {},
   "cell_type": "markdown",
   "metadata": {
    "dotnet_interactive": {
     "language": "csharp"
    },
    "polyglot_notebook": {
     "kernelName": "csharp"
    }
   },
   "source": [
    "### Preparation\n",
    "\n",
    "It promises to be convenient to build a calculation tree. The input is read to the dictionary first, then the tree is recursively built."
   ]
  },
  {
   "cell_type": "code",
   "execution_count": 81,
   "metadata": {
    "dotnet_interactive": {
     "language": "fsharp"
    },
    "polyglot_notebook": {
     "kernelName": "fsharp"
    },
    "vscode": {
     "languageId": "polyglot-notebook"
    }
   },
   "outputs": [],
   "source": [
    "#!value --name sampleRaw\n",
    "root: pppw + sjmn\n",
    "dbpl: 5\n",
    "cczh: sllz + lgvd\n",
    "zczc: 2\n",
    "ptdq: humn - dvpt\n",
    "dvpt: 3\n",
    "lfqf: 4\n",
    "humn: 5\n",
    "ljgn: 2\n",
    "sjmn: drzm * dbpl\n",
    "sllz: 4\n",
    "pppw: cczh / lfqf\n",
    "lgvd: ljgn * ptdq\n",
    "drzm: hmdt - zczc\n",
    "hmdt: 32"
   ]
  },
  {
   "cell_type": "code",
   "execution_count": 82,
   "metadata": {
    "dotnet_interactive": {
     "language": "fsharp"
    },
    "polyglot_notebook": {
     "kernelName": "fsharp"
    },
    "vscode": {
     "languageId": "polyglot-notebook"
    }
   },
   "outputs": [],
   "source": [
    "type Op = string\n",
    "type MonkeyBillet = \n",
    "    | Num of int64\n",
    "    | Op of string * Op * string"
   ]
  },
  {
   "cell_type": "code",
   "execution_count": 83,
   "metadata": {
    "dotnet_interactive": {
     "language": "fsharp"
    },
    "polyglot_notebook": {
     "kernelName": "fsharp"
    },
    "vscode": {
     "languageId": "polyglot-notebook"
    }
   },
   "outputs": [],
   "source": [
    "#load \"../common/common.fsx\"\n",
    "\n",
    "let parse s = \n",
    "    Pattern1.read id s \n",
    "    |> Array.map (\n",
    "        function \n",
    "        | Regex \"(\\w+): (\\d+)\" [monkey; num] ->\n",
    "            monkey, int64 num |> MonkeyBillet.Num\n",
    "        | Regex \"(\\w+): (\\w+) (.) (\\w+)\" [monkey; x; op; y] ->\n",
    "            monkey, MonkeyBillet.Op (x, op, y)\n",
    "    ) |> Map.ofArray\n"
   ]
  },
  {
   "cell_type": "code",
   "execution_count": 84,
   "metadata": {
    "dotnet_interactive": {
     "language": "fsharp"
    },
    "polyglot_notebook": {
     "kernelName": "fsharp"
    },
    "vscode": {
     "languageId": "polyglot-notebook"
    }
   },
   "outputs": [
    {
     "data": {
      "text/html": [
       "<table><thead><tr><th><i>key</i></th><th><i>type</i></th><th>Item1</th><th>Item2</th><th>Item3</th><th>Item</th></tr></thead><tbody><tr><td>cczh</td><td>FSI_0138+MonkeyBillet+Op</td><td>sllz</td><td>+</td><td>lgvd</td><td></td></tr><tr><td>dbpl</td><td>FSI_0138+MonkeyBillet+Num</td><td></td><td></td><td></td><td><div class=\"dni-plaintext\"><pre>5</pre></div></td></tr><tr><td>drzm</td><td>FSI_0138+MonkeyBillet+Op</td><td>hmdt</td><td>-</td><td>zczc</td><td></td></tr><tr><td>dvpt</td><td>FSI_0138+MonkeyBillet+Num</td><td></td><td></td><td></td><td><div class=\"dni-plaintext\"><pre>3</pre></div></td></tr><tr><td>hmdt</td><td>FSI_0138+MonkeyBillet+Num</td><td></td><td></td><td></td><td><div class=\"dni-plaintext\"><pre>32</pre></div></td></tr><tr><td>humn</td><td>FSI_0138+MonkeyBillet+Num</td><td></td><td></td><td></td><td><div class=\"dni-plaintext\"><pre>5</pre></div></td></tr><tr><td>lfqf</td><td>FSI_0138+MonkeyBillet+Num</td><td></td><td></td><td></td><td><div class=\"dni-plaintext\"><pre>4</pre></div></td></tr><tr><td>lgvd</td><td>FSI_0138+MonkeyBillet+Op</td><td>ljgn</td><td>*</td><td>ptdq</td><td></td></tr><tr><td>ljgn</td><td>FSI_0138+MonkeyBillet+Num</td><td></td><td></td><td></td><td><div class=\"dni-plaintext\"><pre>2</pre></div></td></tr><tr><td>pppw</td><td>FSI_0138+MonkeyBillet+Op</td><td>cczh</td><td>/</td><td>lfqf</td><td></td></tr><tr><td>ptdq</td><td>FSI_0138+MonkeyBillet+Op</td><td>humn</td><td>-</td><td>dvpt</td><td></td></tr><tr><td>root</td><td>FSI_0138+MonkeyBillet+Op</td><td>pppw</td><td>+</td><td>sjmn</td><td></td></tr><tr><td>sjmn</td><td>FSI_0138+MonkeyBillet+Op</td><td>drzm</td><td>*</td><td>dbpl</td><td></td></tr><tr><td>sllz</td><td>FSI_0138+MonkeyBillet+Num</td><td></td><td></td><td></td><td><div class=\"dni-plaintext\"><pre>4</pre></div></td></tr><tr><td>zczc</td><td>FSI_0138+MonkeyBillet+Num</td><td></td><td></td><td></td><td><div class=\"dni-plaintext\"><pre>2</pre></div></td></tr></tbody></table><style>\r\n",
       ".dni-code-hint {\r\n",
       "    font-style: italic;\r\n",
       "    overflow: hidden;\r\n",
       "    white-space: nowrap;\r\n",
       "}\r\n",
       ".dni-treeview {\r\n",
       "    white-space: nowrap;\r\n",
       "}\r\n",
       ".dni-treeview td {\r\n",
       "    vertical-align: top;\r\n",
       "    text-align: start;\r\n",
       "}\r\n",
       "details.dni-treeview {\r\n",
       "    padding-left: 1em;\r\n",
       "}\r\n",
       "table td {\r\n",
       "    text-align: start;\r\n",
       "}\r\n",
       "table tr { \r\n",
       "    vertical-align: top; \r\n",
       "    margin: 0em 0px;\r\n",
       "}\r\n",
       "table tr td pre \r\n",
       "{ \r\n",
       "    vertical-align: top !important; \r\n",
       "    margin: 0em 0px !important;\r\n",
       "} \r\n",
       "table th {\r\n",
       "    text-align: start;\r\n",
       "}\r\n",
       "</style>"
      ]
     },
     "metadata": {},
     "output_type": "display_data"
    }
   ],
   "source": [
    "#!share sampleRaw --from value\n",
    "\n",
    "parse sampleRaw"
   ]
  },
  {
   "cell_type": "code",
   "execution_count": 85,
   "metadata": {
    "dotnet_interactive": {
     "language": "fsharp"
    },
    "polyglot_notebook": {
     "kernelName": "fsharp"
    },
    "vscode": {
     "languageId": "polyglot-notebook"
    }
   },
   "outputs": [],
   "source": [
    "type YellMonkey = { Id: string; Number: int64 }\n",
    "and WaitMonkey = { Id: string; Left: MonkeyNode; Op: Op; Right: MonkeyNode }\n",
    "and MonkeyNode = \n",
    "    | Yell of YellMonkey\n",
    "    | Wait of WaitMonkey\n",
    "\n",
    "let monkeyId monkey = match monkey with | Yell { Id = id } | Wait { Id = id } -> id\n",
    "    \n",
    "let rec buildTree id (dic : Map<string, MonkeyBillet>) = \n",
    "    match dic[id] with\n",
    "    | MonkeyBillet.Num number \n",
    "        -> Yell { Id = id; Number = number }\n",
    "    | MonkeyBillet.Op (left, op, right) \n",
    "        -> Wait { Id = id; Left = buildTree left dic; Op = op; Right = buildTree right dic }"
   ]
  },
  {
   "cell_type": "code",
   "execution_count": 86,
   "metadata": {
    "dotnet_interactive": {
     "language": "fsharp"
    },
    "polyglot_notebook": {
     "kernelName": "fsharp"
    },
    "vscode": {
     "languageId": "polyglot-notebook"
    }
   },
   "outputs": [
    {
     "data": {
      "text/html": [
       "<table><thead><tr><th>Item</th></tr></thead><tbody><tr><td><div class=\"dni-plaintext\"><pre>WaitMonkey\n",
       "        Id: root\n",
       "        Left: Wait\n",
       "            Item: WaitMonkey\n",
       "                Id: pppw\n",
       "                Left: Wait\n",
       "                    Item: WaitMonkey\n",
       "                        Id: cczh\n",
       "                        Left: Yell\n",
       "                            Item: { Id = &quot;sllz&quot;\n",
       "  Number = 4L }\n",
       "                        Op: +\n",
       "                        Right: Wait\n",
       "                            Item: { Id = &quot;lgvd&quot;\n",
       "  Left = Yell { Id = &quot;ljgn&quot;\n",
       "                Number = 2L }\n",
       "  Op = &quot;*&quot;\n",
       "  Right = Wait { Id = &quot;ptdq&quot;\n",
       "                 Left = Yell { Id = &quot;humn&quot;\n",
       "                               Number = 5L }\n",
       "                 Op = &quot;-&quot;\n",
       "                 Right = Yell { Id = &quot;dvpt&quot;\n",
       "                                Number = 3L } } }\n",
       "                Op: /\n",
       "                Right: Yell\n",
       "                    Item: YellMonkey\n",
       "                        Id: lfqf\n",
       "                        Number: 4\n",
       "        Op: +\n",
       "        Right: Wait\n",
       "            Item: WaitMonkey\n",
       "                Id: sjmn\n",
       "                Left: Wait\n",
       "                    Item: WaitMonkey\n",
       "                        Id: drzm\n",
       "                        Left: Yell\n",
       "                            Item: { Id = &quot;hmdt&quot;\n",
       "  Number = 32L }\n",
       "                        Op: -\n",
       "                        Right: Yell\n",
       "                            Item: { Id = &quot;zczc&quot;\n",
       "  Number = 2L }\n",
       "                Op: *\n",
       "                Right: Yell\n",
       "                    Item: YellMonkey\n",
       "                        Id: dbpl\n",
       "                        Number: 5</pre></div></td></tr></tbody></table>"
      ]
     },
     "metadata": {},
     "output_type": "display_data"
    }
   ],
   "source": [
    "let sampleMonkeys = sampleRaw |> parse |> buildTree \"root\"\n",
    "sampleMonkeys"
   ]
  },
  {
   "attachments": {},
   "cell_type": "markdown",
   "metadata": {
    "dotnet_interactive": {
     "language": "fsharp"
    },
    "polyglot_notebook": {
     "kernelName": "fsharp"
    }
   },
   "source": [
    "### Part 1\n",
    "\n",
    "With the tree built, part 1 is trivial. The tree is traversed and node values are calculated in a depth-first manner."
   ]
  },
  {
   "cell_type": "code",
   "execution_count": 87,
   "metadata": {
    "dotnet_interactive": {
     "language": "fsharp"
    },
    "polyglot_notebook": {
     "kernelName": "fsharp"
    },
    "vscode": {
     "languageId": "polyglot-notebook"
    }
   },
   "outputs": [],
   "source": [
    "let rec calculate node = \n",
    "    match node with\n",
    "    | Yell { Number = num } -> num\n",
    "    | Wait { Left = left; Op = op; Right = right } ->\n",
    "        let leftResult = calculate left\n",
    "        let rightResult = calculate right\n",
    "        let f = \n",
    "            match op with\n",
    "            | \"*\" -> (*)\n",
    "            | \"+\" -> (+)\n",
    "            | \"/\" -> (/)\n",
    "            | \"-\" -> (-)\n",
    "        f leftResult rightResult"
   ]
  },
  {
   "cell_type": "code",
   "execution_count": 88,
   "metadata": {
    "dotnet_interactive": {
     "language": "fsharp"
    },
    "polyglot_notebook": {
     "kernelName": "fsharp"
    },
    "vscode": {
     "languageId": "polyglot-notebook"
    }
   },
   "outputs": [
    {
     "data": {
      "text/html": [
       "<div class=\"dni-plaintext\"><pre>152</pre></div><style>\r\n",
       ".dni-code-hint {\r\n",
       "    font-style: italic;\r\n",
       "    overflow: hidden;\r\n",
       "    white-space: nowrap;\r\n",
       "}\r\n",
       ".dni-treeview {\r\n",
       "    white-space: nowrap;\r\n",
       "}\r\n",
       ".dni-treeview td {\r\n",
       "    vertical-align: top;\r\n",
       "    text-align: start;\r\n",
       "}\r\n",
       "details.dni-treeview {\r\n",
       "    padding-left: 1em;\r\n",
       "}\r\n",
       "table td {\r\n",
       "    text-align: start;\r\n",
       "}\r\n",
       "table tr { \r\n",
       "    vertical-align: top; \r\n",
       "    margin: 0em 0px;\r\n",
       "}\r\n",
       "table tr td pre \r\n",
       "{ \r\n",
       "    vertical-align: top !important; \r\n",
       "    margin: 0em 0px !important;\r\n",
       "} \r\n",
       "table th {\r\n",
       "    text-align: start;\r\n",
       "}\r\n",
       "</style>"
      ]
     },
     "metadata": {},
     "output_type": "display_data"
    }
   ],
   "source": [
    "calculate sampleMonkeys"
   ]
  },
  {
   "attachments": {},
   "cell_type": "markdown",
   "metadata": {
    "dotnet_interactive": {
     "language": "fsharp"
    },
    "polyglot_notebook": {
     "kernelName": "fsharp"
    }
   },
   "source": [
    "For the actual input:"
   ]
  },
  {
   "cell_type": "code",
   "execution_count": 89,
   "metadata": {
    "dotnet_interactive": {
     "language": "fsharp"
    },
    "polyglot_notebook": {
     "kernelName": "fsharp"
    },
    "vscode": {
     "languageId": "polyglot-notebook"
    }
   },
   "outputs": [],
   "source": [
    "#!value --name actualRaw --from-file ./data_actual.txt"
   ]
  },
  {
   "cell_type": "code",
   "execution_count": 111,
   "metadata": {
    "dotnet_interactive": {
     "language": "fsharp"
    },
    "polyglot_notebook": {
     "kernelName": "fsharp"
    },
    "vscode": {
     "languageId": "polyglot-notebook"
    }
   },
   "outputs": [
    {
     "data": {
      "text/html": [
       "<div class=\"dni-plaintext\"><pre>324122188240430</pre></div><style>\r\n",
       ".dni-code-hint {\r\n",
       "    font-style: italic;\r\n",
       "    overflow: hidden;\r\n",
       "    white-space: nowrap;\r\n",
       "}\r\n",
       ".dni-treeview {\r\n",
       "    white-space: nowrap;\r\n",
       "}\r\n",
       ".dni-treeview td {\r\n",
       "    vertical-align: top;\r\n",
       "    text-align: start;\r\n",
       "}\r\n",
       "details.dni-treeview {\r\n",
       "    padding-left: 1em;\r\n",
       "}\r\n",
       "table td {\r\n",
       "    text-align: start;\r\n",
       "}\r\n",
       "table tr { \r\n",
       "    vertical-align: top; \r\n",
       "    margin: 0em 0px;\r\n",
       "}\r\n",
       "table tr td pre \r\n",
       "{ \r\n",
       "    vertical-align: top !important; \r\n",
       "    margin: 0em 0px !important;\r\n",
       "} \r\n",
       "table th {\r\n",
       "    text-align: start;\r\n",
       "}\r\n",
       "</style>"
      ]
     },
     "metadata": {},
     "output_type": "display_data"
    }
   ],
   "source": [
    "#!share actualRaw --from value\n",
    "\n",
    "let actualMonkeys = actualRaw |> parse |> buildTree \"root\"\n",
    "actualMonkeys |> calculate"
   ]
  },
  {
   "attachments": {},
   "cell_type": "markdown",
   "metadata": {
    "dotnet_interactive": {
     "language": "fsharp"
    },
    "polyglot_notebook": {
     "kernelName": "fsharp"
    }
   },
   "source": [
    "### Part 2\n",
    "\n",
    "For path 2 we want to find the path to the `humn` node first. "
   ]
  },
  {
   "cell_type": "code",
   "execution_count": 91,
   "metadata": {
    "dotnet_interactive": {
     "language": "fsharp"
    },
    "polyglot_notebook": {
     "kernelName": "fsharp"
    },
    "vscode": {
     "languageId": "polyglot-notebook"
    }
   },
   "outputs": [],
   "source": [
    "type PathItem = | Left | Right"
   ]
  },
  {
   "cell_type": "code",
   "execution_count": 92,
   "metadata": {
    "dotnet_interactive": {
     "language": "fsharp"
    },
    "polyglot_notebook": {
     "kernelName": "fsharp"
    },
    "vscode": {
     "languageId": "polyglot-notebook"
    }
   },
   "outputs": [],
   "source": [
    "let rec findPath root target = \n",
    "    if monkeyId root = target then Some []\n",
    "    else \n",
    "        match root with\n",
    "        | Yell _ -> None\n",
    "        | Wait { Left = left; Right = right } -> \n",
    "            match findPath left target with\n",
    "            | Some found -> Some (Left :: found)\n",
    "            | None -> \n",
    "                match findPath right target with\n",
    "                | Some found -> Some (Right :: found)\n",
    "                | None -> None"
   ]
  },
  {
   "cell_type": "code",
   "execution_count": 100,
   "metadata": {
    "dotnet_interactive": {
     "language": "fsharp"
    },
    "polyglot_notebook": {
     "kernelName": "fsharp"
    },
    "vscode": {
     "languageId": "polyglot-notebook"
    }
   },
   "outputs": [
    {
     "data": {
      "text/html": [
       "<table><thead><tr><th><i>index</i></th><th>value</th></tr></thead><tbody><tr><td>0</td><td>Left</td></tr><tr><td>1</td><td>Left</td></tr><tr><td>2</td><td>Right</td></tr><tr><td>3</td><td>Right</td></tr><tr><td>4</td><td>Left</td></tr></tbody></table><style>\r\n",
       ".dni-code-hint {\r\n",
       "    font-style: italic;\r\n",
       "    overflow: hidden;\r\n",
       "    white-space: nowrap;\r\n",
       "}\r\n",
       ".dni-treeview {\r\n",
       "    white-space: nowrap;\r\n",
       "}\r\n",
       ".dni-treeview td {\r\n",
       "    vertical-align: top;\r\n",
       "    text-align: start;\r\n",
       "}\r\n",
       "details.dni-treeview {\r\n",
       "    padding-left: 1em;\r\n",
       "}\r\n",
       "table td {\r\n",
       "    text-align: start;\r\n",
       "}\r\n",
       "table tr { \r\n",
       "    vertical-align: top; \r\n",
       "    margin: 0em 0px;\r\n",
       "}\r\n",
       "table tr td pre \r\n",
       "{ \r\n",
       "    vertical-align: top !important; \r\n",
       "    margin: 0em 0px !important;\r\n",
       "} \r\n",
       "table th {\r\n",
       "    text-align: start;\r\n",
       "}\r\n",
       "</style>"
      ]
     },
     "metadata": {},
     "output_type": "display_data"
    }
   ],
   "source": [
    "let sampleHumnPath = findPath sampleMonkeys \"humn\" |> Option.get\n",
    "sampleHumnPath |> List.map string"
   ]
  },
  {
   "attachments": {},
   "cell_type": "markdown",
   "metadata": {
    "dotnet_interactive": {
     "language": "fsharp"
    },
    "polyglot_notebook": {
     "kernelName": "fsharp"
    }
   },
   "source": [
    "Now, going down the tree along this path, on each step we can calculate the other subtree value and determine the target value for the subtree with the `humn` node."
   ]
  },
  {
   "cell_type": "code",
   "execution_count": 105,
   "metadata": {
    "dotnet_interactive": {
     "language": "fsharp"
    },
    "polyglot_notebook": {
     "kernelName": "fsharp"
    },
    "vscode": {
     "languageId": "polyglot-notebook"
    }
   },
   "outputs": [],
   "source": [
    "let rec private calculateHumn' path tree target = \n",
    "    match path with \n",
    "    | (current::rest) -> \n",
    "        match tree with\n",
    "        | Wait {Left = left; Op = op; Right = right} -> \n",
    "            match current, op with\n",
    "            | Left, \"+\" -> // x + right = target => x = target - right\n",
    "                calculateHumn' rest left (target - (calculate right))\n",
    "            | Left, \"-\" -> // x - right = target => x = target + right\n",
    "                calculateHumn' rest left (target + (calculate right))\n",
    "            | Left, \"*\" -> // x * right = target => x = target / right\n",
    "                calculateHumn' rest left (target / (calculate right))\n",
    "            | Left, \"/\" -> // x / right = target => x = target * right\n",
    "                calculateHumn' rest left (target * (calculate right))\n",
    "            | Right, \"+\" -> // left + x = target => x = target - left\n",
    "                calculateHumn' rest right (target - (calculate left))\n",
    "            | Right, \"-\" -> // left - x = target => x = left - target\n",
    "                calculateHumn' rest right ((calculate left) - target)\n",
    "            | Right, \"*\" -> // left * x = target => x = target / left\n",
    "                calculateHumn' rest right (target / (calculate left))\n",
    "            | Right, \"/\" -> // left / x = target => x = left / target\n",
    "                calculateHumn' rest right ((calculate left) / target)\n",
    "    | _ -> target\n",
    "\n",
    "let calculateHumn path tree = \n",
    "    match path with \n",
    "    | (current::rest) -> \n",
    "        match tree with\n",
    "        | Wait {Left = left; Right = right} -> \n",
    "            match current with\n",
    "            | Left -> // x = right\n",
    "                calculateHumn' rest left (calculate right)\n",
    "            | Right -> // left = x\n",
    "                calculateHumn' rest right (calculate left)\n",
    "\n"
   ]
  },
  {
   "cell_type": "code",
   "execution_count": 112,
   "metadata": {
    "dotnet_interactive": {
     "language": "fsharp"
    },
    "polyglot_notebook": {
     "kernelName": "fsharp"
    },
    "vscode": {
     "languageId": "polyglot-notebook"
    }
   },
   "outputs": [
    {
     "data": {
      "text/html": [
       "<div class=\"dni-plaintext\"><pre>301</pre></div><style>\r\n",
       ".dni-code-hint {\r\n",
       "    font-style: italic;\r\n",
       "    overflow: hidden;\r\n",
       "    white-space: nowrap;\r\n",
       "}\r\n",
       ".dni-treeview {\r\n",
       "    white-space: nowrap;\r\n",
       "}\r\n",
       ".dni-treeview td {\r\n",
       "    vertical-align: top;\r\n",
       "    text-align: start;\r\n",
       "}\r\n",
       "details.dni-treeview {\r\n",
       "    padding-left: 1em;\r\n",
       "}\r\n",
       "table td {\r\n",
       "    text-align: start;\r\n",
       "}\r\n",
       "table tr { \r\n",
       "    vertical-align: top; \r\n",
       "    margin: 0em 0px;\r\n",
       "}\r\n",
       "table tr td pre \r\n",
       "{ \r\n",
       "    vertical-align: top !important; \r\n",
       "    margin: 0em 0px !important;\r\n",
       "} \r\n",
       "table th {\r\n",
       "    text-align: start;\r\n",
       "}\r\n",
       "</style>"
      ]
     },
     "metadata": {},
     "output_type": "display_data"
    }
   ],
   "source": [
    "calculateHumn sampleHumnPath sampleMonkeys"
   ]
  },
  {
   "cell_type": "code",
   "execution_count": 109,
   "metadata": {
    "dotnet_interactive": {
     "language": "fsharp"
    },
    "polyglot_notebook": {
     "kernelName": "fsharp"
    },
    "vscode": {
     "languageId": "polyglot-notebook"
    }
   },
   "outputs": [
    {
     "data": {
      "text/html": [
       "<div class=\"dni-plaintext\"><pre>3412650897405</pre></div><style>\r\n",
       ".dni-code-hint {\r\n",
       "    font-style: italic;\r\n",
       "    overflow: hidden;\r\n",
       "    white-space: nowrap;\r\n",
       "}\r\n",
       ".dni-treeview {\r\n",
       "    white-space: nowrap;\r\n",
       "}\r\n",
       ".dni-treeview td {\r\n",
       "    vertical-align: top;\r\n",
       "    text-align: start;\r\n",
       "}\r\n",
       "details.dni-treeview {\r\n",
       "    padding-left: 1em;\r\n",
       "}\r\n",
       "table td {\r\n",
       "    text-align: start;\r\n",
       "}\r\n",
       "table tr { \r\n",
       "    vertical-align: top; \r\n",
       "    margin: 0em 0px;\r\n",
       "}\r\n",
       "table tr td pre \r\n",
       "{ \r\n",
       "    vertical-align: top !important; \r\n",
       "    margin: 0em 0px !important;\r\n",
       "} \r\n",
       "table th {\r\n",
       "    text-align: start;\r\n",
       "}\r\n",
       "</style>"
      ]
     },
     "metadata": {},
     "output_type": "display_data"
    }
   ],
   "source": [
    "calculateHumn (findPath actualMonkeys \"humn\" |> Option.get) actualMonkeys"
   ]
  }
 ],
 "metadata": {
  "kernelspec": {
   "display_name": ".NET (C#)",
   "language": "C#",
   "name": ".net-csharp"
  },
  "polyglot_notebook": {
   "kernelInfo": {
    "defaultKernelName": "csharp",
    "items": [
     {
      "aliases": [],
      "name": "csharp"
     }
    ]
   }
  }
 },
 "nbformat": 4,
 "nbformat_minor": 2
}
