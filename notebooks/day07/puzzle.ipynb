{
 "cells": [
  {
   "cell_type": "markdown",
   "metadata": {
    "dotnet_interactive": {
     "language": "csharp"
    }
   },
   "source": [
    "## Day 7: No Space Left On Device\n",
    "\n",
    "[![nbviewer](https://raw.githubusercontent.com/jupyter/design/master/logos/Badges/nbviewer_badge.svg)](https://nbviewer.org/github/mazharenko/AoC-2022/tree/HEAD/notebooks/day07/puzzle.ipynb)\n"
   ]
  },
  {
   "cell_type": "markdown",
   "metadata": {},
   "source": [
    "\n",
    "### Parsing"
   ]
  },
  {
   "cell_type": "code",
   "execution_count": 39,
   "metadata": {
    "dotnet_interactive": {
     "language": "csharp"
    },
    "vscode": {
     "languageId": "dotnet-interactive.csharp"
    }
   },
   "outputs": [],
   "source": [
    "#!value --name sampleRaw\n",
    "$ cd /\n",
    "$ ls\n",
    "dir a\n",
    "14848514 b.txt\n",
    "8504156 c.dat\n",
    "dir d\n",
    "$ cd a\n",
    "$ ls\n",
    "dir e\n",
    "29116 f\n",
    "2557 g\n",
    "62596 h.lst\n",
    "$ cd e\n",
    "$ ls\n",
    "584 i\n",
    "$ cd ..\n",
    "$ cd ..\n",
    "$ cd d\n",
    "$ ls\n",
    "4060174 j\n",
    "8033020 d.log\n",
    "5626152 d.ext\n",
    "7214296 k"
   ]
  },
  {
   "cell_type": "markdown",
   "metadata": {},
   "source": [
    "Formally, the given input is not a list of commands. It is commands plus their output when applicable. But in order to simplify the parsing process let us consider the lines of the `ls` command output to be separate commands, as they are distinct in format."
   ]
  },
  {
   "cell_type": "code",
   "execution_count": 40,
   "metadata": {
    "dotnet_interactive": {
     "language": "fsharp"
    },
    "vscode": {
     "languageId": "dotnet-interactive.fsharp"
    }
   },
   "outputs": [],
   "source": [
    "type Command = \n",
    "    | CDRoot\n",
    "    | CDUp\n",
    "    | CD of string\n",
    "    | Ls\n",
    "    | Dir of string\n",
    "    | File of int64*string"
   ]
  },
  {
   "cell_type": "code",
   "execution_count": 41,
   "metadata": {
    "dotnet_interactive": {
     "language": "fsharp"
    },
    "vscode": {
     "languageId": "dotnet-interactive.fsharp"
    }
   },
   "outputs": [
    {
     "data": {
      "text/html": [
       "<div><div></div><div></div><div><strong>Installed Packages</strong><ul><li><span>Farkle, 6.3.2</span></li></ul></div></div>"
      ]
     },
     "metadata": {},
     "output_type": "display_data"
    }
   ],
   "source": [
    "#r \"nuget:Farkle, 6.3.2\"\n",
    "open Farkle\n",
    "open Farkle.Builder\n",
    "open Farkle.Builder.Regex\n",
    "\n",
    "#load \"../common/common.fsx\""
   ]
  },
  {
   "cell_type": "code",
   "execution_count": 42,
   "metadata": {
    "dotnet_interactive": {
     "language": "fsharp"
    },
    "vscode": {
     "languageId": "dotnet-interactive.fsharp"
    }
   },
   "outputs": [],
   "source": [
    "let private name = \n",
    "    [\n",
    "        chars PredefinedSets.AllLetters\n",
    "        char '.'\n",
    "    ] |> choice\n",
    "    |> atLeast 1\n",
    "    |> terminal \"Name\" (T(fun _ x -> x.ToString()))\n",
    "let private number = Terminals.int64 \"Number\"\n",
    "let private command = \"Command\" ||= [\n",
    "    !& \"$ cd /\" =% CDRoot\n",
    "    !& \"$ cd ..\" =% CDUp\n",
    "    !& \"$ ls\" =% Ls\n",
    "    !& \"$ cd\" .>>. name => fun dirName -> CD dirName\n",
    "    !& \"dir\" .>>. name => fun dirName -> Dir dirName\n",
    "    !@ number .>>. name => fun size fileName -> File (size,fileName)\n",
    "]\n",
    "let private parser = RuntimeFarkle.build command\n",
    "\n",
    "let private nameParser = RuntimeFarkle.build name\n",
    "\n",
    "let parseCommand s = \n",
    "    s\n",
    "    |> RuntimeFarkle.parseString parser\n",
    "    |> Result.get\n"
   ]
  },
  {
   "cell_type": "code",
   "execution_count": 43,
   "metadata": {
    "dotnet_interactive": {
     "language": "fsharp"
    },
    "vscode": {
     "languageId": "dotnet-interactive.fsharp"
    }
   },
   "outputs": [
    {
     "data": {
      "text/html": [
       "<table><thead><tr><th><i>index</i></th><th><i>type</i></th><th>Item</th><th>Item1</th><th>Item2</th></tr></thead><tbody><tr><td>0</td><td>FSI_0058+Command</td><td></td><td></td><td></td></tr><tr><td>1</td><td>FSI_0058+Command</td><td></td><td></td><td></td></tr><tr><td>2</td><td>FSI_0058+Command+Dir</td><td>a</td><td></td><td></td></tr><tr><td>3</td><td>FSI_0058+Command+File</td><td></td><td><div class=\"dni-plaintext\">14848514</div></td><td>b.txt</td></tr><tr><td>4</td><td>FSI_0058+Command+File</td><td></td><td><div class=\"dni-plaintext\">8504156</div></td><td>c.dat</td></tr><tr><td>5</td><td>FSI_0058+Command+Dir</td><td>d</td><td></td><td></td></tr><tr><td>6</td><td>FSI_0058+Command+CD</td><td>a</td><td></td><td></td></tr><tr><td>7</td><td>FSI_0058+Command</td><td></td><td></td><td></td></tr><tr><td>8</td><td>FSI_0058+Command+Dir</td><td>e</td><td></td><td></td></tr><tr><td>9</td><td>FSI_0058+Command+File</td><td></td><td><div class=\"dni-plaintext\">29116</div></td><td>f</td></tr><tr><td>10</td><td>FSI_0058+Command+File</td><td></td><td><div class=\"dni-plaintext\">2557</div></td><td>g</td></tr><tr><td>11</td><td>FSI_0058+Command+File</td><td></td><td><div class=\"dni-plaintext\">62596</div></td><td>h.lst</td></tr><tr><td>12</td><td>FSI_0058+Command+CD</td><td>e</td><td></td><td></td></tr><tr><td>13</td><td>FSI_0058+Command</td><td></td><td></td><td></td></tr><tr><td>14</td><td>FSI_0058+Command+File</td><td></td><td><div class=\"dni-plaintext\">584</div></td><td>i</td></tr><tr><td>15</td><td>FSI_0058+Command</td><td></td><td></td><td></td></tr><tr><td>16</td><td>FSI_0058+Command</td><td></td><td></td><td></td></tr><tr><td>17</td><td>FSI_0058+Command+CD</td><td>d</td><td></td><td></td></tr><tr><td>18</td><td>FSI_0058+Command</td><td></td><td></td><td></td></tr><tr><td>19</td><td>FSI_0058+Command+File</td><td></td><td><div class=\"dni-plaintext\">4060174</div></td><td>j</td></tr><tr><td colspan=\"5\"><i>(3 more)</i></td></tr></tbody></table>"
      ]
     },
     "metadata": {},
     "output_type": "display_data"
    }
   ],
   "source": [
    "#!share sampleRaw --from value\n",
    "\n",
    "let sampleCommands = sampleRaw |> Pattern1.read parseCommand\n",
    "sampleCommands"
   ]
  },
  {
   "cell_type": "code",
   "execution_count": 44,
   "metadata": {
    "dotnet_interactive": {
     "language": "fsharp"
    },
    "vscode": {
     "languageId": "dotnet-interactive.fsharp"
    }
   },
   "outputs": [],
   "source": [
    "#!value --name actualRaw --from-file ./data_actual.txt"
   ]
  },
  {
   "cell_type": "code",
   "execution_count": 45,
   "metadata": {
    "dotnet_interactive": {
     "language": "fsharp"
    },
    "vscode": {
     "languageId": "dotnet-interactive.fsharp"
    }
   },
   "outputs": [],
   "source": [
    "#!share actualRaw --from value\n",
    "let actualCommands = actualRaw |> Pattern1.read parseCommand"
   ]
  },
  {
   "cell_type": "markdown",
   "metadata": {},
   "source": [
    "### Part 1"
   ]
  },
  {
   "cell_type": "markdown",
   "metadata": {},
   "source": [
    "We always start from the root of the filesystem, which is rather helpful. The filesystem can be described in the recursive type called `Dir`. Unfortunately, it has to allow to change values of some of its properties, because we will fill it up as we know more and more about the filesystem from the input."
   ]
  },
  {
   "cell_type": "code",
   "execution_count": 46,
   "metadata": {
    "dotnet_interactive": {
     "language": "fsharp"
    },
    "vscode": {
     "languageId": "dotnet-interactive.fsharp"
    }
   },
   "outputs": [],
   "source": [
    "type File = { Name: string; Size: int64 }\n",
    "type Dir =\n",
    "    { Name: string\n",
    "      Nested: Dir list ref\n",
    "      Files: File list ref\n",
    "      TotalSize: int64 ref }\n"
   ]
  },
  {
   "cell_type": "markdown",
   "metadata": {},
   "source": [
    "To solve the problem, we will make sure we maintain the `TotalSize` property in all `Dir` nodes in te tree as we read the input. To achieve this, we introduce the path from the root to the current `Dir`.\n",
    "1. For each `cd x` command a new `Dir` will be prepended to the path.\n",
    "2. Similarly, each `cd ..` will throw away the head of the path.\n",
    "3. Every discovered file's size will be added to all the nodes in the path."
   ]
  },
  {
   "cell_type": "code",
   "execution_count": 47,
   "metadata": {
    "dotnet_interactive": {
     "language": "fsharp"
    },
    "vscode": {
     "languageId": "dotnet-interactive.fsharp"
    }
   },
   "outputs": [],
   "source": [
    "let execute (commands : seq<Command>) = \n",
    "    let mutable root = \n",
    "        { Name = \"/\"\n",
    "          Nested = ref []\n",
    "          Files = ref []\n",
    "          TotalSize = ref 0L }\n",
    "    let mutable path = [root]\n",
    "    for command in commands do\n",
    "        match command with\n",
    "        | CDRoot -> path <- [root]\n",
    "        | Ls -> ()\n",
    "        | Dir _ -> ()\n",
    "        | CDUp -> path <- List.tail path\n",
    "        | CD dirName -> \n",
    "            let current::_ = path\n",
    "            if (current.Nested.Value\n",
    "                |> List.tryFind (fun d -> d.Name = dirName)\n",
    "                |> Option.isSome) then\n",
    "                ()\n",
    "\n",
    "            let newDir =\n",
    "                { Name = dirName\n",
    "                  Nested = ref []\n",
    "                  Files = ref []\n",
    "                  TotalSize = ref 0L }\n",
    "\n",
    "            current.Nested.Value <- newDir :: current.Nested.Value\n",
    "            path <- newDir::path\n",
    "        | File (fileSize, fileName) -> \n",
    "            let current::_ = path\n",
    "            if (current.Nested.Value\n",
    "                |> List.tryFind (fun d -> d.Name = fileName)\n",
    "                |> Option.isSome) then\n",
    "                ()\n",
    "\n",
    "            let newFile =\n",
    "                { Name = fileName\n",
    "                  Size = fileSize }\n",
    "                \n",
    "            path\n",
    "            |> List.iter (fun dir -> \n",
    "                    dir.TotalSize.Value <- dir.TotalSize.Value + newFile.Size\n",
    "                )\n",
    "\n",
    "            current.Files.Value <- newFile :: current.Files.Value\n",
    "    root\n"
   ]
  },
  {
   "cell_type": "code",
   "execution_count": 48,
   "metadata": {
    "dotnet_interactive": {
     "language": "fsharp"
    },
    "vscode": {
     "languageId": "dotnet-interactive.fsharp"
    }
   },
   "outputs": [],
   "source": [
    "Formatter.SetPreferredMimeTypesFor(typedefof<Dir>, \"text/plain\")\n",
    "let rec private formatDir (sb : StringBuilder) (dir : Dir) depth = \n",
    "    sb.Append(String.replicate (depth * 2) \" \")\n",
    "      .Append($\"- {dir.Name} (dir, totalsize={dir.TotalSize.Value})\")\n",
    "      .AppendLine()\n",
    "      |> ignore\n",
    "    dir.Nested.Value\n",
    "    |> Seq.sortBy (fun nested -> nested.Name)\n",
    "    |> Seq.iter (fun nested -> formatDir sb nested (depth+1))\n",
    "    dir.Files.Value\n",
    "    |> Seq.sortBy (fun file -> file.Name)\n",
    "    |> Seq.iter (fun file -> \n",
    "        sb.Append(String.replicate (depth * 2 + 2) \" \")\n",
    "          .AppendLine($\"- {file.Name} (file, size={file.Size})\")\n",
    "        |> ignore\n",
    "    )\n",
    "Formatter.Register<Dir>((fun x -> \n",
    "    let sb = StringBuilder()\n",
    "    formatDir sb x 0\n",
    "    sb.ToString()\n",
    "), \"text/plain\")"
   ]
  },
  {
   "cell_type": "code",
   "execution_count": 49,
   "metadata": {
    "dotnet_interactive": {
     "language": "fsharp"
    },
    "vscode": {
     "languageId": "dotnet-interactive.fsharp"
    }
   },
   "outputs": [
    {
     "data": {
      "text/plain": [
       "- / (dir, totalsize=48381165)\n",
       "  - a (dir, totalsize=94853)\n",
       "    - e (dir, totalsize=584)\n",
       "      - i (file, size=584)\n",
       "    - f (file, size=29116)\n",
       "    - g (file, size=2557)\n",
       "    - h.lst (file, size=62596)\n",
       "  - d (dir, totalsize=24933642)\n",
       "    - d.ext (file, size=5626152)\n",
       "    - d.log (file, size=8033020)\n",
       "    - j (file, size=4060174)\n",
       "    - k (file, size=7214296)\n",
       "  - b.txt (file, size=14848514)\n",
       "  - c.dat (file, size=8504156)\n"
      ]
     },
     "metadata": {},
     "output_type": "display_data"
    }
   ],
   "source": [
    "let sampleFs = execute sampleCommands\n",
    "sampleFs"
   ]
  },
  {
   "cell_type": "markdown",
   "metadata": {},
   "source": [
    "Now we have a decent image of the filesystem as a tree and can do with it whatever is needed to be done."
   ]
  },
  {
   "cell_type": "code",
   "execution_count": 50,
   "metadata": {
    "dotnet_interactive": {
     "language": "fsharp"
    },
    "vscode": {
     "languageId": "dotnet-interactive.fsharp"
    }
   },
   "outputs": [
    {
     "data": {
      "text/html": [
       "<div class=\"dni-plaintext\">95437</div>"
      ]
     },
     "metadata": {},
     "output_type": "display_data"
    }
   ],
   "source": [
    "let rec collectDirs (root: Dir) =\n",
    "    root :: (root.Nested.Value |> List.collect collectDirs)\n",
    "\n",
    "let sumBelow100k (root: Dir) =     \n",
    "    collectDirs root\n",
    "    |> Seq.map (fun x -> x.TotalSize.Value)\n",
    "    |> Seq.filter (fun x -> x <= 100000)\n",
    "    |> Seq.sum\n",
    "\n",
    "sampleFs\n",
    "|> sumBelow100k"
   ]
  },
  {
   "cell_type": "markdown",
   "metadata": {},
   "source": [
    "For the actual data:"
   ]
  },
  {
   "cell_type": "code",
   "execution_count": 51,
   "metadata": {
    "dotnet_interactive": {
     "language": "fsharp"
    },
    "vscode": {
     "languageId": "dotnet-interactive.fsharp"
    }
   },
   "outputs": [
    {
     "data": {
      "text/html": [
       "<div class=\"dni-plaintext\">1307902</div>"
      ]
     },
     "metadata": {},
     "output_type": "display_data"
    }
   ],
   "source": [
    "let actualFs = execute actualCommands\n",
    "actualFs |> sumBelow100k"
   ]
  },
  {
   "cell_type": "markdown",
   "metadata": {},
   "source": [
    "### Part 2"
   ]
  },
  {
   "cell_type": "code",
   "execution_count": 52,
   "metadata": {
    "dotnet_interactive": {
     "language": "fsharp"
    },
    "vscode": {
     "languageId": "dotnet-interactive.fsharp"
    }
   },
   "outputs": [],
   "source": [
    "let directoryToDelete (root : Dir) = \n",
    "    let total = 70000000L\n",
    "    let required = 30000000L\n",
    "    let unused = total - root.TotalSize.Value\n",
    "    let toFree = required - unused\n",
    "    \n",
    "    collectDirs root\n",
    "    |> List.filter (fun x -> x.TotalSize.Value >= toFree)\n",
    "    |> List.minBy (fun x -> x.TotalSize.Value)"
   ]
  },
  {
   "cell_type": "code",
   "execution_count": 53,
   "metadata": {
    "dotnet_interactive": {
     "language": "fsharp"
    },
    "vscode": {
     "languageId": "dotnet-interactive.fsharp"
    }
   },
   "outputs": [
    {
     "data": {
      "text/plain": [
       "- d (dir, totalsize=24933642)\n",
       "  - d.ext (file, size=5626152)\n",
       "  - d.log (file, size=8033020)\n",
       "  - j (file, size=4060174)\n",
       "  - k (file, size=7214296)\n"
      ]
     },
     "metadata": {},
     "output_type": "display_data"
    },
    {
     "data": {
      "text/html": [
       "<div class=\"dni-plaintext\">24933642</div>"
      ]
     },
     "metadata": {},
     "output_type": "display_data"
    }
   ],
   "source": [
    "sampleFs\n",
    "|> directoryToDelete\n",
    "|> displayPipe\n",
    "|> (fun x -> x.TotalSize.Value)"
   ]
  },
  {
   "cell_type": "markdown",
   "metadata": {},
   "source": [
    "For the actual data:"
   ]
  },
  {
   "cell_type": "code",
   "execution_count": 54,
   "metadata": {
    "dotnet_interactive": {
     "language": "fsharp"
    },
    "vscode": {
     "languageId": "dotnet-interactive.fsharp"
    }
   },
   "outputs": [
    {
     "data": {
      "text/html": [
       "<div class=\"dni-plaintext\">7068748</div>"
      ]
     },
     "metadata": {},
     "output_type": "display_data"
    }
   ],
   "source": [
    "actualFs\n",
    "|> directoryToDelete\n",
    "|> (fun x -> x.TotalSize.Value)"
   ]
  }
 ],
 "metadata": {
  "kernelspec": {
   "display_name": ".NET (C#)",
   "language": "C#",
   "name": ".net-csharp"
  },
  "language_info": {
   "file_extension": ".cs",
   "mimetype": "text/x-csharp",
   "name": "C#",
   "pygments_lexer": "csharp",
   "version": "9.0"
  },
  "orig_nbformat": 4,
  "vscode": {
   "interpreter": {
    "hash": "916dbcbb3f70747c44a77c7bcd40155683ae19c65e1c03b4aa3499c5328201f1"
   }
  }
 },
 "nbformat": 4,
 "nbformat_minor": 2
}
