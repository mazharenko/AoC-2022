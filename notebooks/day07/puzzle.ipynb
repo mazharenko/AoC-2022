{
 "cells": [
  {
   "cell_type": "markdown",
   "metadata": {},
   "source": [
    "## Day 7: No Space Left On Device\n",
    "\n",
    "[![nbviewer](https://raw.githubusercontent.com/jupyter/design/master/logos/Badges/nbviewer_badge.svg)](https://nbviewer.org/github/mazharenko/AoC-2022/tree/HEAD/notebooks/day07/puzzle.ipynb)\n"
   ]
  },
  {
   "cell_type": "markdown",
   "metadata": {},
   "source": [
    "\n",
    "### Parsing"
   ]
  },
  {
   "cell_type": "code",
   "execution_count": 1,
   "metadata": {
    "dotnet_interactive": {
     "language": "csharp"
    },
    "vscode": {
     "languageId": "polyglot-notebook"
    }
   },
   "outputs": [],
   "source": [
    "#!value --name sampleRaw\n",
    "$ cd /\n",
    "$ ls\n",
    "dir a\n",
    "14848514 b.txt\n",
    "8504156 c.dat\n",
    "dir d\n",
    "$ cd a\n",
    "$ ls\n",
    "dir e\n",
    "29116 f\n",
    "2557 g\n",
    "62596 h.lst\n",
    "$ cd e\n",
    "$ ls\n",
    "584 i\n",
    "$ cd ..\n",
    "$ cd ..\n",
    "$ cd d\n",
    "$ ls\n",
    "4060174 j\n",
    "8033020 d.log\n",
    "5626152 d.ext\n",
    "7214296 k"
   ]
  },
  {
   "cell_type": "markdown",
   "metadata": {},
   "source": [
    "Formally, the given input is not a list of commands. It is commands plus their output when applicable. But in order to simplify the parsing process let us consider the lines of the `ls` command output to be separate commands, as they are distinct in format."
   ]
  },
  {
   "cell_type": "code",
   "execution_count": 2,
   "metadata": {
    "dotnet_interactive": {
     "language": "fsharp"
    },
    "vscode": {
     "languageId": "polyglot-notebook"
    }
   },
   "outputs": [],
   "source": [
    "type Command = \n",
    "    | CDRoot\n",
    "    | CDUp\n",
    "    | CD of string\n",
    "    | Ls\n",
    "    | Dir of string\n",
    "    | File of int64*string"
   ]
  },
  {
   "cell_type": "code",
   "execution_count": 3,
   "metadata": {
    "dotnet_interactive": {
     "language": "fsharp"
    },
    "vscode": {
     "languageId": "polyglot-notebook"
    }
   },
   "outputs": [
    {
     "data": {
      "text/html": [
       "<div><div></div><div></div><div><strong>Installed Packages</strong><ul><li><span>Farkle, 6.3.2</span></li></ul></div></div>"
      ]
     },
     "metadata": {},
     "output_type": "display_data"
    }
   ],
   "source": [
    "#r \"nuget:Farkle, 6.3.2\"\n",
    "open Farkle\n",
    "open Farkle.Builder\n",
    "open Farkle.Builder.Regex\n",
    "\n",
    "#load \"../common/common.fsx\""
   ]
  },
  {
   "cell_type": "code",
   "execution_count": 4,
   "metadata": {
    "dotnet_interactive": {
     "language": "fsharp"
    },
    "vscode": {
     "languageId": "polyglot-notebook"
    }
   },
   "outputs": [],
   "source": [
    "let private name = \n",
    "    [\n",
    "        chars PredefinedSets.AllLetters\n",
    "        char '.'\n",
    "    ] |> choice\n",
    "    |> atLeast 1\n",
    "    |> terminal \"Name\" (T(fun _ x -> x.ToString()))\n",
    "let private number = Terminals.int64 \"Number\"\n",
    "let private command = \"Command\" ||= [\n",
    "    !& \"$ cd /\" =% CDRoot\n",
    "    !& \"$ cd ..\" =% CDUp\n",
    "    !& \"$ ls\" =% Ls\n",
    "    !& \"$ cd\" .>>. name => fun dirName -> CD dirName\n",
    "    !& \"dir\" .>>. name => fun dirName -> Dir dirName\n",
    "    !@ number .>>. name => fun size fileName -> File (size,fileName)\n",
    "]\n",
    "let private parser = RuntimeFarkle.build command\n",
    "\n",
    "let private nameParser = RuntimeFarkle.build name\n",
    "\n",
    "let parseCommand s = \n",
    "    s\n",
    "    |> RuntimeFarkle.parseString parser\n",
    "    |> Result.get\n"
   ]
  },
  {
   "cell_type": "code",
   "execution_count": 5,
   "metadata": {
    "dotnet_interactive": {
     "language": "fsharp"
    },
    "vscode": {
     "languageId": "polyglot-notebook"
    }
   },
   "outputs": [
    {
     "data": {
      "text/html": [
       "<table><thead><tr><th><i>index</i></th><th><i>type</i></th><th>value</th></tr></thead><tbody><tr><td>0</td><td>FSI_0005+Command</td><td><details class=\"dni-treeview\"><summary><span class=\"dni-code-hint\"><code>CDRoot</code></span></summary><div><table><thead><tr></tr></thead><tbody></tbody></table></div></details></td></tr><tr><td>1</td><td>FSI_0005+Command</td><td><details class=\"dni-treeview\"><summary><span class=\"dni-code-hint\"><code>Ls</code></span></summary><div><table><thead><tr></tr></thead><tbody></tbody></table></div></details></td></tr><tr><td>2</td><td>FSI_0005+Command+Dir</td><td><details class=\"dni-treeview\"><summary><span class=\"dni-code-hint\"><code>Dir &quot;a&quot;</code></span></summary><div><table><thead><tr></tr></thead><tbody><tr><td>Item</td><td><div class=\"dni-plaintext\"><pre>a</pre></div></td></tr></tbody></table></div></details></td></tr><tr><td>3</td><td>FSI_0005+Command+File</td><td><details class=\"dni-treeview\"><summary><span class=\"dni-code-hint\"><code>File (14848514L, &quot;b.txt&quot;)</code></span></summary><div><table><thead><tr></tr></thead><tbody><tr><td>Item1</td><td><div class=\"dni-plaintext\"><pre>14848514</pre></div></td></tr><tr><td>Item2</td><td><div class=\"dni-plaintext\"><pre>b.txt</pre></div></td></tr></tbody></table></div></details></td></tr><tr><td>4</td><td>FSI_0005+Command+File</td><td><details class=\"dni-treeview\"><summary><span class=\"dni-code-hint\"><code>File (8504156L, &quot;c.dat&quot;)</code></span></summary><div><table><thead><tr></tr></thead><tbody><tr><td>Item1</td><td><div class=\"dni-plaintext\"><pre>8504156</pre></div></td></tr><tr><td>Item2</td><td><div class=\"dni-plaintext\"><pre>c.dat</pre></div></td></tr></tbody></table></div></details></td></tr><tr><td>5</td><td>FSI_0005+Command+Dir</td><td><details class=\"dni-treeview\"><summary><span class=\"dni-code-hint\"><code>Dir &quot;d&quot;</code></span></summary><div><table><thead><tr></tr></thead><tbody><tr><td>Item</td><td><div class=\"dni-plaintext\"><pre>d</pre></div></td></tr></tbody></table></div></details></td></tr><tr><td>6</td><td>FSI_0005+Command+CD</td><td><details class=\"dni-treeview\"><summary><span class=\"dni-code-hint\"><code>CD &quot;a&quot;</code></span></summary><div><table><thead><tr></tr></thead><tbody><tr><td>Item</td><td><div class=\"dni-plaintext\"><pre>a</pre></div></td></tr></tbody></table></div></details></td></tr><tr><td>7</td><td>FSI_0005+Command</td><td><details class=\"dni-treeview\"><summary><span class=\"dni-code-hint\"><code>Ls</code></span></summary><div><table><thead><tr></tr></thead><tbody></tbody></table></div></details></td></tr><tr><td>8</td><td>FSI_0005+Command+Dir</td><td><details class=\"dni-treeview\"><summary><span class=\"dni-code-hint\"><code>Dir &quot;e&quot;</code></span></summary><div><table><thead><tr></tr></thead><tbody><tr><td>Item</td><td><div class=\"dni-plaintext\"><pre>e</pre></div></td></tr></tbody></table></div></details></td></tr><tr><td>9</td><td>FSI_0005+Command+File</td><td><details class=\"dni-treeview\"><summary><span class=\"dni-code-hint\"><code>File (29116L, &quot;f&quot;)</code></span></summary><div><table><thead><tr></tr></thead><tbody><tr><td>Item1</td><td><div class=\"dni-plaintext\"><pre>29116</pre></div></td></tr><tr><td>Item2</td><td><div class=\"dni-plaintext\"><pre>f</pre></div></td></tr></tbody></table></div></details></td></tr><tr><td>10</td><td>FSI_0005+Command+File</td><td><details class=\"dni-treeview\"><summary><span class=\"dni-code-hint\"><code>File (2557L, &quot;g&quot;)</code></span></summary><div><table><thead><tr></tr></thead><tbody><tr><td>Item1</td><td><div class=\"dni-plaintext\"><pre>2557</pre></div></td></tr><tr><td>Item2</td><td><div class=\"dni-plaintext\"><pre>g</pre></div></td></tr></tbody></table></div></details></td></tr><tr><td>11</td><td>FSI_0005+Command+File</td><td><details class=\"dni-treeview\"><summary><span class=\"dni-code-hint\"><code>File (62596L, &quot;h.lst&quot;)</code></span></summary><div><table><thead><tr></tr></thead><tbody><tr><td>Item1</td><td><div class=\"dni-plaintext\"><pre>62596</pre></div></td></tr><tr><td>Item2</td><td><div class=\"dni-plaintext\"><pre>h.lst</pre></div></td></tr></tbody></table></div></details></td></tr><tr><td>12</td><td>FSI_0005+Command+CD</td><td><details class=\"dni-treeview\"><summary><span class=\"dni-code-hint\"><code>CD &quot;e&quot;</code></span></summary><div><table><thead><tr></tr></thead><tbody><tr><td>Item</td><td><div class=\"dni-plaintext\"><pre>e</pre></div></td></tr></tbody></table></div></details></td></tr><tr><td>13</td><td>FSI_0005+Command</td><td><details class=\"dni-treeview\"><summary><span class=\"dni-code-hint\"><code>Ls</code></span></summary><div><table><thead><tr></tr></thead><tbody></tbody></table></div></details></td></tr><tr><td>14</td><td>FSI_0005+Command+File</td><td><details class=\"dni-treeview\"><summary><span class=\"dni-code-hint\"><code>File (584L, &quot;i&quot;)</code></span></summary><div><table><thead><tr></tr></thead><tbody><tr><td>Item1</td><td><div class=\"dni-plaintext\"><pre>584</pre></div></td></tr><tr><td>Item2</td><td><div class=\"dni-plaintext\"><pre>i</pre></div></td></tr></tbody></table></div></details></td></tr><tr><td>15</td><td>FSI_0005+Command</td><td><details class=\"dni-treeview\"><summary><span class=\"dni-code-hint\"><code>CDUp</code></span></summary><div><table><thead><tr></tr></thead><tbody></tbody></table></div></details></td></tr><tr><td>16</td><td>FSI_0005+Command</td><td><details class=\"dni-treeview\"><summary><span class=\"dni-code-hint\"><code>CDUp</code></span></summary><div><table><thead><tr></tr></thead><tbody></tbody></table></div></details></td></tr><tr><td>17</td><td>FSI_0005+Command+CD</td><td><details class=\"dni-treeview\"><summary><span class=\"dni-code-hint\"><code>CD &quot;d&quot;</code></span></summary><div><table><thead><tr></tr></thead><tbody><tr><td>Item</td><td><div class=\"dni-plaintext\"><pre>d</pre></div></td></tr></tbody></table></div></details></td></tr><tr><td>18</td><td>FSI_0005+Command</td><td><details class=\"dni-treeview\"><summary><span class=\"dni-code-hint\"><code>Ls</code></span></summary><div><table><thead><tr></tr></thead><tbody></tbody></table></div></details></td></tr><tr><td>19</td><td>FSI_0005+Command+File</td><td><details class=\"dni-treeview\"><summary><span class=\"dni-code-hint\"><code>File (4060174L, &quot;j&quot;)</code></span></summary><div><table><thead><tr></tr></thead><tbody><tr><td>Item1</td><td><div class=\"dni-plaintext\"><pre>4060174</pre></div></td></tr><tr><td>Item2</td><td><div class=\"dni-plaintext\"><pre>j</pre></div></td></tr></tbody></table></div></details></td></tr><tr><td colspan=\"3\"><i>(3 more)</i></td></tr></tbody></table><style>\r\n",
       ".dni-code-hint {\r\n",
       "    font-style: italic;\r\n",
       "    overflow: hidden;\r\n",
       "    white-space: nowrap;\r\n",
       "}\r\n",
       ".dni-treeview {\r\n",
       "    white-space: nowrap;\r\n",
       "}\r\n",
       ".dni-treeview td {\r\n",
       "    vertical-align: top;\r\n",
       "    text-align: start;\r\n",
       "}\r\n",
       "details.dni-treeview {\r\n",
       "    padding-left: 1em;\r\n",
       "}\r\n",
       "table td {\r\n",
       "    text-align: start;\r\n",
       "}\r\n",
       "table tr { \r\n",
       "    vertical-align: top; \r\n",
       "    margin: 0em 0px;\r\n",
       "}\r\n",
       "table tr td pre \r\n",
       "{ \r\n",
       "    vertical-align: top !important; \r\n",
       "    margin: 0em 0px !important;\r\n",
       "} \r\n",
       "table th {\r\n",
       "    text-align: start;\r\n",
       "}\r\n",
       "</style>"
      ]
     },
     "metadata": {},
     "output_type": "display_data"
    }
   ],
   "source": [
    "#!share sampleRaw --from value\n",
    "\n",
    "let sampleCommands = sampleRaw |> Pattern1.read parseCommand\n",
    "sampleCommands"
   ]
  },
  {
   "cell_type": "code",
   "execution_count": 6,
   "metadata": {
    "dotnet_interactive": {
     "language": "fsharp"
    },
    "vscode": {
     "languageId": "polyglot-notebook"
    }
   },
   "outputs": [],
   "source": [
    "#!value --name actualRaw --from-file ./data_actual.txt"
   ]
  },
  {
   "cell_type": "code",
   "execution_count": 7,
   "metadata": {
    "dotnet_interactive": {
     "language": "fsharp"
    },
    "vscode": {
     "languageId": "polyglot-notebook"
    }
   },
   "outputs": [],
   "source": [
    "#!share actualRaw --from value\n",
    "let actualCommands = actualRaw |> Pattern1.read parseCommand"
   ]
  },
  {
   "cell_type": "markdown",
   "metadata": {},
   "source": [
    "### Part 1"
   ]
  },
  {
   "cell_type": "markdown",
   "metadata": {},
   "source": [
    "We always start from the root of the filesystem, which is rather helpful. The filesystem can be described in the immutable recursive type called `Dir`. "
   ]
  },
  {
   "cell_type": "code",
   "execution_count": 8,
   "metadata": {
    "dotnet_interactive": {
     "language": "fsharp"
    },
    "vscode": {
     "languageId": "polyglot-notebook"
    }
   },
   "outputs": [],
   "source": [
    "type File = { Name: string; Size: int64 }\n",
    "type Dir =\n",
    "    { Name: string\n",
    "      Nested: Map<string, Dir>\n",
    "      Files: Map<string, File>\n",
    "      }\n",
    "    with member this.TotalSize = \n",
    "            (this.Nested |> Map.values |> Seq.sumBy (fun x -> x.TotalSize))\n",
    "            + \n",
    "            (this.Files |> Map.values |> Seq.sumBy (fun x -> x.Size))\n",
    "\n",
    "Formatter.SetPreferredMimeTypesFor(typedefof<Dir>, \"text/plain\")\n",
    "let rec private formatDir (sb : StringBuilder) (dir : Dir) depth = \n",
    "    sb.Append(String.replicate (depth * 2) \" \")\n",
    "      .Append($\"- {dir.Name} (dir, totalsize={dir.TotalSize})\")\n",
    "      .AppendLine()\n",
    "      |> ignore\n",
    "    dir.Nested\n",
    "    |> Seq.sortBy (fun nested -> nested.Key)\n",
    "    |> Seq.iter (fun nested -> formatDir sb nested.Value (depth+1))\n",
    "    dir.Files\n",
    "    |> Seq.sortBy (fun file -> file.Key)\n",
    "    |> Seq.iter (fun file -> \n",
    "        sb.Append(String.replicate (depth * 2 + 2) \" \")\n",
    "          .AppendLine($\"- {file.Key} (file, size={file.Value.Size})\")\n",
    "        |> ignore\n",
    "    )\n",
    "Formatter.Register<Dir>((fun x -> \n",
    "    let sb = StringBuilder()\n",
    "    formatDir sb x 0\n",
    "    sb.ToString()\n",
    "), \"text/plain\")"
   ]
  },
  {
   "cell_type": "markdown",
   "metadata": {},
   "source": [
    "To update nested records as we read the input, we can make use of `lenses`. They allow to focus on a specific part of a data structure for reading and updating, and their composable nature allows to work with nested structures. As we read the input, we are going to maintain the lens focusing on the current directory composed of simpler lenses."
   ]
  },
  {
   "cell_type": "code",
   "execution_count": 9,
   "metadata": {
    "dotnet_interactive": {
     "language": "fsharp"
    },
    "polyglot_notebook": {
     "kernelName": "fsharp"
    },
    "vscode": {
     "languageId": "polyglot-notebook"
    }
   },
   "outputs": [
    {
     "data": {
      "text/html": [
       "<div><div></div><div></div><div><strong>Installed Packages</strong><ul><li><span>FSharpPlus, 1.5.0</span></li></ul></div></div>"
      ]
     },
     "metadata": {},
     "output_type": "display_data"
    }
   ],
   "source": [
    "#r \"nuget: FSharpPlus, 1.5.0\"\n",
    "open FSharpPlus.Lens\n",
    "open FSharpPlus.Data\n",
    "module Dir = \n",
    "    let empty name = \n",
    "        { Name = name; Nested = Map.empty; Files = Map.empty;  }\n",
    "    let inline _files f dir = \n",
    "        f dir.Files <&> (fun files -> { dir with Files = files})\n",
    "    let inline _nested f dir = \n",
    "        f dir.Nested <&> (fun nested -> { dir with Nested = nested;})\n",
    "    let inline _filesItem name file = \n",
    "        _files << Map._item name <| file\n",
    "    let inline _nestedItem name nested = \n",
    "        _nested << Map._item name <| nested"
   ]
  },
  {
   "cell_type": "markdown",
   "metadata": {},
   "source": [
    "In the example below we update the tree by adding a nested dir called `child`"
   ]
  },
  {
   "cell_type": "code",
   "execution_count": 10,
   "metadata": {
    "dotnet_interactive": {
     "language": "fsharp"
    },
    "polyglot_notebook": {
     "kernelName": "fsharp"
    },
    "vscode": {
     "languageId": "polyglot-notebook"
    }
   },
   "outputs": [
    {
     "data": {
      "text/plain": [
       "- root (dir, totalsize=0)\n",
       "  - child (dir, totalsize=0)\n"
      ]
     },
     "metadata": {},
     "output_type": "display_data"
    }
   ],
   "source": [
    "let private example = Dir.empty \"root\"\n",
    "let private child = Dir.empty \"child\"\n",
    "setl (Dir._nestedItem \"child\") (Some child) example"
   ]
  },
  {
   "cell_type": "markdown",
   "metadata": {},
   "source": [
    "In the example below Dir `child2` is not added as there is no intermediate `child1` node"
   ]
  },
  {
   "cell_type": "code",
   "execution_count": 11,
   "metadata": {
    "dotnet_interactive": {
     "language": "fsharp"
    },
    "polyglot_notebook": {
     "kernelName": "fsharp"
    },
    "vscode": {
     "languageId": "polyglot-notebook"
    }
   },
   "outputs": [
    {
     "data": {
      "text/plain": [
       "- root (dir, totalsize=0)\n"
      ]
     },
     "metadata": {},
     "output_type": "display_data"
    }
   ],
   "source": [
    "let private example = Dir.empty \"root\"\n",
    "let private child2 = Dir.empty \"child2\"\n",
    "setl (Dir._nestedItem \"child1\" << _Some << Dir._nestedItem \"child2\") \n",
    "    (Some child2) example"
   ]
  },
  {
   "cell_type": "markdown",
   "metadata": {},
   "source": [
    "In the example below we fix the issue by adding the `child1` node first and calling the composed lens against the newly created root."
   ]
  },
  {
   "cell_type": "code",
   "execution_count": 12,
   "metadata": {
    "dotnet_interactive": {
     "language": "fsharp"
    },
    "polyglot_notebook": {
     "kernelName": "fsharp"
    },
    "vscode": {
     "languageId": "polyglot-notebook"
    }
   },
   "outputs": [
    {
     "data": {
      "text/plain": [
       "- root (dir, totalsize=0)\n",
       "  - child1 (dir, totalsize=0)\n",
       "    - child2 (dir, totalsize=0)\n"
      ]
     },
     "metadata": {},
     "output_type": "display_data"
    }
   ],
   "source": [
    "let private example = Dir.empty \"root\"\n",
    "let private child1 = Dir.empty \"child1\"\n",
    "let private child2 = Dir.empty \"child2\"\n",
    "\n",
    "setl (Dir._nestedItem \"child1\") (Some child1) example\n",
    "|> setl (Dir._nestedItem \"child1\" << _Some << Dir._nestedItem \"child2\") (Some child2)"
   ]
  },
  {
   "cell_type": "markdown",
   "metadata": {},
   "source": [
    "So, to solve the problem we can do the following:\n",
    "1. For each `cd x` command a new `Dir` will be added to the filesystem representation using the current lens, and the current lens will be changed to focus on the new `Dir`.\n",
    "2. Every discovered file size will be added to the filesystem representation using the current lens, and `TotalSize`-s will be recalculated automatically\n",
    "3. Each `cd ..` will roll back to the previous lens."
   ]
  },
  {
   "cell_type": "code",
   "execution_count": 13,
   "metadata": {
    "dotnet_interactive": {
     "language": "fsharp"
    },
    "vscode": {
     "languageId": "polyglot-notebook"
    }
   },
   "outputs": [],
   "source": [
    "type private Lens = { Current: (Dir option -> Identity<Dir option>) -> Dir -> Identity<Dir>; Parent: Lens option }\n",
    "    with static member Empty = { Current = (fun f x -> f (Some x) <&> (Option.get)); Parent = None }\n",
    "\n",
    "let private folder (fs: Dir, lens: Lens) (command : Command) = \n",
    "    match command with\n",
    "        | CDRoot -> (fs, lens)\n",
    "        | Ls -> (fs, lens)\n",
    "        | Dir _ -> (fs, lens)\n",
    "        | CDUp -> (fs, lens.Parent |> Option.get)\n",
    "        | CD dirName -> \n",
    "            let newLens = \n",
    "                { Current = lens.Current << _Some << Dir._nestedItem dirName; Parent = Some lens }\n",
    "            let newDir = Dir.empty dirName\n",
    "            let newFs = setl newLens.Current (Some newDir) fs\n",
    "            (newFs, newLens)\n",
    "        | File (fileSize, fileName) -> \n",
    "            let newFile = {Name = fileName; Size = fileSize}\n",
    "            let newFs = setl (lens.Current << _Some << Dir._filesItem fileName) (Some newFile) fs\n",
    "            (newFs, lens)\n",
    "\n",
    "let execute (commands : seq<Command>) = \n",
    "    let root = Dir.empty \"/\"\n",
    "    let (fs, _) = commands |> Seq.fold folder (root, Lens.Empty)\n",
    "\n",
    "    fs\n"
   ]
  },
  {
   "cell_type": "code",
   "execution_count": 14,
   "metadata": {
    "dotnet_interactive": {
     "language": "fsharp"
    },
    "polyglot_notebook": {
     "kernelName": "fsharp"
    },
    "vscode": {
     "languageId": "polyglot-notebook"
    }
   },
   "outputs": [
    {
     "data": {
      "text/plain": [
       "- / (dir, totalsize=48381165)\n",
       "  - a (dir, totalsize=94853)\n",
       "    - e (dir, totalsize=584)\n",
       "      - i (file, size=584)\n",
       "    - f (file, size=29116)\n",
       "    - g (file, size=2557)\n",
       "    - h.lst (file, size=62596)\n",
       "  - d (dir, totalsize=24933642)\n",
       "    - d.ext (file, size=5626152)\n",
       "    - d.log (file, size=8033020)\n",
       "    - j (file, size=4060174)\n",
       "    - k (file, size=7214296)\n",
       "  - b.txt (file, size=14848514)\n",
       "  - c.dat (file, size=8504156)\n"
      ]
     },
     "metadata": {},
     "output_type": "display_data"
    }
   ],
   "source": [
    "let sampleFs = execute sampleCommands\n",
    "sampleFs"
   ]
  },
  {
   "cell_type": "markdown",
   "metadata": {},
   "source": [
    "Now we have a decent image of the filesystem as a tree and can do with it whatever is needed to be done."
   ]
  },
  {
   "cell_type": "code",
   "execution_count": 15,
   "metadata": {
    "dotnet_interactive": {
     "language": "fsharp"
    },
    "vscode": {
     "languageId": "polyglot-notebook"
    }
   },
   "outputs": [
    {
     "data": {
      "text/html": [
       "<div class=\"dni-plaintext\"><pre>95437</pre></div><style>\r\n",
       ".dni-code-hint {\r\n",
       "    font-style: italic;\r\n",
       "    overflow: hidden;\r\n",
       "    white-space: nowrap;\r\n",
       "}\r\n",
       ".dni-treeview {\r\n",
       "    white-space: nowrap;\r\n",
       "}\r\n",
       ".dni-treeview td {\r\n",
       "    vertical-align: top;\r\n",
       "    text-align: start;\r\n",
       "}\r\n",
       "details.dni-treeview {\r\n",
       "    padding-left: 1em;\r\n",
       "}\r\n",
       "table td {\r\n",
       "    text-align: start;\r\n",
       "}\r\n",
       "table tr { \r\n",
       "    vertical-align: top; \r\n",
       "    margin: 0em 0px;\r\n",
       "}\r\n",
       "table tr td pre \r\n",
       "{ \r\n",
       "    vertical-align: top !important; \r\n",
       "    margin: 0em 0px !important;\r\n",
       "} \r\n",
       "table th {\r\n",
       "    text-align: start;\r\n",
       "}\r\n",
       "</style>"
      ]
     },
     "metadata": {},
     "output_type": "display_data"
    }
   ],
   "source": [
    "let rec collectDirs (root: Dir) =\n",
    "    seq {\n",
    "        yield root\n",
    "        yield! root.Nested |> Map.values |> Seq.collect collectDirs\n",
    "    }\n",
    "\n",
    "let sumBelow100k (root: Dir) =     \n",
    "    collectDirs root\n",
    "    |> Seq.map (fun x -> x.TotalSize)\n",
    "    |> Seq.filter (fun x -> x <= 100000)\n",
    "    |> Seq.sum\n",
    "\n",
    "sampleFs\n",
    "|> sumBelow100k"
   ]
  },
  {
   "cell_type": "markdown",
   "metadata": {},
   "source": [
    "For the actual data:"
   ]
  },
  {
   "cell_type": "code",
   "execution_count": 16,
   "metadata": {
    "dotnet_interactive": {
     "language": "fsharp"
    },
    "vscode": {
     "languageId": "polyglot-notebook"
    }
   },
   "outputs": [
    {
     "data": {
      "text/html": [
       "<div class=\"dni-plaintext\"><pre>1307902</pre></div><style>\r\n",
       ".dni-code-hint {\r\n",
       "    font-style: italic;\r\n",
       "    overflow: hidden;\r\n",
       "    white-space: nowrap;\r\n",
       "}\r\n",
       ".dni-treeview {\r\n",
       "    white-space: nowrap;\r\n",
       "}\r\n",
       ".dni-treeview td {\r\n",
       "    vertical-align: top;\r\n",
       "    text-align: start;\r\n",
       "}\r\n",
       "details.dni-treeview {\r\n",
       "    padding-left: 1em;\r\n",
       "}\r\n",
       "table td {\r\n",
       "    text-align: start;\r\n",
       "}\r\n",
       "table tr { \r\n",
       "    vertical-align: top; \r\n",
       "    margin: 0em 0px;\r\n",
       "}\r\n",
       "table tr td pre \r\n",
       "{ \r\n",
       "    vertical-align: top !important; \r\n",
       "    margin: 0em 0px !important;\r\n",
       "} \r\n",
       "table th {\r\n",
       "    text-align: start;\r\n",
       "}\r\n",
       "</style>"
      ]
     },
     "metadata": {},
     "output_type": "display_data"
    }
   ],
   "source": [
    "let actualFs = execute actualCommands\n",
    "actualFs |> sumBelow100k"
   ]
  },
  {
   "cell_type": "markdown",
   "metadata": {},
   "source": [
    "### Part 2"
   ]
  },
  {
   "cell_type": "code",
   "execution_count": 17,
   "metadata": {
    "dotnet_interactive": {
     "language": "fsharp"
    },
    "vscode": {
     "languageId": "polyglot-notebook"
    }
   },
   "outputs": [],
   "source": [
    "let directoryToDelete (root : Dir) = \n",
    "    let total = 70000000L\n",
    "    let required = 30000000L\n",
    "    let unused = total - root.TotalSize\n",
    "    let toFree = required - unused\n",
    "    \n",
    "    collectDirs root\n",
    "    |> Seq.filter (fun x -> x.TotalSize >= toFree)\n",
    "    |> Seq.minBy (fun x -> x.TotalSize)"
   ]
  },
  {
   "cell_type": "code",
   "execution_count": 18,
   "metadata": {
    "dotnet_interactive": {
     "language": "fsharp"
    },
    "vscode": {
     "languageId": "polyglot-notebook"
    }
   },
   "outputs": [
    {
     "data": {
      "text/plain": [
       "- d (dir, totalsize=24933642)\n",
       "  - d.ext (file, size=5626152)\n",
       "  - d.log (file, size=8033020)\n",
       "  - j (file, size=4060174)\n",
       "  - k (file, size=7214296)\n"
      ]
     },
     "metadata": {},
     "output_type": "display_data"
    },
    {
     "data": {
      "text/html": [
       "<div class=\"dni-plaintext\"><pre>24933642</pre></div><style>\r\n",
       ".dni-code-hint {\r\n",
       "    font-style: italic;\r\n",
       "    overflow: hidden;\r\n",
       "    white-space: nowrap;\r\n",
       "}\r\n",
       ".dni-treeview {\r\n",
       "    white-space: nowrap;\r\n",
       "}\r\n",
       ".dni-treeview td {\r\n",
       "    vertical-align: top;\r\n",
       "    text-align: start;\r\n",
       "}\r\n",
       "details.dni-treeview {\r\n",
       "    padding-left: 1em;\r\n",
       "}\r\n",
       "table td {\r\n",
       "    text-align: start;\r\n",
       "}\r\n",
       "table tr { \r\n",
       "    vertical-align: top; \r\n",
       "    margin: 0em 0px;\r\n",
       "}\r\n",
       "table tr td pre \r\n",
       "{ \r\n",
       "    vertical-align: top !important; \r\n",
       "    margin: 0em 0px !important;\r\n",
       "} \r\n",
       "table th {\r\n",
       "    text-align: start;\r\n",
       "}\r\n",
       "</style>"
      ]
     },
     "metadata": {},
     "output_type": "display_data"
    }
   ],
   "source": [
    "sampleFs\n",
    "|> directoryToDelete\n",
    "|> displayPipe\n",
    "|> (fun x -> x.TotalSize)"
   ]
  },
  {
   "cell_type": "markdown",
   "metadata": {},
   "source": [
    "For the actual data:"
   ]
  },
  {
   "cell_type": "code",
   "execution_count": 19,
   "metadata": {
    "dotnet_interactive": {
     "language": "fsharp"
    },
    "vscode": {
     "languageId": "polyglot-notebook"
    }
   },
   "outputs": [
    {
     "data": {
      "text/html": [
       "<div class=\"dni-plaintext\"><pre>7068748</pre></div><style>\r\n",
       ".dni-code-hint {\r\n",
       "    font-style: italic;\r\n",
       "    overflow: hidden;\r\n",
       "    white-space: nowrap;\r\n",
       "}\r\n",
       ".dni-treeview {\r\n",
       "    white-space: nowrap;\r\n",
       "}\r\n",
       ".dni-treeview td {\r\n",
       "    vertical-align: top;\r\n",
       "    text-align: start;\r\n",
       "}\r\n",
       "details.dni-treeview {\r\n",
       "    padding-left: 1em;\r\n",
       "}\r\n",
       "table td {\r\n",
       "    text-align: start;\r\n",
       "}\r\n",
       "table tr { \r\n",
       "    vertical-align: top; \r\n",
       "    margin: 0em 0px;\r\n",
       "}\r\n",
       "table tr td pre \r\n",
       "{ \r\n",
       "    vertical-align: top !important; \r\n",
       "    margin: 0em 0px !important;\r\n",
       "} \r\n",
       "table th {\r\n",
       "    text-align: start;\r\n",
       "}\r\n",
       "</style>"
      ]
     },
     "metadata": {},
     "output_type": "display_data"
    }
   ],
   "source": [
    "actualFs\n",
    "|> directoryToDelete\n",
    "|> (fun x -> x.TotalSize)"
   ]
  }
 ],
 "metadata": {
  "kernelspec": {
   "display_name": ".NET (C#)",
   "language": "C#",
   "name": ".net-csharp"
  },
  "language_info": {
   "file_extension": ".cs",
   "mimetype": "text/x-csharp",
   "name": "C#",
   "pygments_lexer": "csharp",
   "version": "9.0"
  },
  "orig_nbformat": 4,
  "vscode": {
   "interpreter": {
    "hash": "916dbcbb3f70747c44a77c7bcd40155683ae19c65e1c03b4aa3499c5328201f1"
   }
  }
 },
 "nbformat": 4,
 "nbformat_minor": 2
}
