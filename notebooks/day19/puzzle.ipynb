{
 "cells": [
  {
   "attachments": {},
   "cell_type": "markdown",
   "metadata": {
    "dotnet_interactive": {
     "language": "csharp"
    },
    "polyglot_notebook": {
     "kernelName": "csharp"
    }
   },
   "source": [
    "## Day 19: Not Enough Minerals\n",
    "\n",
    "[![nbviewer](https://raw.githubusercontent.com/jupyter/design/master/logos/Badges/nbviewer_badge.svg)](https://nbviewer.org/github/mazharenko/AoC-2022/tree/HEAD/notebooks/day19/puzzle.ipynb)"
   ]
  },
  {
   "attachments": {},
   "cell_type": "markdown",
   "metadata": {
    "dotnet_interactive": {
     "language": "csharp"
    },
    "polyglot_notebook": {
     "kernelName": "csharp"
    }
   },
   "source": [
    "### Part 1"
   ]
  },
  {
   "attachments": {},
   "cell_type": "markdown",
   "metadata": {
    "dotnet_interactive": {
     "language": "csharp"
    },
    "polyglot_notebook": {
     "kernelName": "csharp"
    }
   },
   "source": [
    "This is promises to be handy to define a type for resources. Here, among others, we have operators to determine whether there are enough resources (`/>=`) or not (`/<`)"
   ]
  },
  {
   "cell_type": "code",
   "execution_count": 26,
   "metadata": {
    "dotnet_interactive": {
     "language": "fsharp"
    },
    "polyglot_notebook": {
     "kernelName": "fsharp"
    },
    "vscode": {
     "languageId": "polyglot-notebook"
    }
   },
   "outputs": [],
   "source": [
    "type Res = {Ore: int; Clay:int; Obsidian: int;}\n",
    "with static member Empty = {Ore = 0; Clay = 0; Obsidian = 0}\n",
    "     static member (-)(res1, res2) =\n",
    "        { Ore = res1.Ore - res2.Ore; Clay = res1.Clay - res2.Clay; Obsidian = res1.Obsidian - res2.Obsidian  }\n",
    "     static member (+)(res1, res2) =\n",
    "        { Ore = res1.Ore + res2.Ore; Clay = res1.Clay + res2.Clay; Obsidian = res1.Obsidian + res2.Obsidian  }\n",
    "     static member (*)(res1, num) =\n",
    "        { Ore = res1.Ore * num; Clay = res1.Clay * num; Obsidian = res1.Obsidian * num}\n",
    "     static member (*)(num, res1) = res1 * num\n",
    "     static member (/<)(res1, res2) = \n",
    "        res1.Ore < res2.Ore || res1.Clay < res2.Clay || res1.Obsidian < res2.Obsidian \n",
    "     static member (/>=)(res1, res2) = \n",
    "        res1.Ore >= res2.Ore && res1.Clay >= res2.Clay && res1.Obsidian >= res2.Obsidian \n",
    "\n",
    "let maxRes res1 res2 = \n",
    "   {\n",
    "      Ore = max res1.Ore res2.Ore\n",
    "      Clay = max res1.Clay res2.Clay\n",
    "      Obsidian = max res1.Obsidian res2.Obsidian\n",
    "   }\n",
    "\n",
    "let clay = { Clay = 1; Ore = 0; Obsidian = 0 }\n",
    "let ore = { Clay = 0; Ore = 1; Obsidian = 0 }\n",
    "let obsidian = { Clay = 0; Ore = 0; Obsidian = 1 }"
   ]
  },
  {
   "cell_type": "code",
   "execution_count": 27,
   "metadata": {
    "dotnet_interactive": {
     "language": "fsharp"
    },
    "polyglot_notebook": {
     "kernelName": "fsharp"
    },
    "vscode": {
     "languageId": "polyglot-notebook"
    }
   },
   "outputs": [],
   "source": [
    "type Cost = Res\n",
    "type Bp = {Id: int; OreRobot: Cost; ClayRobot: Cost; ObsidianRobot: Cost; GeodeRobot: Cost}\n",
    "with member this.MaxRes = [ this.OreRobot; this.ClayRobot; this.ObsidianRobot; this.GeodeRobot ] |> List.reduce maxRes\n"
   ]
  },
  {
   "cell_type": "code",
   "execution_count": 28,
   "metadata": {
    "dotnet_interactive": {
     "language": "fsharp"
    },
    "polyglot_notebook": {
     "kernelName": "fsharp"
    },
    "vscode": {
     "languageId": "polyglot-notebook"
    }
   },
   "outputs": [],
   "source": [
    "#load \"../common/common.fsx\"\n",
    "\n",
    "let parseBlueprint bp =\n",
    "    match bp with \n",
    "    | Regex \"Blueprint (\\d+): Each ore robot costs (\\d+) ore. Each clay robot costs (\\d+) ore. Each obsidian robot costs (\\d+) ore and (\\d+) clay. Each geode robot costs (\\d+) ore and (\\d+) obsidian.\"\n",
    "        [bp; oreOreCost; clayOreCost; obsidianOreCost; obsidianClayCost; geodeOreCost; geodeObsidianCost] -> \n",
    "            {Id = int bp; OreRobot = {Ore = int oreOreCost; Clay = 0; Obsidian = 0};\n",
    "                ClayRobot = {Ore = int clayOreCost; Clay = 0; Obsidian = 0};\n",
    "                ObsidianRobot = {Ore = int obsidianOreCost; Clay = int obsidianClayCost; Obsidian = 0};\n",
    "                GeodeRobot = {Ore = int geodeOreCost; Clay = 0; Obsidian = int geodeObsidianCost}\n",
    "             }"
   ]
  },
  {
   "cell_type": "code",
   "execution_count": 29,
   "metadata": {
    "dotnet_interactive": {
     "language": "fsharp"
    },
    "polyglot_notebook": {
     "kernelName": "fsharp"
    },
    "vscode": {
     "languageId": "polyglot-notebook"
    }
   },
   "outputs": [],
   "source": [
    "#!value --name sampleRaw --from-file ./data_sample.txt"
   ]
  },
  {
   "cell_type": "code",
   "execution_count": 30,
   "metadata": {
    "dotnet_interactive": {
     "language": "fsharp"
    },
    "polyglot_notebook": {
     "kernelName": "fsharp"
    },
    "vscode": {
     "languageId": "polyglot-notebook"
    }
   },
   "outputs": [
    {
     "data": {
      "text/html": [
       "<table><thead><tr><th><i>index</i></th><th>Id</th><th>OreRobot</th><th>ClayRobot</th><th>ObsidianRobot</th><th>GeodeRobot</th><th>MaxRes</th></tr></thead><tbody><tr><td>0</td><td><div class=\"dni-plaintext\"><pre>1</pre></div></td><td><table><thead><tr><th>Ore</th><th>Clay</th><th>Obsidian</th></tr></thead><tbody><tr><td><div class=\"dni-plaintext\"><pre>4</pre></div></td><td><div class=\"dni-plaintext\"><pre>0</pre></div></td><td><div class=\"dni-plaintext\"><pre>0</pre></div></td></tr></tbody></table></td><td><table><thead><tr><th>Ore</th><th>Clay</th><th>Obsidian</th></tr></thead><tbody><tr><td><div class=\"dni-plaintext\"><pre>2</pre></div></td><td><div class=\"dni-plaintext\"><pre>0</pre></div></td><td><div class=\"dni-plaintext\"><pre>0</pre></div></td></tr></tbody></table></td><td><table><thead><tr><th>Ore</th><th>Clay</th><th>Obsidian</th></tr></thead><tbody><tr><td><div class=\"dni-plaintext\"><pre>3</pre></div></td><td><div class=\"dni-plaintext\"><pre>14</pre></div></td><td><div class=\"dni-plaintext\"><pre>0</pre></div></td></tr></tbody></table></td><td><table><thead><tr><th>Ore</th><th>Clay</th><th>Obsidian</th></tr></thead><tbody><tr><td><div class=\"dni-plaintext\"><pre>2</pre></div></td><td><div class=\"dni-plaintext\"><pre>0</pre></div></td><td><div class=\"dni-plaintext\"><pre>7</pre></div></td></tr></tbody></table></td><td><table><thead><tr><th>Ore</th><th>Clay</th><th>Obsidian</th></tr></thead><tbody><tr><td><div class=\"dni-plaintext\"><pre>4</pre></div></td><td><div class=\"dni-plaintext\"><pre>14</pre></div></td><td><div class=\"dni-plaintext\"><pre>7</pre></div></td></tr></tbody></table></td></tr><tr><td>1</td><td><div class=\"dni-plaintext\"><pre>2</pre></div></td><td><table><thead><tr><th>Ore</th><th>Clay</th><th>Obsidian</th></tr></thead><tbody><tr><td><div class=\"dni-plaintext\"><pre>2</pre></div></td><td><div class=\"dni-plaintext\"><pre>0</pre></div></td><td><div class=\"dni-plaintext\"><pre>0</pre></div></td></tr></tbody></table></td><td><table><thead><tr><th>Ore</th><th>Clay</th><th>Obsidian</th></tr></thead><tbody><tr><td><div class=\"dni-plaintext\"><pre>3</pre></div></td><td><div class=\"dni-plaintext\"><pre>0</pre></div></td><td><div class=\"dni-plaintext\"><pre>0</pre></div></td></tr></tbody></table></td><td><table><thead><tr><th>Ore</th><th>Clay</th><th>Obsidian</th></tr></thead><tbody><tr><td><div class=\"dni-plaintext\"><pre>3</pre></div></td><td><div class=\"dni-plaintext\"><pre>8</pre></div></td><td><div class=\"dni-plaintext\"><pre>0</pre></div></td></tr></tbody></table></td><td><table><thead><tr><th>Ore</th><th>Clay</th><th>Obsidian</th></tr></thead><tbody><tr><td><div class=\"dni-plaintext\"><pre>3</pre></div></td><td><div class=\"dni-plaintext\"><pre>0</pre></div></td><td><div class=\"dni-plaintext\"><pre>12</pre></div></td></tr></tbody></table></td><td><table><thead><tr><th>Ore</th><th>Clay</th><th>Obsidian</th></tr></thead><tbody><tr><td><div class=\"dni-plaintext\"><pre>3</pre></div></td><td><div class=\"dni-plaintext\"><pre>8</pre></div></td><td><div class=\"dni-plaintext\"><pre>12</pre></div></td></tr></tbody></table></td></tr></tbody></table><style>\r\n",
       ".dni-code-hint {\r\n",
       "    font-style: italic;\r\n",
       "    overflow: hidden;\r\n",
       "    white-space: nowrap;\r\n",
       "}\r\n",
       ".dni-treeview {\r\n",
       "    white-space: nowrap;\r\n",
       "}\r\n",
       ".dni-treeview td {\r\n",
       "    vertical-align: top;\r\n",
       "    text-align: start;\r\n",
       "}\r\n",
       "details.dni-treeview {\r\n",
       "    padding-left: 1em;\r\n",
       "}\r\n",
       "table td {\r\n",
       "    text-align: start;\r\n",
       "}\r\n",
       "table tr { \r\n",
       "    vertical-align: top; \r\n",
       "    margin: 0em 0px;\r\n",
       "}\r\n",
       "table tr td pre \r\n",
       "{ \r\n",
       "    vertical-align: top !important; \r\n",
       "    margin: 0em 0px !important;\r\n",
       "} \r\n",
       "table th {\r\n",
       "    text-align: start;\r\n",
       "}\r\n",
       "</style>"
      ]
     },
     "metadata": {},
     "output_type": "display_data"
    }
   ],
   "source": [
    "#!share sampleRaw --from value\n",
    "let sampleBps = Pattern1.read parseBlueprint sampleRaw\n",
    "sampleBps"
   ]
  },
  {
   "attachments": {},
   "cell_type": "markdown",
   "metadata": {
    "dotnet_interactive": {
     "language": "csharp"
    },
    "polyglot_notebook": {
     "kernelName": "csharp"
    }
   },
   "source": [
    "This notebook relies on a breadth-first search algorithm implementation from the `bfs.fsx` script file. \n",
    "\n",
    "In this problem we have a graph of decicions taken during each minute. We traverse all possible decision paths reachable in 24 minutes."
   ]
  },
  {
   "cell_type": "code",
   "execution_count": 31,
   "metadata": {
    "dotnet_interactive": {
     "language": "fsharp"
    },
    "polyglot_notebook": {
     "kernelName": "fsharp"
    },
    "vscode": {
     "languageId": "polyglot-notebook"
    }
   },
   "outputs": [],
   "source": [
    "type State = { \n",
    "    TimeLeft: int\n",
    "    Bp: Bp\n",
    "    Res: Res\n",
    "    Geodes: int\n",
    "    OreRobots: int\n",
    "    ClayRobots: int\n",
    "    ObsidianRobots: int\n",
    "    GeodeRobots: int\n",
    "} \n",
    "with \n",
    "    member this.PerMinute = clay * this.ClayRobots + ore * this.OreRobots + obsidian * this.ObsidianRobots\n",
    "    member this.InTheEnd = this.Res + this.PerMinute * this.TimeLeft"
   ]
  },
  {
   "attachments": {},
   "cell_type": "markdown",
   "metadata": {
    "dotnet_interactive": {
     "language": "fsharp"
    },
    "polyglot_notebook": {
     "kernelName": "fsharp"
    }
   },
   "source": [
    "To reduce the number of possible states some optimizations are introduced:\n",
    "1. If there are enough resources to build a geode bot, this is the only correct choice.\n",
    "2. There is no point in building a bot if there are already enough of them to build any kind of bots every minute.\n",
    "3. There is no point in building a bot if we have already saved enough of the corresponding resource to build any kind of bots every minute.\n",
    "4. There is no point in saving resources for a certain bot if there no bot produces resources for it."
   ]
  },
  {
   "cell_type": "code",
   "execution_count": 32,
   "metadata": {
    "dotnet_interactive": {
     "language": "fsharp"
    },
    "polyglot_notebook": {
     "kernelName": "fsharp"
    },
    "vscode": {
     "languageId": "polyglot-notebook"
    }
   },
   "outputs": [],
   "source": [
    "#load \"../common/bfs.fsx\"\n",
    "open Bfs\n",
    "open Bfs.Custom\n",
    "\n",
    "let adj : Adjacency<State> = \n",
    "    fun oldState -> \n",
    "        if (oldState.TimeLeft = 0)\n",
    "        then []\n",
    "        else \n",
    "            let state = {\n",
    "                oldState\n",
    "                    with Res = oldState.Res + oldState.PerMinute\n",
    "                         Geodes = oldState.Geodes + oldState.GeodeRobots\n",
    "                         TimeLeft = oldState.TimeLeft - 1\n",
    "            }\n",
    "            let maxRes = state.Bp.MaxRes\n",
    "\n",
    "            if (oldState.Res />= state.Bp.GeodeRobot) // 1\n",
    "            then \n",
    "                [ {state with Res = state.Res - state.Bp.GeodeRobot; GeodeRobots = state.GeodeRobots + 1} ]\n",
    "            else \n",
    "                let alt = \n",
    "                    [\n",
    "                        if oldState.Res />= state.Bp.ObsidianRobot\n",
    "                        then \n",
    "                            if state.ObsidianRobots < maxRes.Obsidian && state.InTheEnd.Obsidian < maxRes.Obsidian * oldState.TimeLeft // 2 && 3\n",
    "                            then \n",
    "                                yield {state with Res = state.Res - state.Bp.ObsidianRobot; ObsidianRobots = state.ObsidianRobots + 1}\n",
    "                        elif state.InTheEnd />= state.Bp.ObsidianRobot //4\n",
    "                        then yield state\n",
    "                            \n",
    "                        if oldState.Res />= state.Bp.OreRobot\n",
    "                        then \n",
    "                            if state.OreRobots < maxRes.Ore && state.InTheEnd.Ore < maxRes.Ore * oldState.TimeLeft // 2 && 3\n",
    "                            then \n",
    "                                yield {state with Res = state.Res - state.Bp.OreRobot; OreRobots = state.OreRobots + 1}\n",
    "                        elif state.InTheEnd />= state.Bp.OreRobot //4\n",
    "                        then yield state\n",
    "\n",
    "                        if oldState.Res />= state.Bp.ClayRobot\n",
    "                        then\n",
    "                            if state.ClayRobots < maxRes.Clay && state.InTheEnd.Clay < maxRes.Clay * oldState.TimeLeft // 2 && 3\n",
    "                            then \n",
    "                                yield {state with Res = state.Res - state.Bp.ClayRobot; ClayRobots = state.ClayRobots + 1}\n",
    "                        elif state.InTheEnd />= state.Bp.ClayRobot // 4\n",
    "                        then yield state\n",
    "                        \n",
    "                    ] |> List.distinct\n",
    "                if alt |> List.isEmpty && state.InTheEnd />= state.Bp.GeodeRobot\n",
    "                then [ state ]\n",
    "                else alt\n",
    "\n",
    "\n",
    "let target : Target<State> = \n",
    "    fun state -> false\n",
    "\n",
    "let settings = { VisitedKey = fun s -> s.TimeLeft, s.Geodes, s.GeodeRobots, s.Res, s.ObsidianRobots, s.OreRobots, s.ClayRobots }\n"
   ]
  },
  {
   "cell_type": "code",
   "execution_count": 33,
   "metadata": {
    "dotnet_interactive": {
     "language": "fsharp"
    },
    "polyglot_notebook": {
     "kernelName": "fsharp"
    },
    "vscode": {
     "languageId": "polyglot-notebook"
    }
   },
   "outputs": [],
   "source": [
    "let initState bp time = \n",
    "    { TimeLeft = time; Bp = bp; Res = Res.Empty; Geodes = 0; OreRobots = 1; ClayRobots = 0; ObsidianRobots = 0; GeodeRobots = 0 }\n",
    "let maxGeodes state = \n",
    "    let (NotFound(paths)) = findPath settings { Adjacency = adj } state target\n",
    "    paths \n",
    "    |> Seq.map List.head \n",
    "    |> Seq.map (fun s -> s.Geodes)\n",
    "    |> Seq.max\n"
   ]
  },
  {
   "cell_type": "code",
   "execution_count": 34,
   "metadata": {
    "dotnet_interactive": {
     "language": "fsharp"
    },
    "polyglot_notebook": {
     "kernelName": "fsharp"
    },
    "vscode": {
     "languageId": "polyglot-notebook"
    }
   },
   "outputs": [],
   "source": [
    "#!value --name actualRaw --from-file ./data_actual.txt"
   ]
  },
  {
   "cell_type": "code",
   "execution_count": 35,
   "metadata": {
    "dotnet_interactive": {
     "language": "fsharp"
    },
    "polyglot_notebook": {
     "kernelName": "fsharp"
    },
    "vscode": {
     "languageId": "polyglot-notebook"
    }
   },
   "outputs": [],
   "source": [
    "#!share actualRaw --from value\n",
    "let actualBps = Pattern1.read parseBlueprint actualRaw\n"
   ]
  },
  {
   "cell_type": "code",
   "execution_count": 36,
   "metadata": {
    "dotnet_interactive": {
     "language": "fsharp"
    },
    "polyglot_notebook": {
     "kernelName": "fsharp"
    },
    "vscode": {
     "languageId": "polyglot-notebook"
    }
   },
   "outputs": [
    {
     "data": {
      "text/html": [
       "<div class=\"dni-plaintext\"><pre>2301</pre></div><style>\r\n",
       ".dni-code-hint {\r\n",
       "    font-style: italic;\r\n",
       "    overflow: hidden;\r\n",
       "    white-space: nowrap;\r\n",
       "}\r\n",
       ".dni-treeview {\r\n",
       "    white-space: nowrap;\r\n",
       "}\r\n",
       ".dni-treeview td {\r\n",
       "    vertical-align: top;\r\n",
       "    text-align: start;\r\n",
       "}\r\n",
       "details.dni-treeview {\r\n",
       "    padding-left: 1em;\r\n",
       "}\r\n",
       "table td {\r\n",
       "    text-align: start;\r\n",
       "}\r\n",
       "table tr { \r\n",
       "    vertical-align: top; \r\n",
       "    margin: 0em 0px;\r\n",
       "}\r\n",
       "table tr td pre \r\n",
       "{ \r\n",
       "    vertical-align: top !important; \r\n",
       "    margin: 0em 0px !important;\r\n",
       "} \r\n",
       "table th {\r\n",
       "    text-align: start;\r\n",
       "}\r\n",
       "</style>"
      ]
     },
     "metadata": {},
     "output_type": "display_data"
    },
    {
     "data": {
      "text/plain": [
       "Wall time: 38002.7861ms"
      ]
     },
     "metadata": {},
     "output_type": "display_data"
    }
   ],
   "source": [
    "#!time\n",
    "actualBps\n",
    "|> Array.map (fun bp -> bp.Id * maxGeodes (initState bp 24))\n",
    "|> Array.sum\n"
   ]
  },
  {
   "attachments": {},
   "cell_type": "markdown",
   "metadata": {
    "dotnet_interactive": {
     "language": "fsharp"
    },
    "polyglot_notebook": {
     "kernelName": "fsharp"
    }
   },
   "source": [
    "### Part 2"
   ]
  },
  {
   "cell_type": "code",
   "execution_count": 37,
   "metadata": {
    "dotnet_interactive": {
     "language": "fsharp"
    },
    "polyglot_notebook": {
     "kernelName": "fsharp"
    },
    "vscode": {
     "languageId": "polyglot-notebook"
    }
   },
   "outputs": [
    {
     "data": {
      "text/html": [
       "<div class=\"dni-plaintext\"><pre>10336</pre></div><style>\r\n",
       ".dni-code-hint {\r\n",
       "    font-style: italic;\r\n",
       "    overflow: hidden;\r\n",
       "    white-space: nowrap;\r\n",
       "}\r\n",
       ".dni-treeview {\r\n",
       "    white-space: nowrap;\r\n",
       "}\r\n",
       ".dni-treeview td {\r\n",
       "    vertical-align: top;\r\n",
       "    text-align: start;\r\n",
       "}\r\n",
       "details.dni-treeview {\r\n",
       "    padding-left: 1em;\r\n",
       "}\r\n",
       "table td {\r\n",
       "    text-align: start;\r\n",
       "}\r\n",
       "table tr { \r\n",
       "    vertical-align: top; \r\n",
       "    margin: 0em 0px;\r\n",
       "}\r\n",
       "table tr td pre \r\n",
       "{ \r\n",
       "    vertical-align: top !important; \r\n",
       "    margin: 0em 0px !important;\r\n",
       "} \r\n",
       "table th {\r\n",
       "    text-align: start;\r\n",
       "}\r\n",
       "</style>"
      ]
     },
     "metadata": {},
     "output_type": "display_data"
    },
    {
     "data": {
      "text/plain": [
       "Wall time: 86519.3432ms"
      ]
     },
     "metadata": {},
     "output_type": "display_data"
    }
   ],
   "source": [
    "#!time\n",
    "actualBps\n",
    "|> Array.take 3\n",
    "|> Array.map (fun bp -> maxGeodes (initState bp 32))\n",
    "|> Array.reduce (*)"
   ]
  }
 ],
 "metadata": {
  "kernelspec": {
   "display_name": ".NET (C#)",
   "language": "C#",
   "name": ".net-csharp"
  },
  "polyglot_notebook": {
   "kernelInfo": {
    "defaultKernelName": "csharp",
    "items": [
     {
      "aliases": [
       "c#",
       "C#"
      ],
      "languageName": "C#",
      "name": "csharp"
     },
     {
      "aliases": [],
      "name": ".NET"
     },
     {
      "aliases": [
       "f#",
       "F#"
      ],
      "languageName": "F#",
      "name": "fsharp"
     },
     {
      "aliases": [],
      "languageName": "HTML",
      "name": "html"
     },
     {
      "aliases": [
       "js"
      ],
      "languageName": "JavaScript",
      "name": "javascript"
     },
     {
      "aliases": [],
      "languageName": "KQL",
      "name": "kql"
     },
     {
      "aliases": [],
      "languageName": "Mermaid",
      "name": "mermaid"
     },
     {
      "aliases": [
       "powershell"
      ],
      "languageName": "PowerShell",
      "name": "pwsh"
     },
     {
      "aliases": [],
      "languageName": "SQL",
      "name": "sql"
     },
     {
      "aliases": [],
      "name": "value"
     },
     {
      "aliases": [
       "frontend"
      ],
      "name": "vscode"
     },
     {
      "aliases": [],
      "name": "webview"
     }
    ]
   }
  }
 },
 "nbformat": 4,
 "nbformat_minor": 2
}
