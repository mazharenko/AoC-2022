{
 "cells": [
  {
   "attachments": {},
   "cell_type": "markdown",
   "metadata": {
    "dotnet_interactive": {
     "language": "csharp"
    },
    "polyglot_notebook": {
     "kernelName": "csharp"
    }
   },
   "source": [
    "## Day 10: Cathode-Ray Tube\n",
    "\n",
    "[![nbviewer](https://raw.githubusercontent.com/jupyter/design/master/logos/Badges/nbviewer_badge.svg)](https://nbviewer.org/github/mazharenko/AoC-2022/tree/HEAD/notebooks/day10/puzzle.ipynb)"
   ]
  },
  {
   "cell_type": "code",
   "execution_count": 27,
   "metadata": {
    "dotnet_interactive": {
     "language": "fsharp"
    },
    "polyglot_notebook": {
     "kernelName": "fsharp"
    },
    "vscode": {
     "languageId": "polyglot-notebook"
    }
   },
   "outputs": [],
   "source": [
    "#!value --name sampleRaw --from-file ./data_sample.txt\n"
   ]
  },
  {
   "cell_type": "code",
   "execution_count": 28,
   "metadata": {
    "dotnet_interactive": {
     "language": "fsharp"
    },
    "polyglot_notebook": {
     "kernelName": "fsharp"
    },
    "vscode": {
     "languageId": "polyglot-notebook"
    }
   },
   "outputs": [],
   "source": [
    "#!value --name actualRaw --from-file ./data_actual.txt"
   ]
  },
  {
   "cell_type": "code",
   "execution_count": 29,
   "metadata": {
    "dotnet_interactive": {
     "language": "fsharp"
    },
    "polyglot_notebook": {
     "kernelName": "fsharp"
    },
    "vscode": {
     "languageId": "polyglot-notebook"
    }
   },
   "outputs": [],
   "source": [
    "type Op = \n",
    "| NoOp\n",
    "| AddX of int"
   ]
  },
  {
   "cell_type": "code",
   "execution_count": 30,
   "metadata": {
    "dotnet_interactive": {
     "language": "fsharp"
    },
    "polyglot_notebook": {
     "kernelName": "fsharp"
    },
    "vscode": {
     "languageId": "polyglot-notebook"
    }
   },
   "outputs": [],
   "source": [
    "#load \"../common/common.fsx\"\n",
    "\n",
    "let parse input = \n",
    "    Pattern1.read (\n",
    "        function \n",
    "        | Regex \"noop\" [] -> NoOp \n",
    "        | Regex \"addx ([-0-9]+)\" [num] -> num |> int |> AddX\n",
    "        | _ -> failwith \"unknown command\"\n",
    "    ) input"
   ]
  },
  {
   "cell_type": "code",
   "execution_count": 31,
   "metadata": {
    "dotnet_interactive": {
     "language": "fsharp"
    },
    "polyglot_notebook": {
     "kernelName": "fsharp"
    },
    "vscode": {
     "languageId": "polyglot-notebook"
    }
   },
   "outputs": [
    {
     "data": {
      "text/html": [
       "<table><thead><tr><th><i>index</i></th><th><i>type</i></th><th>Item</th></tr></thead><tbody><tr><td>0</td><td>FSI_0036+Op+AddX</td><td><div class=\"dni-plaintext\"><pre>15</pre></div></td></tr><tr><td>1</td><td>FSI_0036+Op+AddX</td><td><div class=\"dni-plaintext\"><pre>-11</pre></div></td></tr><tr><td>2</td><td>FSI_0036+Op+AddX</td><td><div class=\"dni-plaintext\"><pre>6</pre></div></td></tr><tr><td>3</td><td>FSI_0036+Op+AddX</td><td><div class=\"dni-plaintext\"><pre>-3</pre></div></td></tr><tr><td>4</td><td>FSI_0036+Op+AddX</td><td><div class=\"dni-plaintext\"><pre>5</pre></div></td></tr><tr><td>5</td><td>FSI_0036+Op+AddX</td><td><div class=\"dni-plaintext\"><pre>-1</pre></div></td></tr><tr><td>6</td><td>FSI_0036+Op+AddX</td><td><div class=\"dni-plaintext\"><pre>-8</pre></div></td></tr><tr><td>7</td><td>FSI_0036+Op+AddX</td><td><div class=\"dni-plaintext\"><pre>13</pre></div></td></tr><tr><td>8</td><td>FSI_0036+Op+AddX</td><td><div class=\"dni-plaintext\"><pre>4</pre></div></td></tr><tr><td>9</td><td>FSI_0036+Op+_NoOp</td><td></td></tr></tbody></table><style>\r\n",
       ".dni-code-hint {\r\n",
       "    font-style: italic;\r\n",
       "    overflow: hidden;\r\n",
       "    white-space: nowrap;\r\n",
       "}\r\n",
       ".dni-treeview {\r\n",
       "    white-space: nowrap;\r\n",
       "}\r\n",
       ".dni-treeview td {\r\n",
       "    vertical-align: top;\r\n",
       "    text-align: start;\r\n",
       "}\r\n",
       "details.dni-treeview {\r\n",
       "    padding-left: 1em;\r\n",
       "}\r\n",
       "table td {\r\n",
       "    text-align: start;\r\n",
       "}\r\n",
       "table tr { \r\n",
       "    vertical-align: top; \r\n",
       "    margin: 0em 0px;\r\n",
       "}\r\n",
       "table tr td pre \r\n",
       "{ \r\n",
       "    vertical-align: top !important; \r\n",
       "    margin: 0em 0px !important;\r\n",
       "} \r\n",
       "table th {\r\n",
       "    text-align: start;\r\n",
       "}\r\n",
       "</style>"
      ]
     },
     "metadata": {},
     "output_type": "display_data"
    }
   ],
   "source": [
    "#!share sampleRaw --from value\n",
    "#!share actualRaw --from value\n",
    "\n",
    "let sampleCommands = parse sampleRaw\n",
    "let actualCommands = parse actualRaw\n",
    "\n",
    "sampleCommands |> Seq.take 10 |> display"
   ]
  },
  {
   "cell_type": "code",
   "execution_count": 32,
   "metadata": {
    "dotnet_interactive": {
     "language": "fsharp"
    },
    "polyglot_notebook": {
     "kernelName": "fsharp"
    },
    "vscode": {
     "languageId": "polyglot-notebook"
    }
   },
   "outputs": [
    {
     "data": {
      "text/html": [
       "<table><thead><tr><th><i>index</i></th><th><i>type</i></th><th>Item</th></tr></thead><tbody><tr><td>0</td><td>FSI_0036+Op+_NoOp</td><td></td></tr><tr><td>1</td><td>FSI_0036+Op+AddX</td><td><div class=\"dni-plaintext\"><pre>5</pre></div></td></tr><tr><td>2</td><td>FSI_0036+Op+_NoOp</td><td></td></tr><tr><td>3</td><td>FSI_0036+Op+AddX</td><td><div class=\"dni-plaintext\"><pre>3</pre></div></td></tr><tr><td>4</td><td>FSI_0036+Op+AddX</td><td><div class=\"dni-plaintext\"><pre>-2</pre></div></td></tr><tr><td>5</td><td>FSI_0036+Op+AddX</td><td><div class=\"dni-plaintext\"><pre>4</pre></div></td></tr><tr><td>6</td><td>FSI_0036+Op+_NoOp</td><td></td></tr><tr><td>7</td><td>FSI_0036+Op+_NoOp</td><td></td></tr><tr><td>8</td><td>FSI_0036+Op+_NoOp</td><td></td></tr><tr><td>9</td><td>FSI_0036+Op+_NoOp</td><td></td></tr></tbody></table><style>\r\n",
       ".dni-code-hint {\r\n",
       "    font-style: italic;\r\n",
       "    overflow: hidden;\r\n",
       "    white-space: nowrap;\r\n",
       "}\r\n",
       ".dni-treeview {\r\n",
       "    white-space: nowrap;\r\n",
       "}\r\n",
       ".dni-treeview td {\r\n",
       "    vertical-align: top;\r\n",
       "    text-align: start;\r\n",
       "}\r\n",
       "details.dni-treeview {\r\n",
       "    padding-left: 1em;\r\n",
       "}\r\n",
       "table td {\r\n",
       "    text-align: start;\r\n",
       "}\r\n",
       "table tr { \r\n",
       "    vertical-align: top; \r\n",
       "    margin: 0em 0px;\r\n",
       "}\r\n",
       "table tr td pre \r\n",
       "{ \r\n",
       "    vertical-align: top !important; \r\n",
       "    margin: 0em 0px !important;\r\n",
       "} \r\n",
       "table th {\r\n",
       "    text-align: start;\r\n",
       "}\r\n",
       "</style>"
      ]
     },
     "metadata": {},
     "output_type": "display_data"
    }
   ],
   "source": [
    "actualCommands |> Seq.take 10 |> display"
   ]
  },
  {
   "attachments": {},
   "cell_type": "markdown",
   "metadata": {
    "dotnet_interactive": {
     "language": "fsharp"
    },
    "polyglot_notebook": {
     "kernelName": "fsharp"
    }
   },
   "source": [
    "### Part 1"
   ]
  },
  {
   "cell_type": "code",
   "execution_count": 33,
   "metadata": {
    "dotnet_interactive": {
     "language": "fsharp"
    },
    "polyglot_notebook": {
     "kernelName": "fsharp"
    },
    "vscode": {
     "languageId": "polyglot-notebook"
    }
   },
   "outputs": [],
   "source": [
    "module Part1 = \n",
    "    type State = { Cycle : int; X: int; SignalAcc : int}\n",
    "    with static member Empty = { Cycle= 1; X = 1; SignalAcc = 0 }"
   ]
  },
  {
   "attachments": {},
   "cell_type": "markdown",
   "metadata": {
    "dotnet_interactive": {
     "language": "fsharp"
    },
    "polyglot_notebook": {
     "kernelName": "fsharp"
    }
   },
   "source": [
    "\n",
    "The instructions are not elementary. We can iteprete and implement them as sequences of more little ones:\n",
    "1. Cycle increment\n",
    "2. X register increase\n",
    "3. Signal strength computation and accumulation"
   ]
  },
  {
   "cell_type": "code",
   "execution_count": 34,
   "metadata": {
    "dotnet_interactive": {
     "language": "fsharp"
    },
    "polyglot_notebook": {
     "kernelName": "fsharp"
    },
    "vscode": {
     "languageId": "polyglot-notebook"
    }
   },
   "outputs": [],
   "source": [
    "module Part1 = \n",
    "    let cycle (state : Part1.State) = \n",
    "        { state with Cycle = state.Cycle + 1 }\n",
    "    let increase addend (state : Part1.State) = \n",
    "        { state with X = state.X + addend }\n",
    "    let sampleSignalStrength (state : Part1.State) = \n",
    "        if ((state.Cycle - 20) % 40 = 0) \n",
    "        then { state with SignalAcc = state.SignalAcc + (state.X * state.Cycle) }\n",
    "        else state\n",
    "\n",
    "    let execute state op = \n",
    "        match op with\n",
    "        | NoOp -> \n",
    "            state \n",
    "            |> sampleSignalStrength \n",
    "            |> cycle\n",
    "        | AddX x -> \n",
    "            state \n",
    "            |> sampleSignalStrength \n",
    "            |> cycle\n",
    "            |> sampleSignalStrength \n",
    "            |> cycle\n",
    "            |> increase x\n"
   ]
  },
  {
   "cell_type": "code",
   "execution_count": 35,
   "metadata": {
    "dotnet_interactive": {
     "language": "fsharp"
    },
    "polyglot_notebook": {
     "kernelName": "fsharp"
    },
    "vscode": {
     "languageId": "polyglot-notebook"
    }
   },
   "outputs": [
    {
     "data": {
      "text/html": [
       "<table><thead><tr><th><i>index</i></th><th>Cycle</th><th>X</th><th>SignalAcc</th></tr></thead><tbody><tr><td>0</td><td><div class=\"dni-plaintext\"><pre>20</pre></div></td><td><div class=\"dni-plaintext\"><pre>21</pre></div></td><td><div class=\"dni-plaintext\"><pre>0</pre></div></td></tr><tr><td>1</td><td><div class=\"dni-plaintext\"><pre>60</pre></div></td><td><div class=\"dni-plaintext\"><pre>19</pre></div></td><td><div class=\"dni-plaintext\"><pre>420</pre></div></td></tr><tr><td>2</td><td><div class=\"dni-plaintext\"><pre>100</pre></div></td><td><div class=\"dni-plaintext\"><pre>18</pre></div></td><td><div class=\"dni-plaintext\"><pre>1560</pre></div></td></tr><tr><td>3</td><td><div class=\"dni-plaintext\"><pre>140</pre></div></td><td><div class=\"dni-plaintext\"><pre>21</pre></div></td><td><div class=\"dni-plaintext\"><pre>3360</pre></div></td></tr><tr><td>4</td><td><div class=\"dni-plaintext\"><pre>180</pre></div></td><td><div class=\"dni-plaintext\"><pre>16</pre></div></td><td><div class=\"dni-plaintext\"><pre>6300</pre></div></td></tr></tbody></table><style>\r\n",
       ".dni-code-hint {\r\n",
       "    font-style: italic;\r\n",
       "    overflow: hidden;\r\n",
       "    white-space: nowrap;\r\n",
       "}\r\n",
       ".dni-treeview {\r\n",
       "    white-space: nowrap;\r\n",
       "}\r\n",
       ".dni-treeview td {\r\n",
       "    vertical-align: top;\r\n",
       "    text-align: start;\r\n",
       "}\r\n",
       "details.dni-treeview {\r\n",
       "    padding-left: 1em;\r\n",
       "}\r\n",
       "table td {\r\n",
       "    text-align: start;\r\n",
       "}\r\n",
       "table tr { \r\n",
       "    vertical-align: top; \r\n",
       "    margin: 0em 0px;\r\n",
       "}\r\n",
       "table tr td pre \r\n",
       "{ \r\n",
       "    vertical-align: top !important; \r\n",
       "    margin: 0em 0px !important;\r\n",
       "} \r\n",
       "table th {\r\n",
       "    text-align: start;\r\n",
       "}\r\n",
       "</style>"
      ]
     },
     "metadata": {},
     "output_type": "display_data"
    },
    {
     "data": {
      "text/html": [
       "<table><thead><tr><th>Cycle</th><th>X</th><th>SignalAcc</th></tr></thead><tbody><tr><td><div class=\"dni-plaintext\"><pre>241</pre></div></td><td><div class=\"dni-plaintext\"><pre>17</pre></div></td><td><div class=\"dni-plaintext\"><pre>13140</pre></div></td></tr></tbody></table>"
      ]
     },
     "metadata": {},
     "output_type": "display_data"
    }
   ],
   "source": [
    "let allSampleStates =\n",
    "    sampleCommands\n",
    "    |> Array.mapFold (\n",
    "        fun state op ->\n",
    "            let newState = Part1.execute state op\n",
    "            newState,newState\n",
    "    ) Part1.State.Empty\n",
    "    |> fst \n",
    "allSampleStates\n",
    "|> Array.filter (fun state -> (state.Cycle - 20) % 40 = 0)\n",
    "|> display\n",
    "\n",
    "Array.last allSampleStates\n"
   ]
  },
  {
   "cell_type": "code",
   "execution_count": 36,
   "metadata": {
    "dotnet_interactive": {
     "language": "fsharp"
    },
    "polyglot_notebook": {
     "kernelName": "fsharp"
    },
    "vscode": {
     "languageId": "polyglot-notebook"
    }
   },
   "outputs": [
    {
     "data": {
      "text/html": [
       "<table><thead><tr><th>Cycle</th><th>X</th><th>SignalAcc</th></tr></thead><tbody><tr><td><div class=\"dni-plaintext\"><pre>241</pre></div></td><td><div class=\"dni-plaintext\"><pre>37</pre></div></td><td><div class=\"dni-plaintext\"><pre>15120</pre></div></td></tr></tbody></table>"
      ]
     },
     "metadata": {},
     "output_type": "display_data"
    }
   ],
   "source": [
    "actualCommands \n",
    "|> Array.fold Part1.execute Part1.State.Empty"
   ]
  },
  {
   "attachments": {},
   "cell_type": "markdown",
   "metadata": {
    "dotnet_interactive": {
     "language": "fsharp"
    },
    "polyglot_notebook": {
     "kernelName": "fsharp"
    }
   },
   "source": [
    "### Part 2\n",
    "\n",
    "For Part 2, the same approach is applicable."
   ]
  },
  {
   "cell_type": "code",
   "execution_count": 37,
   "metadata": {
    "dotnet_interactive": {
     "language": "fsharp"
    },
    "polyglot_notebook": {
     "kernelName": "fsharp"
    },
    "vscode": {
     "languageId": "polyglot-notebook"
    }
   },
   "outputs": [],
   "source": [
    "module Part2 = \n",
    "    type Pixel = \n",
    "    | Lit\n",
    "    | Dark\n",
    "\n",
    "    type State = { X: int; Sprite: int array; TubePosition: int*int; Pixels: Pixel[,] }\n",
    "    with static member Empty = {\n",
    "            X = 1\n",
    "            Sprite = [| 0;1;2 |]\n",
    "            TubePosition = 0,0\n",
    "            Pixels = Array2D.create 6 40 Dark\n",
    "        }\n",
    "\n",
    "    let cycle (state : State) =\n",
    "        let (hPos, vPos) = state.TubePosition\n",
    "        let vCarry, hReminder = Math.DivRem(hPos + 1, 40)\n",
    "        { state with TubePosition = hReminder, (vPos + vCarry)%6 }\n",
    "    let increase addend (state : State) = \n",
    "        let newX = state.X + addend\n",
    "        { state with\n",
    "            X = newX\n",
    "            Sprite = [| newX - 1; newX; newX + 1 |] }\n",
    "    let drawPixel (state : State) = \n",
    "        let (hPos, vPos) = state.TubePosition\n",
    "        if state.Sprite |> Array.contains hPos\n",
    "        then \n",
    "            let newPixels = \n",
    "                state.Pixels\n",
    "                |> Array2D.copy\n",
    "            Array2D.set newPixels vPos hPos Lit\n",
    "            { state with Pixels = newPixels }\n",
    "        else state\n",
    "\n",
    "    let execute state op = \n",
    "        match op with\n",
    "        | NoOp -> \n",
    "            state \n",
    "            |> drawPixel\n",
    "            |> cycle\n",
    "        | AddX x -> \n",
    "            state \n",
    "            |> drawPixel\n",
    "            |> cycle\n",
    "            |> drawPixel\n",
    "            |> cycle\n",
    "            |> increase x"
   ]
  },
  {
   "cell_type": "code",
   "execution_count": 38,
   "metadata": {
    "dotnet_interactive": {
     "language": "fsharp"
    },
    "polyglot_notebook": {
     "kernelName": "fsharp"
    },
    "vscode": {
     "languageId": "polyglot-notebook"
    }
   },
   "outputs": [
    {
     "data": {
      "text/html": [
       "\n",
       "        <div id=\"7df4211c44114db491ef9f94bffe5f2f\"></id>\n",
       "        <script>\n",
       "            var render_7df4211c44114db491ef9f94bffe5f2f = function() {\n",
       "                const data = [[0,0,\"rgba(0, 128, 0, 0.99609375)\"],[0,1,\"rgba(0, 128, 0, 0.99609375)\"],[0,4,\"rgba(0, 128, 0, 0.99609375)\"],[0,5,\"rgba(0, 128, 0, 0.99609375)\"],[0,8,\"rgba(0, 128, 0, 0.99609375)\"],[0,9,\"rgba(0, 128, 0, 0.99609375)\"],[0,12,\"rgba(0, 128, 0, 0.99609375)\"],[0,13,\"rgba(0, 128, 0, 0.99609375)\"],[0,16,\"rgba(0, 128, 0, 0.99609375)\"],[0,17,\"rgba(0, 128, 0, 0.99609375)\"],[0,20,\"rgba(0, 128, 0, 0.99609375)\"],[0,21,\"rgba(0, 128, 0, 0.99609375)\"],[0,24,\"rgba(0, 128, 0, 0.99609375)\"],[0,25,\"rgba(0, 128, 0, 0.99609375)\"],[0,28,\"rgba(0, 128, 0, 0.99609375)\"],[0,29,\"rgba(0, 128, 0, 0.99609375)\"],[0,32,\"rgba(0, 128, 0, 0.99609375)\"],[0,33,\"rgba(0, 128, 0, 0.99609375)\"],[0,36,\"rgba(0, 128, 0, 0.99609375)\"],[0,37,\"rgba(0, 128, 0, 0.99609375)\"],[1,0,\"rgba(0, 128, 0, 0.99609375)\"],[1,1,\"rgba(0, 128, 0, 0.99609375)\"],[1,2,\"rgba(0, 128, 0, 0.99609375)\"],[1,6,\"rgba(0, 128, 0, 0.99609375)\"],[1,7,\"rgba(0, 128, 0, 0.99609375)\"],[1,8,\"rgba(0, 128, 0, 0.99609375)\"],[1,12,\"rgba(0, 128, 0, 0.99609375)\"],[1,13,\"rgba(0, 128, 0, 0.99609375)\"],[1,14,\"rgba(0, 128, 0, 0.99609375)\"],[1,18,\"rgba(0, 128, 0, 0.99609375)\"],[1,19,\"rgba(0, 128, 0, 0.99609375)\"],[1,20,\"rgba(0, 128, 0, 0.99609375)\"],[1,24,\"rgba(0, 128, 0, 0.99609375)\"],[1,25,\"rgba(0, 128, 0, 0.99609375)\"],[1,26,\"rgba(0, 128, 0, 0.99609375)\"],[1,30,\"rgba(0, 128, 0, 0.99609375)\"],[1,31,\"rgba(0, 128, 0, 0.99609375)\"],[1,32,\"rgba(0, 128, 0, 0.99609375)\"],[1,36,\"rgba(0, 128, 0, 0.99609375)\"],[1,37,\"rgba(0, 128, 0, 0.99609375)\"],[1,38,\"rgba(0, 128, 0, 0.99609375)\"],[2,0,\"rgba(0, 128, 0, 0.99609375)\"],[2,1,\"rgba(0, 128, 0, 0.99609375)\"],[2,2,\"rgba(0, 128, 0, 0.99609375)\"],[2,3,\"rgba(0, 128, 0, 0.99609375)\"],[2,8,\"rgba(0, 128, 0, 0.99609375)\"],[2,9,\"rgba(0, 128, 0, 0.99609375)\"],[2,10,\"rgba(0, 128, 0, 0.99609375)\"],[2,11,\"rgba(0, 128, 0, 0.99609375)\"],[2,16,\"rgba(0, 128, 0, 0.99609375)\"],[2,17,\"rgba(0, 128, 0, 0.99609375)\"],[2,18,\"rgba(0, 128, 0, 0.99609375)\"],[2,19,\"rgba(0, 128, 0, 0.99609375)\"],[2,24,\"rgba(0, 128, 0, 0.99609375)\"],[2,25,\"rgba(0, 128, 0, 0.99609375)\"],[2,26,\"rgba(0, 128, 0, 0.99609375)\"],[2,27,\"rgba(0, 128, 0, 0.99609375)\"],[2,32,\"rgba(0, 128, 0, 0.99609375)\"],[2,33,\"rgba(0, 128, 0, 0.99609375)\"],[2,34,\"rgba(0, 128, 0, 0.99609375)\"],[2,35,\"rgba(0, 128, 0, 0.99609375)\"],[3,0,\"rgba(0, 128, 0, 0.99609375)\"],[3,1,\"rgba(0, 128, 0, 0.99609375)\"],[3,2,\"rgba(0, 128, 0, 0.99609375)\"],[3,3,\"rgba(0, 128, 0, 0.99609375)\"],[3,4,\"rgba(0, 128, 0, 0.99609375)\"],[3,10,\"rgba(0, 128, 0, 0.99609375)\"],[3,11,\"rgba(0, 128, 0, 0.99609375)\"],[3,12,\"rgba(0, 128, 0, 0.99609375)\"],[3,13,\"rgba(0, 128, 0, 0.99609375)\"],[3,14,\"rgba(0, 128, 0, 0.99609375)\"],[3,20,\"rgba(0, 128, 0, 0.99609375)\"],[3,21,\"rgba(0, 128, 0, 0.99609375)\"],[3,22,\"rgba(0, 128, 0, 0.99609375)\"],[3,23,\"rgba(0, 128, 0, 0.99609375)\"],[3,24,\"rgba(0, 128, 0, 0.99609375)\"],[3,30,\"rgba(0, 128, 0, 0.99609375)\"],[3,31,\"rgba(0, 128, 0, 0.99609375)\"],[3,32,\"rgba(0, 128, 0, 0.99609375)\"],[3,33,\"rgba(0, 128, 0, 0.99609375)\"],[3,34,\"rgba(0, 128, 0, 0.99609375)\"],[4,0,\"rgba(0, 128, 0, 0.99609375)\"],[4,1,\"rgba(0, 128, 0, 0.99609375)\"],[4,2,\"rgba(0, 128, 0, 0.99609375)\"],[4,3,\"rgba(0, 128, 0, 0.99609375)\"],[4,4,\"rgba(0, 128, 0, 0.99609375)\"],[4,5,\"rgba(0, 128, 0, 0.99609375)\"],[4,12,\"rgba(0, 128, 0, 0.99609375)\"],[4,13,\"rgba(0, 128, 0, 0.99609375)\"],[4,14,\"rgba(0, 128, 0, 0.99609375)\"],[4,15,\"rgba(0, 128, 0, 0.99609375)\"],[4,16,\"rgba(0, 128, 0, 0.99609375)\"],[4,17,\"rgba(0, 128, 0, 0.99609375)\"],[4,24,\"rgba(0, 128, 0, 0.99609375)\"],[4,25,\"rgba(0, 128, 0, 0.99609375)\"],[4,26,\"rgba(0, 128, 0, 0.99609375)\"],[4,27,\"rgba(0, 128, 0, 0.99609375)\"],[4,28,\"rgba(0, 128, 0, 0.99609375)\"],[4,29,\"rgba(0, 128, 0, 0.99609375)\"],[4,36,\"rgba(0, 128, 0, 0.99609375)\"],[4,37,\"rgba(0, 128, 0, 0.99609375)\"],[4,38,\"rgba(0, 128, 0, 0.99609375)\"],[4,39,\"rgba(0, 128, 0, 0.99609375)\"],[5,0,\"rgba(0, 128, 0, 0.99609375)\"],[5,1,\"rgba(0, 128, 0, 0.99609375)\"],[5,2,\"rgba(0, 128, 0, 0.99609375)\"],[5,3,\"rgba(0, 128, 0, 0.99609375)\"],[5,4,\"rgba(0, 128, 0, 0.99609375)\"],[5,5,\"rgba(0, 128, 0, 0.99609375)\"],[5,6,\"rgba(0, 128, 0, 0.99609375)\"],[5,14,\"rgba(0, 128, 0, 0.99609375)\"],[5,15,\"rgba(0, 128, 0, 0.99609375)\"],[5,16,\"rgba(0, 128, 0, 0.99609375)\"],[5,17,\"rgba(0, 128, 0, 0.99609375)\"],[5,18,\"rgba(0, 128, 0, 0.99609375)\"],[5,19,\"rgba(0, 128, 0, 0.99609375)\"],[5,20,\"rgba(0, 128, 0, 0.99609375)\"],[5,28,\"rgba(0, 128, 0, 0.99609375)\"],[5,29,\"rgba(0, 128, 0, 0.99609375)\"],[5,30,\"rgba(0, 128, 0, 0.99609375)\"],[5,31,\"rgba(0, 128, 0, 0.99609375)\"],[5,32,\"rgba(0, 128, 0, 0.99609375)\"],[5,33,\"rgba(0, 128, 0, 0.99609375)\"],[5,34,\"rgba(0, 128, 0, 0.99609375)\"]];\n",
       "                DrawMatrix.render('7df4211c44114db491ef9f94bffe5f2f', data, {\n",
       "            width: 400,\n",
       "            height: 60,\n",
       "            size: 10\n",
       "        })\n",
       "            }\n",
       "        </script>\n",
       "        <script>\n",
       "            (function () {\n",
       "                if (typeof DrawMatrix === 'object') {\n",
       "                    return;\n",
       "                }\n",
       "\n",
       "                DrawMatrix = {\n",
       "                    render: function(containerId, data, settings) {\n",
       "                        let container = document.getElementById(containerId);\n",
       "                        container.innerHTML = \"\";\n",
       "                        let canvas = document.createElement(\"canvas\");\n",
       "                        container.appendChild(canvas);\n",
       "\n",
       "                        const size = settings.size;\n",
       "                        canvas.width = settings.width;\n",
       "                        canvas.height = settings.height;\n",
       "\n",
       "                        var ctx = canvas.getContext(\"2d\");\n",
       "                        ctx.clearRect(0, 0, canvas.width, canvas.height);\n",
       "\n",
       "                        for (point of data) {\n",
       "                            const [i, j, color] = point;\n",
       "                            ctx.fillStyle = color;\n",
       "                            ctx.fillRect(size * j, size * i, size, size);\n",
       "                        }\n",
       "                    }\n",
       "                }\n",
       "            })();\n",
       "        </script>\n",
       "        <script>\n",
       "            render_7df4211c44114db491ef9f94bffe5f2f();\n",
       "        </script>\n",
       "\n",
       "    "
      ]
     },
     "metadata": {},
     "output_type": "display_data"
    }
   ],
   "source": [
    "#load \"../common/matrixFormatting.fsx\"\n",
    "open System.Drawing\n",
    "\n",
    "(sampleCommands \n",
    "|> Array.fold Part2.execute Part2.State.Empty\n",
    ").Pixels\n",
    "|> toDisplayable (function | Part2.Dark -> Color.Transparent | Part2.Lit -> Color.Green)\n",
    "|> withSettings { Width = 400 }"
   ]
  },
  {
   "cell_type": "code",
   "execution_count": 39,
   "metadata": {
    "dotnet_interactive": {
     "language": "fsharp"
    },
    "polyglot_notebook": {
     "kernelName": "fsharp"
    },
    "vscode": {
     "languageId": "polyglot-notebook"
    }
   },
   "outputs": [
    {
     "data": {
      "text/html": [
       "\n",
       "        <div id=\"82886a9b76684255b33a4161102faa2a\"></id>\n",
       "        <script>\n",
       "            var render_82886a9b76684255b33a4161102faa2a = function() {\n",
       "                const data = [[0,0,\"rgba(0, 128, 0, 0.99609375)\"],[0,1,\"rgba(0, 128, 0, 0.99609375)\"],[0,2,\"rgba(0, 128, 0, 0.99609375)\"],[0,5,\"rgba(0, 128, 0, 0.99609375)\"],[0,8,\"rgba(0, 128, 0, 0.99609375)\"],[0,10,\"rgba(0, 128, 0, 0.99609375)\"],[0,11,\"rgba(0, 128, 0, 0.99609375)\"],[0,12,\"rgba(0, 128, 0, 0.99609375)\"],[0,17,\"rgba(0, 128, 0, 0.99609375)\"],[0,18,\"rgba(0, 128, 0, 0.99609375)\"],[0,20,\"rgba(0, 128, 0, 0.99609375)\"],[0,21,\"rgba(0, 128, 0, 0.99609375)\"],[0,22,\"rgba(0, 128, 0, 0.99609375)\"],[0,25,\"rgba(0, 128, 0, 0.99609375)\"],[0,26,\"rgba(0, 128, 0, 0.99609375)\"],[0,27,\"rgba(0, 128, 0, 0.99609375)\"],[0,30,\"rgba(0, 128, 0, 0.99609375)\"],[0,36,\"rgba(0, 128, 0, 0.99609375)\"],[0,37,\"rgba(0, 128, 0, 0.99609375)\"],[1,0,\"rgba(0, 128, 0, 0.99609375)\"],[1,3,\"rgba(0, 128, 0, 0.99609375)\"],[1,5,\"rgba(0, 128, 0, 0.99609375)\"],[1,7,\"rgba(0, 128, 0, 0.99609375)\"],[1,10,\"rgba(0, 128, 0, 0.99609375)\"],[1,13,\"rgba(0, 128, 0, 0.99609375)\"],[1,18,\"rgba(0, 128, 0, 0.99609375)\"],[1,20,\"rgba(0, 128, 0, 0.99609375)\"],[1,23,\"rgba(0, 128, 0, 0.99609375)\"],[1,25,\"rgba(0, 128, 0, 0.99609375)\"],[1,28,\"rgba(0, 128, 0, 0.99609375)\"],[1,30,\"rgba(0, 128, 0, 0.99609375)\"],[1,35,\"rgba(0, 128, 0, 0.99609375)\"],[1,38,\"rgba(0, 128, 0, 0.99609375)\"],[2,0,\"rgba(0, 128, 0, 0.99609375)\"],[2,3,\"rgba(0, 128, 0, 0.99609375)\"],[2,5,\"rgba(0, 128, 0, 0.99609375)\"],[2,6,\"rgba(0, 128, 0, 0.99609375)\"],[2,10,\"rgba(0, 128, 0, 0.99609375)\"],[2,13,\"rgba(0, 128, 0, 0.99609375)\"],[2,18,\"rgba(0, 128, 0, 0.99609375)\"],[2,20,\"rgba(0, 128, 0, 0.99609375)\"],[2,21,\"rgba(0, 128, 0, 0.99609375)\"],[2,22,\"rgba(0, 128, 0, 0.99609375)\"],[2,25,\"rgba(0, 128, 0, 0.99609375)\"],[2,28,\"rgba(0, 128, 0, 0.99609375)\"],[2,30,\"rgba(0, 128, 0, 0.99609375)\"],[2,35,\"rgba(0, 128, 0, 0.99609375)\"],[2,38,\"rgba(0, 128, 0, 0.99609375)\"],[3,0,\"rgba(0, 128, 0, 0.99609375)\"],[3,1,\"rgba(0, 128, 0, 0.99609375)\"],[3,2,\"rgba(0, 128, 0, 0.99609375)\"],[3,5,\"rgba(0, 128, 0, 0.99609375)\"],[3,7,\"rgba(0, 128, 0, 0.99609375)\"],[3,10,\"rgba(0, 128, 0, 0.99609375)\"],[3,11,\"rgba(0, 128, 0, 0.99609375)\"],[3,12,\"rgba(0, 128, 0, 0.99609375)\"],[3,18,\"rgba(0, 128, 0, 0.99609375)\"],[3,20,\"rgba(0, 128, 0, 0.99609375)\"],[3,23,\"rgba(0, 128, 0, 0.99609375)\"],[3,25,\"rgba(0, 128, 0, 0.99609375)\"],[3,26,\"rgba(0, 128, 0, 0.99609375)\"],[3,27,\"rgba(0, 128, 0, 0.99609375)\"],[3,30,\"rgba(0, 128, 0, 0.99609375)\"],[3,35,\"rgba(0, 128, 0, 0.99609375)\"],[3,36,\"rgba(0, 128, 0, 0.99609375)\"],[3,37,\"rgba(0, 128, 0, 0.99609375)\"],[3,38,\"rgba(0, 128, 0, 0.99609375)\"],[4,0,\"rgba(0, 128, 0, 0.99609375)\"],[4,2,\"rgba(0, 128, 0, 0.99609375)\"],[4,5,\"rgba(0, 128, 0, 0.99609375)\"],[4,7,\"rgba(0, 128, 0, 0.99609375)\"],[4,10,\"rgba(0, 128, 0, 0.99609375)\"],[4,15,\"rgba(0, 128, 0, 0.99609375)\"],[4,18,\"rgba(0, 128, 0, 0.99609375)\"],[4,20,\"rgba(0, 128, 0, 0.99609375)\"],[4,23,\"rgba(0, 128, 0, 0.99609375)\"],[4,25,\"rgba(0, 128, 0, 0.99609375)\"],[4,30,\"rgba(0, 128, 0, 0.99609375)\"],[4,35,\"rgba(0, 128, 0, 0.99609375)\"],[4,38,\"rgba(0, 128, 0, 0.99609375)\"],[5,0,\"rgba(0, 128, 0, 0.99609375)\"],[5,3,\"rgba(0, 128, 0, 0.99609375)\"],[5,5,\"rgba(0, 128, 0, 0.99609375)\"],[5,8,\"rgba(0, 128, 0, 0.99609375)\"],[5,10,\"rgba(0, 128, 0, 0.99609375)\"],[5,16,\"rgba(0, 128, 0, 0.99609375)\"],[5,17,\"rgba(0, 128, 0, 0.99609375)\"],[5,20,\"rgba(0, 128, 0, 0.99609375)\"],[5,21,\"rgba(0, 128, 0, 0.99609375)\"],[5,22,\"rgba(0, 128, 0, 0.99609375)\"],[5,25,\"rgba(0, 128, 0, 0.99609375)\"],[5,30,\"rgba(0, 128, 0, 0.99609375)\"],[5,31,\"rgba(0, 128, 0, 0.99609375)\"],[5,32,\"rgba(0, 128, 0, 0.99609375)\"],[5,33,\"rgba(0, 128, 0, 0.99609375)\"],[5,35,\"rgba(0, 128, 0, 0.99609375)\"],[5,38,\"rgba(0, 128, 0, 0.99609375)\"]];\n",
       "                DrawMatrix.render('82886a9b76684255b33a4161102faa2a', data, {\n",
       "            width: 400,\n",
       "            height: 60,\n",
       "            size: 10\n",
       "        })\n",
       "            }\n",
       "        </script>\n",
       "        <script>\n",
       "            (function () {\n",
       "                if (typeof DrawMatrix === 'object') {\n",
       "                    return;\n",
       "                }\n",
       "\n",
       "                DrawMatrix = {\n",
       "                    render: function(containerId, data, settings) {\n",
       "                        let container = document.getElementById(containerId);\n",
       "                        container.innerHTML = \"\";\n",
       "                        let canvas = document.createElement(\"canvas\");\n",
       "                        container.appendChild(canvas);\n",
       "\n",
       "                        const size = settings.size;\n",
       "                        canvas.width = settings.width;\n",
       "                        canvas.height = settings.height;\n",
       "\n",
       "                        var ctx = canvas.getContext(\"2d\");\n",
       "                        ctx.clearRect(0, 0, canvas.width, canvas.height);\n",
       "\n",
       "                        for (point of data) {\n",
       "                            const [i, j, color] = point;\n",
       "                            ctx.fillStyle = color;\n",
       "                            ctx.fillRect(size * j, size * i, size, size);\n",
       "                        }\n",
       "                    }\n",
       "                }\n",
       "            })();\n",
       "        </script>\n",
       "        <script>\n",
       "            render_82886a9b76684255b33a4161102faa2a();\n",
       "        </script>\n",
       "\n",
       "    "
      ]
     },
     "metadata": {},
     "output_type": "display_data"
    }
   ],
   "source": [
    "\n",
    "open System.Drawing\n",
    "\n",
    "\n",
    "(actualCommands \n",
    "|> Array.fold Part2.execute Part2.State.Empty\n",
    ").Pixels\n",
    "|> toDisplayable (function | Part2.Dark -> Color.Transparent | Part2.Lit -> Color.Green)\n",
    "|> withSettings { Width = 400 }"
   ]
  }
 ],
 "metadata": {
  "kernelspec": {
   "display_name": ".NET (C#)",
   "language": "C#",
   "name": ".net-csharp"
  },
  "polyglot_notebook": {
   "kernelInfo": {
    "defaultKernelName": "csharp",
    "items": [
     {
      "aliases": [],
      "name": "csharp"
     }
    ]
   }
  }
 },
 "nbformat": 4,
 "nbformat_minor": 2
}
