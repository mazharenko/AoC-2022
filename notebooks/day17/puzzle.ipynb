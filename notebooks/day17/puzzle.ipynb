{
 "cells": [
  {
   "attachments": {},
   "cell_type": "markdown",
   "metadata": {
    "dotnet_interactive": {
     "language": "csharp"
    },
    "polyglot_notebook": {
     "kernelName": "csharp"
    }
   },
   "source": [
    "## Day 17: Pyroclastic Flow\n",
    "\n",
    "[![nbviewer](https://raw.githubusercontent.com/jupyter/design/master/logos/Badges/nbviewer_badge.svg)](https://nbviewer.org/github/mazharenko/AoC-2022/tree/HEAD/notebooks/day17/puzzle.ipynb)"
   ]
  },
  {
   "attachments": {},
   "cell_type": "markdown",
   "metadata": {
    "dotnet_interactive": {
     "language": "csharp"
    },
    "polyglot_notebook": {
     "kernelName": "csharp"
    }
   },
   "source": [
    "### Part 1"
   ]
  },
  {
   "cell_type": "code",
   "execution_count": 1,
   "metadata": {
    "dotnet_interactive": {
     "language": "fsharp"
    },
    "polyglot_notebook": {
     "kernelName": "fsharp"
    },
    "vscode": {
     "languageId": "polyglot-notebook"
    }
   },
   "outputs": [],
   "source": [
    "type JetsState = { Pattern: char array; Index: int }\n",
    "with member this.Next () = \n",
    "        { this with Index = (this.Index + 1) % this.Pattern.Length }\n",
    "     member this.Current = this.Pattern[this.Index]\n"
   ]
  },
  {
   "attachments": {},
   "cell_type": "markdown",
   "metadata": {
    "dotnet_interactive": {
     "language": "fsharp"
    },
    "polyglot_notebook": {
     "kernelName": "fsharp"
    }
   },
   "source": [
    "It might be reasonable to model figures and the chamber itself as binary masks, which promises to be easy to detect collisions of and to shift by jets."
   ]
  },
  {
   "cell_type": "code",
   "execution_count": 2,
   "metadata": {
    "dotnet_interactive": {
     "language": "fsharp"
    },
    "polyglot_notebook": {
     "kernelName": "fsharp"
    },
    "vscode": {
     "languageId": "polyglot-notebook"
    }
   },
   "outputs": [],
   "source": [
    "type Figure = uint8 list\n",
    "\n",
    "let inline (>>) figure shift = List.map (fun y -> y >>> shift) figure\n",
    "let inline (<<) figure shift = List.map (fun y -> y <<< shift) figure"
   ]
  },
  {
   "cell_type": "code",
   "execution_count": 3,
   "metadata": {
    "dotnet_interactive": {
     "language": "fsharp"
    },
    "polyglot_notebook": {
     "kernelName": "fsharp"
    },
    "vscode": {
     "languageId": "polyglot-notebook"
    }
   },
   "outputs": [],
   "source": [
    "let figures = [|\n",
    "    [ \n",
    "        0b0011110uy\n",
    "    ]\n",
    "    [\n",
    "        0b0001000uy\n",
    "        0b0011100uy\n",
    "        0b0001000uy\n",
    "    ]\n",
    "    [\n",
    "        0b0000100uy\n",
    "        0b0000100uy\n",
    "        0b0011100uy\n",
    "    ]\n",
    "    [\n",
    "        0b0010000uy\n",
    "        0b0010000uy\n",
    "        0b0010000uy\n",
    "        0b0010000uy\n",
    "    ]\n",
    "    [\n",
    "        0b0011000uy\n",
    "        0b0011000uy\n",
    "    ]\n",
    "|] \n",
    "\n",
    "\n",
    "type FiguresState = { Figures: Figure array; Index : int }\n",
    "with member this.Next() = \n",
    "        { this with Index = (this.Index + 1) % this.Figures.Length }\n",
    "     member this.Current = this.Figures[this.Index]"
   ]
  },
  {
   "cell_type": "code",
   "execution_count": 4,
   "metadata": {
    "dotnet_interactive": {
     "language": "fsharp"
    },
    "polyglot_notebook": {
     "kernelName": "fsharp"
    },
    "vscode": {
     "languageId": "polyglot-notebook"
    }
   },
   "outputs": [],
   "source": [
    "type FallingState = { Figure : Figure; Position: int }\n",
    "\n",
    "type State = { \n",
    "    RestedFiguresCount: int64\n",
    "    TowerHeight: int64\n",
    "    Rested: Figure; \n",
    "    Figures: FiguresState\n",
    "    Jets: JetsState;\n",
    "    Falling: FallingState\n",
    "}\n"
   ]
  },
  {
   "cell_type": "code",
   "execution_count": 5,
   "metadata": {
    "dotnet_interactive": {
     "language": "fsharp"
    },
    "polyglot_notebook": {
     "kernelName": "fsharp"
    },
    "vscode": {
     "languageId": "polyglot-notebook"
    }
   },
   "outputs": [],
   "source": [
    "#load \"../common/common.fsx\"\n",
    "\n",
    "let stateDefaultSample = \n",
    "    let jets = \">>><<><>><<<>><>>><<<>>><<<><<<>><>><<>>\" |> Seq.toArray\n",
    "    \n",
    "    {\n",
    "        Rested = [\n",
    "            0uy\n",
    "            0uy\n",
    "            0uy\n",
    "            0uy\n",
    "        ]\n",
    "        RestedFiguresCount = 0\n",
    "        TowerHeight = 0\n",
    "        Figures = { Figures = figures; Index = 0}\n",
    "        Jets = { Pattern = jets; Index = 0}\n",
    "        Falling = { Figure = figures[0]; Position = 0 }\n",
    "    }"
   ]
  },
  {
   "cell_type": "code",
   "execution_count": 6,
   "metadata": {
    "dotnet_interactive": {
     "language": "fsharp"
    },
    "polyglot_notebook": {
     "kernelName": "fsharp"
    },
    "vscode": {
     "languageId": "polyglot-notebook"
    }
   },
   "outputs": [],
   "source": [
    "let jet (state : State) = \n",
    "    let { Falling = falling } = state\n",
    "    let newFalling = \n",
    "        match state.Jets.Current with\n",
    "        | '>' -> \n",
    "            if (List.exists (fun x -> x &&& 0b0000001uy <> 0uy) falling.Figure)\n",
    "            then falling\n",
    "            else {falling with Figure = falling.Figure >> 1}\n",
    "        | '<' -> \n",
    "            if (List.exists (fun x -> x &&& 0b1000000uy <> 0uy) falling.Figure)\n",
    "            then falling\n",
    "            else {falling with Figure = falling.Figure << 1}\n",
    "    { state with Falling = newFalling }"
   ]
  },
  {
   "cell_type": "code",
   "execution_count": 7,
   "metadata": {
    "dotnet_interactive": {
     "language": "fsharp"
    },
    "polyglot_notebook": {
     "kernelName": "fsharp"
    },
    "vscode": {
     "languageId": "polyglot-notebook"
    }
   },
   "outputs": [],
   "source": [
    "let gravity (state : State) = \n",
    "    { state with Falling = { state.Falling with Position = state.Falling.Position + 1} }"
   ]
  },
  {
   "cell_type": "code",
   "execution_count": 8,
   "metadata": {
    "dotnet_interactive": {
     "language": "fsharp"
    },
    "polyglot_notebook": {
     "kernelName": "fsharp"
    },
    "vscode": {
     "languageId": "polyglot-notebook"
    }
   },
   "outputs": [],
   "source": [
    "let private revertIfCollision (state : State) (requestedState : State) = \n",
    "    let { Falling = { Figure = figure; Position = pos } } = requestedState\n",
    "    let figureHeight = List.length figure\n",
    "    if (List.length state.Rested - pos < figureHeight)\n",
    "    then state\n",
    "    else \n",
    "        let collision = \n",
    "            state.Rested |> List.skip pos |> List.take figureHeight\n",
    "            |> List.zip figure\n",
    "            |> List.map (fun (x,y) -> x &&& y)\n",
    "            |> List.exists ((<>)0uy)\n",
    "        if collision then state\n",
    "        else requestedState\n",
    "\n",
    "let checkCollision (f : State -> State) = \n",
    "    fun state ->\n",
    "        let newState = f state\n",
    "        revertIfCollision state newState"
   ]
  },
  {
   "cell_type": "code",
   "execution_count": 9,
   "metadata": {
    "dotnet_interactive": {
     "language": "fsharp"
    },
    "polyglot_notebook": {
     "kernelName": "fsharp"
    },
    "vscode": {
     "languageId": "polyglot-notebook"
    }
   },
   "outputs": [],
   "source": [
    "\n",
    "let fix state =\n",
    "    let { Falling = { Figure = figure; Position = pos } } = state\n",
    "    let figureHeight = List.length figure\n",
    "    let (before, rest1) = List.splitAt pos state.Rested\n",
    "    let (atFalling, rest) = List.splitAt figureHeight rest1\n",
    "\n",
    "    let newRested = \n",
    "        atFalling\n",
    "        |> List.zip figure\n",
    "        |> List.map (fun (x,y) -> x ||| y)\n",
    "\n",
    "    let heightIncrease = \n",
    "        atFalling |> List.filter ((=)0uy) |> List.length\n",
    "\n",
    "    {\n",
    "        state with Rested = before @ newRested @ rest; \n",
    "                TowerHeight = state.TowerHeight + int64 heightIncrease;\n",
    "                RestedFiguresCount = state.RestedFiguresCount + 1L; \n",
    "    }"
   ]
  },
  {
   "cell_type": "code",
   "execution_count": 10,
   "metadata": {
    "dotnet_interactive": {
     "language": "fsharp"
    },
    "polyglot_notebook": {
     "kernelName": "fsharp"
    },
    "vscode": {
     "languageId": "polyglot-notebook"
    }
   },
   "outputs": [],
   "source": [
    "let newFigure s = \n",
    "    let figures = s.Figures.Next();\n",
    "    \n",
    "    let newRested = \n",
    "        s.Rested\n",
    "        |> List.skipWhile ((=)0uy)\n",
    "        |> List.append (List.replicate (figures.Current.Length + 3) 0uy)\n",
    "    { s with Rested = newRested; Figures = figures; Falling = { Figure = figures.Current; Position = 0 }}"
   ]
  },
  {
   "cell_type": "code",
   "execution_count": 11,
   "metadata": {
    "dotnet_interactive": {
     "language": "fsharp"
    },
    "polyglot_notebook": {
     "kernelName": "fsharp"
    },
    "vscode": {
     "languageId": "polyglot-notebook"
    }
   },
   "outputs": [],
   "source": [
    "let nextState state = \n",
    "    let afterJet = state |> checkCollision jet\n",
    "    let afterGravity = afterJet |> checkCollision gravity\n",
    "    \n",
    "    if (afterJet.Falling = afterGravity.Falling) \n",
    "    then \n",
    "        { (afterJet |> fix |> newFigure) with Jets = state.Jets.Next(); }\n",
    "    else\n",
    "        { afterGravity with Jets = state.Jets.Next()}"
   ]
  },
  {
   "cell_type": "code",
   "execution_count": 12,
   "metadata": {
    "dotnet_interactive": {
     "language": "fsharp"
    },
    "polyglot_notebook": {
     "kernelName": "fsharp"
    },
    "vscode": {
     "languageId": "polyglot-notebook"
    }
   },
   "outputs": [],
   "source": [
    "let infiniteStates initial =\n",
    "    Seq.unfold (fun s -> let newS = nextState s in Some(newS, newS)) initial\n"
   ]
  },
  {
   "cell_type": "code",
   "execution_count": 127,
   "metadata": {
    "dotnet_interactive": {
     "language": "fsharp"
    },
    "polyglot_notebook": {
     "kernelName": "fsharp"
    },
    "vscode": {
     "languageId": "polyglot-notebook"
    }
   },
   "outputs": [
    {
     "data": {
      "text/html": [
       "<div class=\"dni-plaintext\"><pre>3068</pre></div><style>\r\n",
       ".dni-code-hint {\r\n",
       "    font-style: italic;\r\n",
       "    overflow: hidden;\r\n",
       "    white-space: nowrap;\r\n",
       "}\r\n",
       ".dni-treeview {\r\n",
       "    white-space: nowrap;\r\n",
       "}\r\n",
       ".dni-treeview td {\r\n",
       "    vertical-align: top;\r\n",
       "    text-align: start;\r\n",
       "}\r\n",
       "details.dni-treeview {\r\n",
       "    padding-left: 1em;\r\n",
       "}\r\n",
       "table td {\r\n",
       "    text-align: start;\r\n",
       "}\r\n",
       "table tr { \r\n",
       "    vertical-align: top; \r\n",
       "    margin: 0em 0px;\r\n",
       "}\r\n",
       "table tr td pre \r\n",
       "{ \r\n",
       "    vertical-align: top !important; \r\n",
       "    margin: 0em 0px !important;\r\n",
       "} \r\n",
       "table th {\r\n",
       "    text-align: start;\r\n",
       "}\r\n",
       "</style>"
      ]
     },
     "metadata": {},
     "output_type": "display_data"
    },
    {
     "data": {
      "text/plain": [
       "Wall time: 533.7298ms"
      ]
     },
     "metadata": {},
     "output_type": "display_data"
    }
   ],
   "source": [
    "#!time\n",
    "\n",
    "(infiniteStates stateDefaultSample\n",
    "|> Seq.find (fun s -> s.RestedFiguresCount = 2022L)\n",
    ").TowerHeight"
   ]
  },
  {
   "cell_type": "code",
   "execution_count": 14,
   "metadata": {
    "dotnet_interactive": {
     "language": "fsharp"
    },
    "polyglot_notebook": {
     "kernelName": "fsharp"
    },
    "vscode": {
     "languageId": "polyglot-notebook"
    }
   },
   "outputs": [],
   "source": [
    "#!value --name actualRaw --from-file ./data_actual.txt"
   ]
  },
  {
   "cell_type": "code",
   "execution_count": 15,
   "metadata": {
    "dotnet_interactive": {
     "language": "fsharp"
    },
    "polyglot_notebook": {
     "kernelName": "fsharp"
    },
    "vscode": {
     "languageId": "polyglot-notebook"
    }
   },
   "outputs": [],
   "source": [
    "#!share actualRaw --from value\n",
    "let stateDefaultActual = \n",
    "    let jets = actualRaw |> Seq.toArray\n",
    "    \n",
    "    {\n",
    "        Rested = [\n",
    "            0uy\n",
    "            0uy\n",
    "            0uy\n",
    "            0uy\n",
    "        ]\n",
    "        RestedFiguresCount = 0\n",
    "        TowerHeight = 0\n",
    "        Figures = { Figures = figures; Index = 0}\n",
    "        Jets = { Pattern = jets; Index = 0}\n",
    "        Falling = { Figure = figures[0]; Position = 0 }\n",
    "    }"
   ]
  },
  {
   "cell_type": "code",
   "execution_count": 126,
   "metadata": {
    "dotnet_interactive": {
     "language": "fsharp"
    },
    "polyglot_notebook": {
     "kernelName": "fsharp"
    },
    "vscode": {
     "languageId": "polyglot-notebook"
    }
   },
   "outputs": [
    {
     "data": {
      "text/html": [
       "<div class=\"dni-plaintext\"><pre>3130</pre></div><style>\r\n",
       ".dni-code-hint {\r\n",
       "    font-style: italic;\r\n",
       "    overflow: hidden;\r\n",
       "    white-space: nowrap;\r\n",
       "}\r\n",
       ".dni-treeview {\r\n",
       "    white-space: nowrap;\r\n",
       "}\r\n",
       ".dni-treeview td {\r\n",
       "    vertical-align: top;\r\n",
       "    text-align: start;\r\n",
       "}\r\n",
       "details.dni-treeview {\r\n",
       "    padding-left: 1em;\r\n",
       "}\r\n",
       "table td {\r\n",
       "    text-align: start;\r\n",
       "}\r\n",
       "table tr { \r\n",
       "    vertical-align: top; \r\n",
       "    margin: 0em 0px;\r\n",
       "}\r\n",
       "table tr td pre \r\n",
       "{ \r\n",
       "    vertical-align: top !important; \r\n",
       "    margin: 0em 0px !important;\r\n",
       "} \r\n",
       "table th {\r\n",
       "    text-align: start;\r\n",
       "}\r\n",
       "</style>"
      ]
     },
     "metadata": {},
     "output_type": "display_data"
    },
    {
     "data": {
      "text/plain": [
       "Wall time: 868.3351ms"
      ]
     },
     "metadata": {},
     "output_type": "display_data"
    }
   ],
   "source": [
    "#!time\n",
    "(infiniteStates stateDefaultActual\n",
    "|> Seq.find (fun s -> s.RestedFiguresCount = 2022L)\n",
    ").TowerHeight"
   ]
  },
  {
   "attachments": {},
   "cell_type": "markdown",
   "metadata": {
    "dotnet_interactive": {
     "language": "fsharp"
    },
    "polyglot_notebook": {
     "kernelName": "fsharp"
    }
   },
   "source": [
    "### Part 2\n",
    "\n",
    "For Part 2 the straightforward algorithm is going to take a while. On the other hand, the process promises to be periodic, and we can try to identify the period. In other words, how many figures should fall to get back to the same input state:\n",
    "1. Jets state\n",
    "2. Figures state\n",
    "3. Rested figures pattern\n",
    "\n",
    "For the latter we can consider some reasonable number of top lines, say, 50."
   ]
  },
  {
   "cell_type": "code",
   "execution_count": 99,
   "metadata": {
    "dotnet_interactive": {
     "language": "fsharp"
    },
    "polyglot_notebook": {
     "kernelName": "fsharp"
    },
    "vscode": {
     "languageId": "polyglot-notebook"
    }
   },
   "outputs": [],
   "source": [
    "type RepetitionState = { Rested: Figure; JetsIndex: int; FiguresIndex: int}\n",
    "\n",
    "let private repetitionsState (state : State) = \n",
    "    { Rested = state.Rested |> List.truncate 50; JetsIndex = state.Jets.Index; FiguresIndex = state.Figures.Index }\n",
    "\n",
    "type Repetition = { Start: int; StartState: State; Period: int; NextState: State}\n",
    "\n",
    "open System.Collections.Generic\n",
    "let findRepetition (states: seq<State>) = \n",
    "    let cache = Dictionary<_, _>()\n",
    "    states\n",
    "    |> Seq.distinctBy (fun s -> s.RestedFiguresCount)\n",
    "    |> Seq.choose (fun state -> \n",
    "        let key = repetitionsState state\n",
    "        match cache.TryGetValue(key) with\n",
    "        | false, _ -> \n",
    "            cache.Add(key, state)\n",
    "            None\n",
    "        | true, value -> \n",
    "            Some { Start = int value.RestedFiguresCount; StartState = value; Period = int state.RestedFiguresCount - int value.RestedFiguresCount; NextState = state }\n",
    "    ) |> Seq.head\n"
   ]
  },
  {
   "cell_type": "code",
   "execution_count": 100,
   "metadata": {
    "dotnet_interactive": {
     "language": "fsharp"
    },
    "polyglot_notebook": {
     "kernelName": "fsharp"
    },
    "vscode": {
     "languageId": "polyglot-notebook"
    }
   },
   "outputs": [
    {
     "data": {
      "text/html": [
       "<table><thead><tr><th>Start</th><th>StartState</th><th>Period</th><th>NextState</th></tr></thead><tbody><tr><td><div class=\"dni-plaintext\"><pre>42</pre></div></td><td><div class=\"dni-plaintext\"><pre>State\n",
       "        RestedFiguresCount: 42\n",
       "        TowerHeight: 69\n",
       "        Rested: [ 0, 0, 0, 0, 0, 0, 32, 112, 62, 56, 56, 40, 42, 63, 62, 4, 4, 4, 4, 52 ... (more) ]\n",
       "        Figures: FiguresState\n",
       "            Figures: FSharpList&lt;Byte&gt;[]\n",
       "[ 30 ]\n",
       "[ 8, 28, 8 ]\n",
       "[ 4, 4, 28 ]\n",
       "[ 16, 16, 16, 16 ]\n",
       "[ 24, 24 ]\n",
       "            Index: 2\n",
       "            Current: [ 4, 4, 28 ]\n",
       "        Jets: JetsState\n",
       "            Pattern: [ &gt;, &gt;, &gt;, &lt;, &lt;, &gt;, &lt;, &gt;, &gt;, &lt;, &lt;, &lt;, &gt;, &gt;, &lt;, &gt;, &gt;, &gt;, &lt;, &lt; ... (20 more) ]\n",
       "            Index: 30\n",
       "            Current: &lt;\n",
       "        Falling: FallingState\n",
       "            Figure: [ 4, 4, 28 ]\n",
       "            Position: 0</pre></div></td><td><div class=\"dni-plaintext\"><pre>35</pre></div></td><td><div class=\"dni-plaintext\"><pre>State\n",
       "        RestedFiguresCount: 77\n",
       "        TowerHeight: 122\n",
       "        Rested: [ 0, 0, 0, 0, 0, 0, 32, 112, 62, 56, 56, 40, 42, 63, 62, 4, 4, 4, 4, 52 ... (more) ]\n",
       "        Figures: FiguresState\n",
       "            Figures: FSharpList&lt;Byte&gt;[]\n",
       "[ 30 ]\n",
       "[ 8, 28, 8 ]\n",
       "[ 4, 4, 28 ]\n",
       "[ 16, 16, 16, 16 ]\n",
       "[ 24, 24 ]\n",
       "            Index: 2\n",
       "            Current: [ 4, 4, 28 ]\n",
       "        Jets: JetsState\n",
       "            Pattern: [ &gt;, &gt;, &gt;, &lt;, &lt;, &gt;, &lt;, &gt;, &gt;, &lt;, &lt;, &lt;, &gt;, &gt;, &lt;, &gt;, &gt;, &gt;, &lt;, &lt; ... (20 more) ]\n",
       "            Index: 30\n",
       "            Current: &lt;\n",
       "        Falling: FallingState\n",
       "            Figure: [ 4, 4, 28 ]\n",
       "            Position: 0</pre></div></td></tr></tbody></table>"
      ]
     },
     "metadata": {},
     "output_type": "display_data"
    }
   ],
   "source": [
    "infiniteStates stateDefaultSample\n",
    "|> findRepetition"
   ]
  },
  {
   "cell_type": "code",
   "execution_count": 101,
   "metadata": {
    "dotnet_interactive": {
     "language": "fsharp"
    },
    "polyglot_notebook": {
     "kernelName": "fsharp"
    },
    "vscode": {
     "languageId": "polyglot-notebook"
    }
   },
   "outputs": [
    {
     "data": {
      "text/html": [
       "<table><thead><tr><th>Start</th><th>StartState</th><th>Period</th><th>NextState</th></tr></thead><tbody><tr><td><div class=\"dni-plaintext\"><pre>417</pre></div></td><td><div class=\"dni-plaintext\"><pre>State\n",
       "        RestedFiguresCount: 417\n",
       "        TowerHeight: 648\n",
       "        Rested: [ 0, 0, 0, 0, 0, 0, 32, 112, 32, 120, 8, 8, 24, 24, 120, 28, 8, 60, 100, 100 ... (more) ]\n",
       "        Figures: FiguresState\n",
       "            Figures: FSharpList&lt;Byte&gt;[]\n",
       "[ 30 ]\n",
       "[ 8, 28, 8 ]\n",
       "[ 4, 4, 28 ]\n",
       "[ 16, 16, 16, 16 ]\n",
       "[ 24, 24 ]\n",
       "            Index: 2\n",
       "            Current: [ 4, 4, 28 ]\n",
       "        Jets: JetsState\n",
       "            Pattern: [ &gt;, &gt;, &lt;, &lt;, &lt;, &gt;, &gt;, &gt;, &gt;, &lt;, &lt;, &lt;, &gt;, &gt;, &lt;, &gt;, &gt;, &gt;, &gt;, &lt; ... (10071 more) ]\n",
       "            Index: 2533\n",
       "            Current: &lt;\n",
       "        Falling: FallingState\n",
       "            Figure: [ 4, 4, 28 ]\n",
       "            Position: 0</pre></div></td><td><div class=\"dni-plaintext\"><pre>1725</pre></div></td><td><div class=\"dni-plaintext\"><pre>State\n",
       "        RestedFiguresCount: 2142\n",
       "        TowerHeight: 3333\n",
       "        Rested: [ 0, 0, 0, 0, 0, 0, 32, 112, 32, 120, 8, 8, 24, 24, 120, 28, 8, 60, 100, 100 ... (more) ]\n",
       "        Figures: FiguresState\n",
       "            Figures: FSharpList&lt;Byte&gt;[]\n",
       "[ 30 ]\n",
       "[ 8, 28, 8 ]\n",
       "[ 4, 4, 28 ]\n",
       "[ 16, 16, 16, 16 ]\n",
       "[ 24, 24 ]\n",
       "            Index: 2\n",
       "            Current: [ 4, 4, 28 ]\n",
       "        Jets: JetsState\n",
       "            Pattern: [ &gt;, &gt;, &lt;, &lt;, &lt;, &gt;, &gt;, &gt;, &gt;, &lt;, &lt;, &lt;, &gt;, &gt;, &lt;, &gt;, &gt;, &gt;, &gt;, &lt; ... (10071 more) ]\n",
       "            Index: 2533\n",
       "            Current: &lt;\n",
       "        Falling: FallingState\n",
       "            Figure: [ 4, 4, 28 ]\n",
       "            Position: 0</pre></div></td></tr></tbody></table>"
      ]
     },
     "metadata": {},
     "output_type": "display_data"
    }
   ],
   "source": [
    "infiniteStates stateDefaultActual\n",
    "|> findRepetition"
   ]
  },
  {
   "cell_type": "code",
   "execution_count": 120,
   "metadata": {
    "dotnet_interactive": {
     "language": "fsharp"
    },
    "polyglot_notebook": {
     "kernelName": "fsharp"
    },
    "vscode": {
     "languageId": "polyglot-notebook"
    }
   },
   "outputs": [],
   "source": [
    "let stateAt initState repetitionState restedFiguresCount = \n",
    "    if (restedFiguresCount <= repetitionState.NextState.RestedFiguresCount)\n",
    "    then \n",
    "        infiniteStates initState\n",
    "        |> Seq.find (fun p -> p.RestedFiguresCount = restedFiguresCount)\n",
    "    else \n",
    "        let heightInPeriod = repetitionState.NextState.TowerHeight - repetitionState.StartState.TowerHeight\n",
    "        let periods = (restedFiguresCount - repetitionState.StartState.RestedFiguresCount) / (int64 repetitionState.Period)\n",
    "        let s = {\n",
    "            repetitionState.StartState with \n",
    "                RestedFiguresCount = periods * (int64 repetitionState.Period) + repetitionState.StartState.RestedFiguresCount\n",
    "                TowerHeight = periods * heightInPeriod + repetitionState.StartState.TowerHeight\n",
    "        }\n",
    "        infiniteStates s\n",
    "        |> Seq.find (fun p -> p.RestedFiguresCount = restedFiguresCount)"
   ]
  },
  {
   "cell_type": "code",
   "execution_count": 121,
   "metadata": {
    "dotnet_interactive": {
     "language": "fsharp"
    },
    "polyglot_notebook": {
     "kernelName": "fsharp"
    },
    "vscode": {
     "languageId": "polyglot-notebook"
    }
   },
   "outputs": [
    {
     "data": {
      "text/html": [
       "<table><thead><tr><th>RestedFiguresCount</th><th>TowerHeight</th><th>Rested</th><th>Figures</th><th>Jets</th><th>Falling</th></tr></thead><tbody><tr><td><div class=\"dni-plaintext\"><pre>1000000000000</pre></div></td><td><div class=\"dni-plaintext\"><pre>1514285714288</pre></div></td><td><div class=\"dni-plaintext\"><pre>[ 0, 0, 0, 0, 28, 28, 30, 7, 2, 62, 36, 36, 61, 61, 119, 62, 56, 56, 40, 42 ... (more) ]</pre></div></td><td><div class=\"dni-plaintext\"><pre>FiguresState\n",
       "        Figures: FSharpList&lt;Byte&gt;[]\n",
       "[ 30 ]\n",
       "[ 8, 28, 8 ]\n",
       "[ 4, 4, 28 ]\n",
       "[ 16, 16, 16, 16 ]\n",
       "[ 24, 24 ]\n",
       "        Index: 0\n",
       "        Current: [ 30 ]</pre></div></td><td><div class=\"dni-plaintext\"><pre>JetsState\n",
       "        Pattern: [ &gt;, &gt;, &gt;, &lt;, &lt;, &gt;, &lt;, &gt;, &gt;, &lt;, &lt;, &lt;, &gt;, &gt;, &lt;, &gt;, &gt;, &gt;, &lt;, &lt; ... (20 more) ]\n",
       "        Index: 2\n",
       "        Current: &gt;</pre></div></td><td><div class=\"dni-plaintext\"><pre>FallingState\n",
       "        Figure: [ 30 ]\n",
       "        Position: 0</pre></div></td></tr></tbody></table>"
      ]
     },
     "metadata": {},
     "output_type": "display_data"
    },
    {
     "data": {
      "text/plain": [
       "Wall time: 28.0351ms"
      ]
     },
     "metadata": {},
     "output_type": "display_data"
    }
   ],
   "source": [
    "#!time\n",
    "stateAt stateDefaultSample (infiniteStates stateDefaultSample |> findRepetition) 1000000000000L"
   ]
  },
  {
   "cell_type": "code",
   "execution_count": 125,
   "metadata": {
    "dotnet_interactive": {
     "language": "fsharp"
    },
    "polyglot_notebook": {
     "kernelName": "fsharp"
    },
    "vscode": {
     "languageId": "polyglot-notebook"
    }
   },
   "outputs": [
    {
     "data": {
      "text/html": [
       "<table><thead><tr><th>RestedFiguresCount</th><th>TowerHeight</th><th>Rested</th><th>Figures</th><th>Jets</th><th>Falling</th></tr></thead><tbody><tr><td><div class=\"dni-plaintext\"><pre>1000000000000</pre></div></td><td><div class=\"dni-plaintext\"><pre>1556521739139</pre></div></td><td><div class=\"dni-plaintext\"><pre>[ 0, 0, 0, 0, 24, 24, 16, 16, 20, 20, 28, 16, 56, 16, 30, 4, 100, 102, 38, 126 ... (more) ]</pre></div></td><td><div class=\"dni-plaintext\"><pre>FiguresState\n",
       "        Figures: FSharpList&lt;Byte&gt;[]\n",
       "[ 30 ]\n",
       "[ 8, 28, 8 ]\n",
       "[ 4, 4, 28 ]\n",
       "[ 16, 16, 16, 16 ]\n",
       "[ 24, 24 ]\n",
       "        Index: 0\n",
       "        Current: [ 30 ]</pre></div></td><td><div class=\"dni-plaintext\"><pre>JetsState\n",
       "        Pattern: [ &gt;, &gt;, &lt;, &lt;, &lt;, &gt;, &gt;, &gt;, &gt;, &lt;, &lt;, &lt;, &gt;, &gt;, &lt;, &gt;, &gt;, &gt;, &gt;, &lt; ... (10071 more) ]\n",
       "        Index: 9394\n",
       "        Current: &gt;</pre></div></td><td><div class=\"dni-plaintext\"><pre>FallingState\n",
       "        Figure: [ 30 ]\n",
       "        Position: 0</pre></div></td></tr></tbody></table>"
      ]
     },
     "metadata": {},
     "output_type": "display_data"
    },
    {
     "data": {
      "text/plain": [
       "Wall time: 907.9573ms"
      ]
     },
     "metadata": {},
     "output_type": "display_data"
    }
   ],
   "source": [
    "#!time\n",
    "stateAt stateDefaultActual (infiniteStates stateDefaultActual |> findRepetition) 1000000000000L"
   ]
  }
 ],
 "metadata": {
  "kernelspec": {
   "display_name": ".NET (C#)",
   "language": "C#",
   "name": ".net-csharp"
  },
  "polyglot_notebook": {
   "kernelInfo": {
    "defaultKernelName": "csharp",
    "items": [
     {
      "aliases": [],
      "name": "csharp"
     }
    ]
   }
  }
 },
 "nbformat": 4,
 "nbformat_minor": 2
}
