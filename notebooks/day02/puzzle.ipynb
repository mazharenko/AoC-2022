{
 "cells": [
  {
   "cell_type": "markdown",
   "metadata": {
    "dotnet_interactive": {
     "language": "csharp"
    }
   },
   "source": [
    "## Day 2: Rock Paper Scissors\n",
    "\n",
    "[![nbviewer](https://raw.githubusercontent.com/jupyter/design/master/logos/Badges/nbviewer_badge.svg)](https://nbviewer.org/github/mazharenko/AoC-2022/tree/HEAD/notebooks/day02/puzzle.ipynb)"
   ]
  },
  {
   "cell_type": "markdown",
   "metadata": {},
   "source": [
    "Both parts share the same rules of how the score should be calculated. Thus, both parts can share the same domain model and some functions"
   ]
  },
  {
   "cell_type": "code",
   "execution_count": 41,
   "metadata": {
    "dotnet_interactive": {
     "language": "fsharp"
    },
    "vscode": {
     "languageId": "dotnet-interactive.fsharp"
    }
   },
   "outputs": [],
   "source": [
    "type Shape = | Rock | Paper | Scissors\n",
    "type Outcome = | Won | Lost | Draw\n",
    "type RoundResult = { Opponent: Shape; Me: Shape; Outcome: Outcome}\n",
    "\n",
    "let shapeScore shape = \n",
    "    match shape with\n",
    "    | Rock -> 1\n",
    "    | Paper -> 2\n",
    "    | Scissors -> 3\n",
    "let outcomeScore outcome = \n",
    "    match outcome with\n",
    "    | Lost -> 0\n",
    "    | Draw -> 3\n",
    "    | Won -> 6\n",
    "\n",
    "let calculateScore (results : RoundResult list) = \n",
    "    results\n",
    "    |> Seq.map (fun {Me = meShape; Outcome = outcome} -> shapeScore meShape + outcomeScore outcome)\n",
    "    |> Seq.sum\n"
   ]
  },
  {
   "cell_type": "markdown",
   "metadata": {
    "dotnet_interactive": {
     "language": "fsharp"
    }
   },
   "source": [
    "The parts will differ in how `RoundResults` are generated and what the game algorithm input is."
   ]
  },
  {
   "cell_type": "code",
   "execution_count": 42,
   "metadata": {
    "dotnet_interactive": {
     "language": "fsharp"
    },
    "vscode": {
     "languageId": "dotnet-interactive.fsharp"
    }
   },
   "outputs": [],
   "source": [
    "#!value --name sampleRaw\n",
    "\n",
    "A Y\n",
    "B X\n",
    "C Z"
   ]
  },
  {
   "cell_type": "code",
   "execution_count": 43,
   "metadata": {
    "dotnet_interactive": {
     "language": "fsharp"
    },
    "vscode": {
     "languageId": "dotnet-interactive.fsharp"
    }
   },
   "outputs": [],
   "source": [
    "#!value --name actualRaw --from-file ./data_actual.txt"
   ]
  },
  {
   "cell_type": "markdown",
   "metadata": {},
   "source": [
    "### Part 1"
   ]
  },
  {
   "cell_type": "code",
   "execution_count": 44,
   "metadata": {
    "dotnet_interactive": {
     "language": "fsharp"
    },
    "vscode": {
     "languageId": "dotnet-interactive.fsharp"
    }
   },
   "outputs": [
    {
     "data": {
      "text/html": [
       "<div><div></div><div></div><div><strong>Installed Packages</strong><ul><li><span>Farkle, 6.3.2</span></li></ul></div></div>"
      ]
     },
     "metadata": {},
     "output_type": "display_data"
    },
    {
     "data": {
      "text/html": [
       "<table><thead><tr><th><i>index</i></th><th>Opponent</th><th>Me</th></tr></thead><tbody><tr><td>0</td><td><div class=\"dni-plaintext\">Rock</div></td><td><div class=\"dni-plaintext\">Paper</div></td></tr><tr><td>1</td><td><div class=\"dni-plaintext\">Paper</div></td><td><div class=\"dni-plaintext\">Rock</div></td></tr><tr><td>2</td><td><div class=\"dni-plaintext\">Scissors</div></td><td><div class=\"dni-plaintext\">Scissors</div></td></tr></tbody></table>"
      ]
     },
     "metadata": {},
     "output_type": "display_data"
    }
   ],
   "source": [
    "#r \"nuget:Farkle, 6.3.2\"\n",
    "open Farkle\n",
    "open Farkle.Builder\n",
    "open Farkle.Builder.Regex\n",
    "\n",
    "#load \"../common/common.fsx\"\n",
    "#!share sampleRaw --from value\n",
    "#!share actualRaw --from value\n",
    "\n",
    "module Part1 = \n",
    "    type RoundStrategy = { Opponent: Shape; Me: Shape }\n",
    "    type Strategy = RoundStrategy array\n",
    "\n",
    "    let private opponent = \"Opponent\" ||= [\n",
    "        !& \"A\" => fun () -> Rock\n",
    "        !& \"B\" => fun () -> Paper\n",
    "        !& \"C\" => fun () -> Scissors\n",
    "    ]\n",
    "    let private me = \"Me\" ||= [\n",
    "        !& \"X\" => fun () -> Rock\n",
    "        !& \"Y\" => fun () -> Paper\n",
    "        !& \"Z\" => fun () -> Scissors\n",
    "    ]\n",
    "    let private roundStrategy = \"RoundStrategy\" ||= [\n",
    "        !@ opponent .>>. me => fun opponent' me' -> {Opponent = opponent'; Me = me'}\n",
    "    ]\n",
    "    let private parser = roundStrategy |> RuntimeFarkle.build |> RuntimeFarkle.parseString\n",
    "\n",
    "    let private parseRound s = \n",
    "        parser s |> Result.get\n",
    "    let sampleStrategy = Pattern1.read parseRound sampleRaw |> List.ofArray\n",
    "    let actualStrategy = Pattern1.read parseRound actualRaw |> List.ofArray\n",
    "\n",
    "Part1.sampleStrategy"
   ]
  },
  {
   "cell_type": "code",
   "execution_count": 45,
   "metadata": {
    "dotnet_interactive": {
     "language": "fsharp"
    },
    "vscode": {
     "languageId": "dotnet-interactive.fsharp"
    }
   },
   "outputs": [],
   "source": [
    "module Part1 = \n",
    "\n",
    "    let private buildResult ({Opponent = opponentShape; Me = meShape} : Part1.RoundStrategy) outcome =\n",
    "        { Opponent = opponentShape; Me = meShape; Outcome = outcome }\n",
    "\n",
    "    let playRound (roundStrategy : Part1.RoundStrategy) : RoundResult = \n",
    "        let outcome =\n",
    "            match roundStrategy with\n",
    "            | { Opponent = Rock; Me = Rock } -> Draw\n",
    "            | { Opponent = Rock; Me = Paper } -> Won\n",
    "            | { Opponent = Rock; Me = Scissors } -> Lost\n",
    "            | { Opponent = Paper; Me = Rock } -> Lost\n",
    "            | { Opponent = Paper; Me = Paper } -> Draw\n",
    "            | { Opponent = Paper; Me = Scissors } -> Won\n",
    "            | { Opponent = Scissors; Me = Rock } -> Won\n",
    "            | { Opponent = Scissors; Me = Paper } -> Lost\n",
    "            | { Opponent = Scissors; Me = Scissors } -> Draw\n",
    "        buildResult roundStrategy outcome\n",
    "        \n",
    "\n",
    "    let rec game (strategy : Part1.RoundStrategy list) : RoundResult list = \n",
    "        match strategy with \n",
    "        | [] -> []\n",
    "        | roundStrategy::rest -> \n",
    "            (playRound roundStrategy)::(game rest)"
   ]
  },
  {
   "cell_type": "code",
   "execution_count": 46,
   "metadata": {
    "dotnet_interactive": {
     "language": "fsharp"
    },
    "vscode": {
     "languageId": "dotnet-interactive.fsharp"
    }
   },
   "outputs": [
    {
     "data": {
      "text/html": [
       "<table><thead><tr><th><i>index</i></th><th>Opponent</th><th>Me</th><th>Outcome</th></tr></thead><tbody><tr><td>0</td><td><div class=\"dni-plaintext\">Rock</div></td><td><div class=\"dni-plaintext\">Paper</div></td><td><div class=\"dni-plaintext\">Won</div></td></tr><tr><td>1</td><td><div class=\"dni-plaintext\">Paper</div></td><td><div class=\"dni-plaintext\">Rock</div></td><td><div class=\"dni-plaintext\">Lost</div></td></tr><tr><td>2</td><td><div class=\"dni-plaintext\">Scissors</div></td><td><div class=\"dni-plaintext\">Scissors</div></td><td><div class=\"dni-plaintext\">Draw</div></td></tr></tbody></table>"
      ]
     },
     "metadata": {},
     "output_type": "display_data"
    }
   ],
   "source": [
    "let part1SampleResults = Part1.game Part1.sampleStrategy\n",
    "part1SampleResults"
   ]
  },
  {
   "cell_type": "code",
   "execution_count": 47,
   "metadata": {
    "dotnet_interactive": {
     "language": "fsharp"
    },
    "vscode": {
     "languageId": "dotnet-interactive.fsharp"
    }
   },
   "outputs": [
    {
     "data": {
      "text/html": [
       "<div class=\"dni-plaintext\">15</div>"
      ]
     },
     "metadata": {},
     "output_type": "display_data"
    }
   ],
   "source": [
    "calculateScore part1SampleResults"
   ]
  },
  {
   "cell_type": "markdown",
   "metadata": {},
   "source": [
    "For the actual input:"
   ]
  },
  {
   "cell_type": "code",
   "execution_count": 48,
   "metadata": {
    "dotnet_interactive": {
     "language": "fsharp"
    },
    "vscode": {
     "languageId": "dotnet-interactive.fsharp"
    }
   },
   "outputs": [
    {
     "data": {
      "text/html": [
       "<div class=\"dni-plaintext\">12535</div>"
      ]
     },
     "metadata": {},
     "output_type": "display_data"
    }
   ],
   "source": [
    "Part1.actualStrategy\n",
    "|> Part1.game \n",
    "|> calculateScore"
   ]
  },
  {
   "cell_type": "markdown",
   "metadata": {},
   "source": [
    "### Part 2"
   ]
  },
  {
   "cell_type": "code",
   "execution_count": 49,
   "metadata": {
    "dotnet_interactive": {
     "language": "fsharp"
    },
    "vscode": {
     "languageId": "dotnet-interactive.fsharp"
    }
   },
   "outputs": [
    {
     "data": {
      "text/html": [
       "<table><thead><tr><th><i>index</i></th><th>Opponent</th><th>TargetOutcome</th></tr></thead><tbody><tr><td>0</td><td><div class=\"dni-plaintext\">Rock</div></td><td><div class=\"dni-plaintext\">Draw</div></td></tr><tr><td>1</td><td><div class=\"dni-plaintext\">Paper</div></td><td><div class=\"dni-plaintext\">Lost</div></td></tr><tr><td>2</td><td><div class=\"dni-plaintext\">Scissors</div></td><td><div class=\"dni-plaintext\">Won</div></td></tr></tbody></table>"
      ]
     },
     "metadata": {},
     "output_type": "display_data"
    }
   ],
   "source": [
    "module Part2 = \n",
    "    type RoundStrategy = { Opponent: Shape; TargetOutcome: Outcome }\n",
    "    type Strategy = RoundStrategy array\n",
    "    let private opponent = \"Opponent\" ||= [\n",
    "        !& \"A\" => fun () -> Rock\n",
    "        !& \"B\" => fun () -> Paper\n",
    "        !& \"C\" => fun () -> Scissors\n",
    "    ]\n",
    "    let private outcome = \"Outcome\" ||= [\n",
    "        !& \"X\" => fun () -> Lost\n",
    "        !& \"Y\" => fun () -> Draw\n",
    "        !& \"Z\" => fun () -> Won\n",
    "    ]\n",
    "    let private roundStrategy = \"RoundStrategy\" ||= [\n",
    "        !@ opponent .>>. outcome => fun opponent' outcome' -> {Opponent = opponent'; TargetOutcome = outcome'}\n",
    "    ]\n",
    "    let private parser = roundStrategy |> RuntimeFarkle.build |> RuntimeFarkle.parseString\n",
    "\n",
    "    let private parseRound s = \n",
    "        parser s |> Result.get\n",
    "    let sampleStrategy = Pattern1.read parseRound sampleRaw |> List.ofArray\n",
    "    let actualStrategy = Pattern1.read parseRound actualRaw |> List.ofArray\n",
    "\n",
    "Part2.sampleStrategy"
   ]
  },
  {
   "cell_type": "code",
   "execution_count": 50,
   "metadata": {
    "dotnet_interactive": {
     "language": "fsharp"
    },
    "vscode": {
     "languageId": "dotnet-interactive.fsharp"
    }
   },
   "outputs": [],
   "source": [
    "module Part2 = \n",
    "\n",
    "    let private buildResult ({Opponent = opponentShape; TargetOutcome = outcome} : Part2.RoundStrategy) meShape =\n",
    "        { Opponent = opponentShape; Me = meShape; Outcome = outcome }\n",
    "\n",
    "    let playRound (roundStrategy : Part2.RoundStrategy) : RoundResult = \n",
    "        let meShape =\n",
    "            match roundStrategy with\n",
    "            | { Opponent = Rock; TargetOutcome = Lost } -> Scissors\n",
    "            | { Opponent = Rock; TargetOutcome = Draw } -> Rock\n",
    "            | { Opponent = Rock; TargetOutcome = Won } -> Paper\n",
    "            | { Opponent = Paper; TargetOutcome = Lost } -> Rock\n",
    "            | { Opponent = Paper; TargetOutcome = Draw } -> Paper\n",
    "            | { Opponent = Paper; TargetOutcome = Won } -> Scissors\n",
    "            | { Opponent = Scissors; TargetOutcome = Lost } -> Paper\n",
    "            | { Opponent = Scissors; TargetOutcome = Draw } -> Scissors\n",
    "            | { Opponent = Scissors; TargetOutcome = Won } -> Rock\n",
    "        buildResult roundStrategy meShape\n",
    "        \n",
    "\n",
    "    let rec game (strategy : Part2.RoundStrategy list) : RoundResult list = \n",
    "        match strategy with \n",
    "        | [] -> []\n",
    "        | roundStrategy::rest -> \n",
    "            (playRound roundStrategy)::(game rest)"
   ]
  },
  {
   "cell_type": "code",
   "execution_count": 51,
   "metadata": {
    "dotnet_interactive": {
     "language": "fsharp"
    },
    "vscode": {
     "languageId": "dotnet-interactive.fsharp"
    }
   },
   "outputs": [
    {
     "data": {
      "text/html": [
       "<table><thead><tr><th><i>index</i></th><th>Opponent</th><th>Me</th><th>Outcome</th></tr></thead><tbody><tr><td>0</td><td><div class=\"dni-plaintext\">Rock</div></td><td><div class=\"dni-plaintext\">Rock</div></td><td><div class=\"dni-plaintext\">Draw</div></td></tr><tr><td>1</td><td><div class=\"dni-plaintext\">Paper</div></td><td><div class=\"dni-plaintext\">Rock</div></td><td><div class=\"dni-plaintext\">Lost</div></td></tr><tr><td>2</td><td><div class=\"dni-plaintext\">Scissors</div></td><td><div class=\"dni-plaintext\">Rock</div></td><td><div class=\"dni-plaintext\">Won</div></td></tr></tbody></table>"
      ]
     },
     "metadata": {},
     "output_type": "display_data"
    }
   ],
   "source": [
    "let part2SampleResults = Part2.game Part2.sampleStrategy\n",
    "part2SampleResults"
   ]
  },
  {
   "cell_type": "code",
   "execution_count": 52,
   "metadata": {
    "dotnet_interactive": {
     "language": "fsharp"
    },
    "vscode": {
     "languageId": "dotnet-interactive.fsharp"
    }
   },
   "outputs": [
    {
     "data": {
      "text/html": [
       "<div class=\"dni-plaintext\">12</div>"
      ]
     },
     "metadata": {},
     "output_type": "display_data"
    }
   ],
   "source": [
    "calculateScore part2SampleResults"
   ]
  },
  {
   "cell_type": "markdown",
   "metadata": {},
   "source": [
    "For the actual input:"
   ]
  },
  {
   "cell_type": "code",
   "execution_count": 53,
   "metadata": {
    "dotnet_interactive": {
     "language": "fsharp"
    },
    "vscode": {
     "languageId": "dotnet-interactive.fsharp"
    }
   },
   "outputs": [
    {
     "data": {
      "text/html": [
       "<div class=\"dni-plaintext\">15457</div>"
      ]
     },
     "metadata": {},
     "output_type": "display_data"
    }
   ],
   "source": [
    "Part2.actualStrategy\n",
    "|> Part2.game \n",
    "|> calculateScore"
   ]
  }
 ],
 "metadata": {
  "kernelspec": {
   "display_name": ".NET (C#)",
   "language": "C#",
   "name": ".net-csharp"
  },
  "language_info": {
   "file_extension": ".cs",
   "mimetype": "text/x-csharp",
   "name": "C#",
   "pygments_lexer": "csharp",
   "version": "9.0"
  },
  "orig_nbformat": 4,
  "vscode": {
   "interpreter": {
    "hash": "916dbcbb3f70747c44a77c7bcd40155683ae19c65e1c03b4aa3499c5328201f1"
   }
  }
 },
 "nbformat": 4,
 "nbformat_minor": 2
}
